{
  "cells": [
    {
      "cell_type": "markdown",
      "metadata": {
        "id": "8N0E4DZLKSTF"
      },
      "source": [
        "[Open this notebook on Colab](https://colab.research.google.com/github/probabll/ntmi-tutorials/blob/main/T2.ipynb)"
      ]
    },
    {
      "cell_type": "markdown",
      "metadata": {
        "id": "lTTqtr1rkZlR"
      },
      "source": [
        "# Guide\n",
        "\n",
        "Check the guide carefully before starting."
      ]
    },
    {
      "cell_type": "markdown",
      "metadata": {
        "id": "fMgFqQJLktka"
      },
      "source": [
        "## ILOs\n",
        "\n",
        "After completing this lab you should be able to\n",
        "\n",
        "* implement a Naive Bayes text classifier in Python, this includes parameter estimation and assessment of joint, conditional and marginal probabilities\n",
        "* analyse space and time complexity of NBC (model and essential computations)\n",
        "* predict and evaluate models using precision/recall\n",
        "\n",
        "**General notes**\n",
        "\n",
        "* In this notebook you are expected to use $\\LaTeX$.\n",
        "* Use python3.\n",
        "* Use NLTK (3.5) to read annotated data.\n"
      ]
    },
    {
      "cell_type": "markdown",
      "metadata": {
        "id": "WtDuDBZrhgh1",
        "tags": [
          "toc"
        ]
      },
      "source": [
        "## Table of contents\n",
        "\n",
        "\n",
        "\n",
        "\n",
        "### Topics\n",
        "\n",
        "* [Labelled data](#sec:Labelled_data)\n",
        "* [Generative text classification](#sec:Generative_text_classification)\n",
        "* [Implementation](#sec:Implementation)\n",
        "* [Experiment](#sec:Experiment)\n",
        "* [Error analysis](#sec:Error_analysis)\n",
        "\n",
        "\n",
        "### Table of ungraded exercises\n",
        "\n",
        "1. [Visualise data](#ungraded-1)\n",
        "1. [Categorical parameters](#ungraded-2)\n",
        "1. [Log prior](#ungraded-3)\n",
        "1. [Log conditional](#ungraded-4)\n",
        "1. [Log joint](#ungraded-5)\n",
        "1. [Log marginal](#ungraded-6)\n",
        "1. [Log posterior](#ungraded-7)\n",
        "1. [Most probable class](#ungraded-8)\n",
        "1. [Estimate class probabilities (prior parameters)](#ungraded-9)\n",
        "1. [Estimate class-conditioned word probabilities (conditional parameters)](#ungraded-10)\n",
        "\n",
        "\n",
        "### Table of graded exercises\n",
        "\n",
        "*Important:* The grader may re-run your notebook to investigate its correctness, but you must upload your notebook with the cells already run and make sure that all your answers are visible without the need to re-run the notebook.\n",
        "\n",
        "\n",
        "Exercises have equal weights.\n",
        "\n",
        "\n",
        "1. [NBC for sentence polarity](#graded-1)\n",
        "1. [Grid Search](#graded-2)\n",
        "1. [Error analysis](#graded-3)"
      ]
    },
    {
      "cell_type": "markdown",
      "metadata": {
        "id": "Nzu5O8fZkhXd"
      },
      "source": [
        "\n",
        "## How to use this notebook\n",
        "\n",
        "* Check the entire notebook before you get started, this gives you an idea of what lies ahead.\n",
        "* Note that, as always, the notebook recaps theory, and contains solved quizzes. While you should probably make use of this theory recap, be careful not to spend disproportionately more time on this than you should. The theory here is very condensed, and to understand it you need to complete HC2a and the reading listed as preparation to this session.\n",
        "* The last section is optional for this tutorial, but note that it helps connect T1 and T2. So, you might want to work on it once you are done with the graded exercises.\n"
      ]
    },
    {
      "cell_type": "markdown",
      "metadata": {
        "id": "lp9RNyyRhgh4",
        "tags": [
          "topic"
        ]
      },
      "source": [
        "<a name='sec:Labelled_data'></a>\n",
        "# Labelled data\n",
        "\n",
        "In this tutorial we will be looking into text classification with labelled data (that is, text that has been categorised or somehow labelled for certain attributes).\n",
        "    \n",
        "This can be binary classification, for example,\n",
        "\n",
        "* `nltk.corpus.sentence_polarity`\n",
        "* `nltk.corpus.movie_reviews`\n",
        "* `nltk.corpus.subjectivity`    \n",
        "    \n",
        "One multiclass classification, for example,\n",
        "* `nltk.corpus.brown`    "
      ]
    },
    {
      "cell_type": "code",
      "execution_count": 6,
      "metadata": {
        "id": "dOcG72wQhgh4"
      },
      "outputs": [],
      "source": [
        "# You might need to install these:\n",
        "\n",
        "\n",
        "# !pip install pandas\n",
        "# !pip install seaborn\n",
        "# !pip install nltk\n",
        "# !pip install tabulate\n",
        "# !pip install sklearn"
      ]
    },
    {
      "cell_type": "code",
      "execution_count": 7,
      "metadata": {
        "id": "HmV9U9-7hgh5"
      },
      "outputs": [],
      "source": [
        "import pandas as pd\n",
        "import numpy as np\n",
        "import matplotlib.pyplot as plt\n",
        "import seaborn as sns\n",
        "import nltk"
      ]
    },
    {
      "cell_type": "code",
      "execution_count": 8,
      "metadata": {
        "id": "kQ3l6vAPhgh5",
        "outputId": "4d2fca33-5ace-4353-8af6-074ee99a8a1a",
        "colab": {
          "base_uri": "https://localhost:8080/"
        }
      },
      "outputs": [
        {
          "output_type": "stream",
          "name": "stderr",
          "text": [
            "[nltk_data] Downloading package punkt to /root/nltk_data...\n",
            "[nltk_data]   Unzipping tokenizers/punkt.zip.\n",
            "[nltk_data] Downloading package sentence_polarity to\n",
            "[nltk_data]     /root/nltk_data...\n",
            "[nltk_data]   Unzipping corpora/sentence_polarity.zip.\n",
            "[nltk_data] Downloading package movie_reviews to /root/nltk_data...\n",
            "[nltk_data]   Unzipping corpora/movie_reviews.zip.\n",
            "[nltk_data] Downloading package subjectivity to /root/nltk_data...\n",
            "[nltk_data]   Unzipping corpora/subjectivity.zip.\n",
            "[nltk_data] Downloading package brown to /root/nltk_data...\n",
            "[nltk_data]   Unzipping corpora/brown.zip.\n"
          ]
        },
        {
          "output_type": "execute_result",
          "data": {
            "text/plain": [
              "True"
            ]
          },
          "metadata": {},
          "execution_count": 8
        }
      ],
      "source": [
        "nltk.download('punkt')\n",
        "nltk.download('sentence_polarity')\n",
        "nltk.download('movie_reviews')\n",
        "nltk.download('subjectivity')\n",
        "nltk.download('brown')"
      ]
    },
    {
      "cell_type": "markdown",
      "metadata": {
        "id": "BZIMLagahgh6"
      },
      "source": [
        "It's always good to visualise some properties of the data we will be manipulating. Basic properties of interest are the frequency of the classes, the lenght of the documents in it.\n",
        "\n",
        "Visualising the frequency of classes can warn you that your dataset is unballanced, length of documents can warn you that some datasets can be challenging for you personal computer.\n",
        "\n",
        "We could plot these quantities any way we like, but pandas and seaborn together make it really easy to get insightful visualisations, so we will share this trick with you."
      ]
    },
    {
      "cell_type": "code",
      "execution_count": 9,
      "metadata": {
        "id": "UNaIOY6-hgh6"
      },
      "outputs": [],
      "source": [
        "def get_corpus_df(corpus, categories=None):\n",
        "    \"\"\"\n",
        "    Return a tall dataframe for a nltk text classification corpus.\n",
        "    corpus: an instance of nltk.corpus meant for text classification\n",
        "    categories: None or a list of categories (in case we want to use just a portion of the labelled documents)\n",
        "    \"\"\"\n",
        "    if categories is None:\n",
        "        categories = corpus.categories()\n",
        "    rows = []\n",
        "    for label in categories:\n",
        "        rows.extend((label, len(x)) for x in corpus.sents(categories=[label]))\n",
        "    return pd.DataFrame(rows, columns=['label', 'length'])"
      ]
    },
    {
      "cell_type": "markdown",
      "metadata": {
        "id": "9VRbDSMghgh7"
      },
      "source": [
        "**Subjectivity**"
      ]
    },
    {
      "cell_type": "code",
      "execution_count": 10,
      "metadata": {
        "id": "RuRNaiUGhgh7"
      },
      "outputs": [],
      "source": [
        "from nltk.corpus import subjectivity\n",
        "\n",
        "subjectivity_df = get_corpus_df(subjectivity)"
      ]
    },
    {
      "cell_type": "code",
      "execution_count": 11,
      "metadata": {
        "id": "DqD5r3HIhgh7",
        "outputId": "8a54e5ba-aaee-4f3b-ff8c-1f752e743a7f",
        "colab": {
          "base_uri": "https://localhost:8080/",
          "height": 529
        }
      },
      "outputs": [
        {
          "output_type": "display_data",
          "data": {
            "text/plain": [
              "<Figure size 511.111x500 with 1 Axes>"
            ],
            "image/png": "[encoded data removed]"
          },
          "metadata": {}
        }
      ],
      "source": [
        "_ = sns.catplot(y='label', orient='h', kind='count', data=subjectivity_df).set(title=\"subjectivity\")"
      ]
    },
    {
      "cell_type": "code",
      "execution_count": 12,
      "metadata": {
        "id": "8WVW7wEihgh7",
        "outputId": "6fad378d-e18a-4d19-ae95-779297823bae",
        "colab": {
          "base_uri": "https://localhost:8080/",
          "height": 529
        }
      },
      "outputs": [
        {
          "output_type": "display_data",
          "data": {
            "text/plain": [
              "<Figure size 511.111x500 with 1 Axes>"
            ],
            "image/png": "[encoded data removed]"
          },
          "metadata": {}
        }
      ],
      "source": [
        "_ = sns.catplot(x='length', y='label', kind='violin', data=subjectivity_df).set(title=\"subjectivity\")"
      ]
    },
    {
      "cell_type": "markdown",
      "metadata": {
        "id": "O6MyiAVuhgh8"
      },
      "source": [
        "Two types of documents (objective and subjective) that are equally represented, and they are reasonably short documents (mostly 10-40 tokens). The distribution of document length is mostly similar for both classes, but the objective class shows a longer tail."
      ]
    },
    {
      "cell_type": "markdown",
      "metadata": {
        "id": "OF-f_RFAhgh8"
      },
      "source": [
        "[link text](https://)It is also a good idea to inspect actual documents in each class. Familiarity with our datasets makes us better researchers."
      ]
    },
    {
      "cell_type": "code",
      "execution_count": 13,
      "metadata": {
        "id": "p8nmDtNOhgh8",
        "outputId": "95afda38-fd67-4365-c004-75c075a18044",
        "colab": {
          "base_uri": "https://localhost:8080/"
        }
      },
      "outputs": [
        {
          "output_type": "stream",
          "name": "stdout",
          "text": [
            "obj the movie begins in the past where a young boy named sam attempts to save celebi from a hunter .\n",
            "obj emerging from the human psyche and showing characteristics of abstract expressionism , minimalism and russian constructivism , graffiti removal has secured its place in the history of modern art while being created by artists who are unconscious of their artistic achievements .\n",
            "obj spurning her mother's insistence that she get on with her life , mary is thrown out of the house , rejected by joe , and expelled from school as she grows larger with child .\n",
            "obj amitabh can't believe the board of directors and his mind is filled with revenge and what better revenge than robbing the bank himself , ironic as it may sound .\n",
            "obj she , among others excentricities , talks to a small rock , gertrude , like if she was alive .\n",
            "obj this gives the girls a fair chance of pulling the wool over their eyes using their sexiness to poach any last vestige of common sense the dons might have had .\n",
            "obj styled after vh1's \" behind the music , \" this mockumentary profiles the rise and fall of an internet startup , called icevan . com .\n",
            "obj being blue is not his only predicament ; he also lacks the ability to outwardly express his emotions .\n",
            "obj the killer's clues are a perversion of biblical punishments for sins : stoning , burning , decapitation .\n",
            "obj david is a painter with painter's block who takes a job as a waiter to get some inspiration .\n"
          ]
        }
      ],
      "source": [
        "for x, y in zip(subjectivity.sents(categories=['obj']), ['obj'] * 10):\n",
        "    print(y, ' '.join(x))"
      ]
    },
    {
      "cell_type": "code",
      "execution_count": 14,
      "metadata": {
        "id": "jTLe5VR3hgh8",
        "outputId": "75ff0b21-3c27-410b-c3cf-1e88ece5dfed",
        "colab": {
          "base_uri": "https://localhost:8080/"
        }
      },
      "outputs": [
        {
          "output_type": "stream",
          "name": "stdout",
          "text": [
            "subj smart and alert , thirteen conversations about one thing is a small gem .\n",
            "subj color , musical bounce and warm seas lapping on island shores . and just enough science to send you home thinking .\n",
            "subj it is not a mass-market entertainment but an uncompromising attempt by one artist to think about another .\n",
            "subj a light-hearted french film about the spiritual quest of a fashion model seeking peace of mind while in a love affair with a veterinarian who is a non-practicing jew .\n",
            "subj my wife is an actress has its moments in looking at the comic effects of jealousy . in the end , though , it is only mildly amusing when it could have been so much more .\n",
            "subj works both as an engaging drama and an incisive look at the difficulties facing native americans .\n",
            "subj even a hardened voyeur would require the patience of job to get through this interminable , shapeless documentary about the swinging subculture .\n",
            "subj when perry fists a bull at the moore farm , it's only a matter of time before he gets the upper hand in matters of the heart .\n",
            "subj the characters . . . are paper-thin , and their personalities undergo radical changes when it suits the script .\n",
            "subj the script is a tired one , with few moments of joy rising above the stale material .\n"
          ]
        }
      ],
      "source": [
        "for x, y in zip(subjectivity.sents(categories=['subj']), ['subj'] * 10):\n",
        "    print(y, ' '.join(x))"
      ]
    },
    {
      "cell_type": "markdown",
      "metadata": {
        "id": "vc8iNQ1LKSTQ"
      },
      "source": [
        "<a name='ungraded-1'></a> **Ungraded Exercise 1 - Visualise data**\n",
        "\n",
        "Use the same 3 visualisation/inspections techniques as well as 1 more (which you can choose) on the following three corpora:\n",
        "\n",
        "* `nlt.corpus.sentence_polarity`\n",
        "* `nltk.corpus.movie_reviews`\n",
        "* `nltk.corpus.brown`\n",
        "\n",
        "and like we did, make some remarks about what you see. For `brown` which has many classes, you can inspect fewer documents per class, or pick 3-4 of the classes and inspect documents for those only."
      ]
    },
    {
      "cell_type": "markdown",
      "metadata": {
        "id": "UYI1D0GzKSTR"
      },
      "source": [
        "\n",
        "<details>\n",
        "    <summary> <b>Click to see a solution</b> </summary>\n",
        "\n",
        "If you double-click the cell, you will be able to copy the code:\n",
        "\n",
        "```python\n",
        "\n",
        "from nltk.corpus import sentence_polarity\n",
        "\n",
        "# class frequency\n",
        "# length histogram\n",
        "\n",
        "sentence_polarity_df = get_corpus_df(sentence_polarity)\n",
        "_ = sns.catplot(y='label', orient='h', kind='count', data=sentence_polarity_df).set(title=\"sentence_polarity\")\n",
        "_ = sns.catplot(x='length', y='label', kind='violin', data=sentence_polarity_df).set(title=\"sentence_polarity\")\n",
        "from nltk.corpus import movie_reviews\n",
        "movie_reviews_df = get_corpus_df(movie_reviews)\n",
        "_ = sns.catplot(y='label', orient='h', kind='count', data=movie_reviews_df).set(title=\"movie_reviews\")\n",
        "_ = sns.catplot(x='length', y='label', kind='violin', data=movie_reviews_df).set(title=\"movie_reviews\")\n",
        "from nltk.corpus import brown\n",
        "brown_df = get_corpus_df(brown)\n",
        "_ = sns.catplot(y='label', orient='h', kind='count', data=brown_df).set(title=\"brown\")\n",
        "_ = sns.catplot(x='length', y='label', kind='violin', data=brown_df).set(title=\"brown\")\n",
        "\n",
        "\n",
        "# Also list some examples\n",
        "\n",
        "# Additional (examples):\n",
        "# * List the most frequent words\n",
        "# * Plot word vs freq\n",
        "# * Plot rank vs freq\n",
        "\n",
        "# from itertools import compress\n",
        "\n",
        "# # for y in brown.categories():\n",
        "# #     print(\"Label: '{}'\".format(y))\n",
        "# #     for x in compress(brown.sents(categories=[y]), [True] * 2):\n",
        "# #         print(' '.join(x))\n",
        "\n",
        "```\n",
        "\n",
        "---\n",
        "    \n",
        "</details>      \n"
      ]
    },
    {
      "cell_type": "markdown",
      "metadata": {
        "id": "1HXQUuAthgh9"
      },
      "source": [
        "In this tutorial, **we will focus on sentiment classification** using the `sentence_polarity` dataset."
      ]
    },
    {
      "cell_type": "code",
      "execution_count": 15,
      "metadata": {
        "id": "cqtlrqAPhgh-"
      },
      "outputs": [],
      "source": [
        "from tabulate import tabulate\n",
        "from collections import Counter"
      ]
    },
    {
      "cell_type": "markdown",
      "metadata": {
        "id": "D3mcQZNahgh-",
        "tags": [
          "topic"
        ]
      },
      "source": [
        "<a name='sec:Generative_text_classification'></a>\n",
        "#  Generative text classification\n",
        "\n",
        "In NLP we often want to design systems that can read a piece of text and categorise it as an instance of one of a finite set of classes. We call those systems *text classifiers* (or text categorisers).\n",
        "    \n",
        "It is seldom the case that a piece of text can be reasonably mapped to *a single category*, for various reasons that we have already discussed: language is ambiguous, we often lack context (about the situation, the writer, the reader), and many implicit attributes of text are subjective by nature (e.g., one's opinion about a product). So, in practice we face text classification as a pipeline: we combine a *statistical model* and a *decision rule*.\n",
        "    \n",
        "The statistical model realises the mapping from a given piece of text to a *conditional probability distribution* (cpd) over the categories available. The decision rule uses the information in this distribution to elect a single category that is shown to the user.\n",
        "    \n",
        "---"
      ]
    },
    {
      "cell_type": "markdown",
      "metadata": {
        "id": "RBH0HHE8hgh_"
      },
      "source": [
        "Consider the case of *sentiment classification* with three sentiment levels (i.e., negative, neutral, and positive).\n",
        "\n",
        "A **probabilistic sentiment classifier** maps a document $x \\in \\mathcal X$ to a probability distribution over the sample space $\\mathcal Y = \\{-1, 0, +1\\}$, where -1 stands for negative, 0 stands for neutral, and +1 stands for positive sentiment. Note that we call $x$ a document, but it could be a sentence, a paragraph, or any granularity we like. A document $x$ is a sequence of words $x=\\langle w_{1}, \\ldots, w_{l} \\rangle$, or $w_{1:l}$ for short, where $l = |x|$ is the sequence length. Each word belongs to a vocabulary $\\mathcal W$ of known words, and the vocabulary size is $V$.\n",
        "The space of all possible documents $\\mathcal X$ is the space of all sequences made of words from $\\mathcal W$, and these sequences can be of any size, a set like that is denoted $\\mathcal W^*$.\n",
        "\n",
        "So, formally, we have a random variable $X$ taking on documents in the set $\\mathcal X$, a random variable $Y$ taking on classes in the set $\\mathcal Y$, and a random variable $W$ taking on words in a vocabulary $\\mathcal W$. A statistical model then establishes a map from any one $x \\in \\mathcal X$ to the cpd $P_{Y|X=x}$."
      ]
    },
    {
      "cell_type": "markdown",
      "metadata": {
        "id": "UxVbcmOrhgh_"
      },
      "source": [
        "As we said in the course, the probability of a certain sentiment $y \\in \\{-1, 0, 1\\}$ given a piece of text $x$ is not a real attribute of $x$ in the world. Rather, is is a quantification of the uncertainty that a *model of sentiment analysis* can make given text and given all of the design assumptions we made.\n",
        "\n",
        "\n",
        "So, let's **design** one such model. We will pick sentiment analysis as the example, but other text classification problems fit in the same framework as long as the target classes come from a finite set of disjoint categories (e.g., sentiments, or topics, or types of named-entities, or spam vs not spam, or product categorisation in online shops, etc). Technically such sets are called *countably finite sets*.\n",
        "\n",
        "\n",
        "**Goal** We want a conditional distribution $P_{Y|X=x}$ that, given some piece of text $x$ (e.g., a sentence, a paragraph, or a document), quantifies our model's beliefs in each of the classes in the sample space $\\mathcal Y$.\n",
        "\n",
        "**Challenge** At this point in the course we only know how to model Categorical distributions using the so called *tabular representation* whereby a conditional probability distribution (cpd) $Y|X=x$ would require its own set of parameters which are unique to the outcome $x$ we condition on. As documents are really long, and there's no limit to how many different documents there can be in the world, we would have to store infinitely many distributions. Even if we choose to only store those for which we have observed some $x$ in the training data, we would face another problem, namely, we would not be able to classify novel documents (those never seen before). This is a key challenge known as *data sparsity*.\n",
        "\n",
        "**Solution** We will model a joint distribution $P_{YX}$ over $X$ and $Y$ which we will factorise using some crucial conditinal independence assumptions, namely, we will factorise $Y$ first, as in $P_{YX}(y,x)=P_Y(y)P_{X|Y}(x|y)$, and then assume that words in $x$ are independent of one another when conditioned on the class $y$, which leads to $P_{YX}(y,x) \\overset{\\text{ind.}}{=} P_Y(y)\\prod_{i=1}^l P_{W|Y}(w_i|y)$.\n",
        "\n",
        "This is the *naive Bayes classifier*. It's called naive because the independence assumption is unrealistic (in reality words are not independent of one another), but they are useful to get to a feasible model. It's called Bayes because to classify a given document $x$, we need to infer the distribution $P_{Y|X=x}$ from the joint distribution, which we can do via *Bayes rule*, namely, $P_{Y|X}(y|x) = \\frac{P_{YX}(y, x)}{P_X(x)}$. The numerator is the joint probability, which we just defined earlier, and the denominator is the marginal probability, which we obtain via marginalisation $P_X(x) = \\sum_{k \\in \\mathcal Y} P_{YX}(k, x)$.\n",
        "\n",
        "We will then use a Categorical distribution for the prior distribution $P_Y$ and a set of $K$ Categorical distributions, one cpd $P_{W|Y=y}$ per class, for the class-conditioned distributions over the vocabulary. Specifically, this is the generative story:\n",
        "\n",
        "1. Draw a class $Y \\sim \\mathrm{Cat}(\\boldsymbol\\phi)$ with $\\boldsymbol\\phi \\in \\Delta_{K-1}$\n",
        "2. Draw one word a time $W|Y=y \\sim \\mathrm{Cat}(\\boldsymbol\\pi^{(y)})$ with $\\boldsymbol\\pi^{(y)} \\in \\Delta_{V-1}$, until you generate a stop symbol (a special token in the vocabulary, used to denote the end of the document/sentence).\n",
        "\n",
        "Parameter estimation then follows via maximum likelihood estimation (MLE) for Categorical distributions, and to avoid 0 probabilities for unseen words in the future, we use *Laplace smoothing* (or add $\\alpha$ smoothing).\n",
        "\n",
        "**Looking for a refresher?** If you are not comfortable with the Categorical distribution, make sure to check T1. This [video-tutorial](https://youtu.be/1vE8zKj0-GI) (also available on Canvas) may be useful."
      ]
    },
    {
      "cell_type": "markdown",
      "metadata": {
        "id": "QyW2efiNhgiG",
        "tags": [
          "topic"
        ]
      },
      "source": [
        "<a name='sec:Implementation'></a>\n",
        "# Implementation\n",
        "\n",
        "    \n",
        "We will design a python class that implements NBC. We will start with some helper code to manipulate Categorical cpds, then implement the key quantities in NBC one by one. Finally, when we have all parts together we will put them together in a python class container.\n",
        "    \n",
        "Most exercises have solutions and test cases. We advise you to invest some time trying to develop the solutions yourself (before checking or using our own solutions), the test cases will help you with that. In case your Python skills are not sufficient at the moment, study the solutions carefully."
      ]
    },
    {
      "cell_type": "code",
      "execution_count": 16,
      "metadata": {
        "id": "koy2L_kihgiI"
      },
      "outputs": [],
      "source": [
        "def validate_categorical_cpd(params: dict):\n",
        "    \"\"\"\n",
        "    Just to remind you a valid Categorical cpd is a parameterised by a vector of positive\n",
        "    numbers that sum to 1.\n",
        "\n",
        "    We normally think of the parameters as a sequence or a vector,\n",
        "    but in a programming language, it can be useful to use a dict,\n",
        "    with a dict the indexing does not need to be numerical (we could use the label 'name'\n",
        "    or the word itself to index positions in the dictionary).\n",
        "\n",
        "    In some cases a dict may be considered slow compared to a list or array,\n",
        "    but for the scale of our experiments in the tutorial, it's fine and\n",
        "    conceptually much easier.\n",
        "\n",
        "    params: map outcome to probability mass\n",
        "    \"\"\"\n",
        "    return all(0 <= p <= 1 for p in params.values()) and np.isclose(sum(p for p in params.values()), 1., 1e-4)"
      ]
    },
    {
      "cell_type": "code",
      "execution_count": 17,
      "metadata": {
        "id": "unKdU2GBhgiI"
      },
      "outputs": [],
      "source": [
        "assert validate_categorical_cpd({'pos': 0.2, 'neg': 0.8})  # fine\n",
        "assert validate_categorical_cpd({'pos': 0.3, 'neg': 0.7})  # fine\n",
        "assert validate_categorical_cpd({'pos': 0.2, 'neu': 0.1, 'neg': 0.7})  # we can have more than 2, that's fine\n",
        "assert validate_categorical_cpd({'pos': 0.2, 'neu': 0.0, 'neg': 0.8})  # we can have 0 probs inside\n",
        "assert not validate_categorical_cpd({'pos': 0.2, 'neg': 0.7})  # not good\n",
        "assert not validate_categorical_cpd({'pos': 0.2})  # not good\n",
        "assert not validate_categorical_cpd({'pos': -0.2, 'neu': 0.2, 'neg': 0.8})  # we cannot have 'negative probs' inside"
      ]
    },
    {
      "cell_type": "markdown",
      "metadata": {
        "id": "46wdJpE7hgiI"
      },
      "source": [
        "We will now begin implementing a little piece at a time all functionalities necessary to get NBC off the floor.\n",
        "\n",
        "As we will be manipulating some tables, the first two functions are already implemented for you to show you how you can use python dictionaries to store tables."
      ]
    },
    {
      "cell_type": "markdown",
      "metadata": {
        "id": "LDMYs0r2KSTT"
      },
      "source": [
        "<a name='ungraded-2'></a> **Ungraded Exercise 2 - Categorical parameters**\n",
        "\n",
        "Study and understand the design of `get_prior_parameter` and `get_cond_parameter` below."
      ]
    },
    {
      "cell_type": "code",
      "execution_count": 18,
      "metadata": {
        "id": "rpIQJ7tdhgiI"
      },
      "outputs": [],
      "source": [
        "def get_prior_parameter(y: str, phi: dict):\n",
        "    \"\"\"\n",
        "    Return P(Y=y) under the model Categorical(phi).\n",
        "\n",
        "    y: the label\n",
        "    phi: a dictionary that maps from the label to its probability mass\n",
        "        even though mathematically we think of phi as a vector,\n",
        "        in code it can be convenient to treat it like a dictionary some times,\n",
        "        for example, as a dictionary we can use labels that are strings (rather than 0-based indices)\n",
        "\n",
        "        For this implementation assume that phi has already been validated as a Categorical parameter.\n",
        "\n",
        "    Return: Categorical(y|\\phi)\n",
        "    \"\"\"\n",
        "    # **SOLUTION**\n",
        "    return phi.get(y, 0)  # if an outcome is outside the support, it gets 0 mass"
      ]
    },
    {
      "cell_type": "code",
      "execution_count": 19,
      "metadata": {
        "id": "ii0IbstlhgiI"
      },
      "outputs": [],
      "source": [
        "assert get_prior_parameter('pos', {'pos': 0.2, 'neg': 0.8}) == 0.2\n",
        "assert get_prior_parameter('neg', {'pos': 0.3, 'neg': 0.7}) == 0.7\n",
        "assert get_prior_parameter('neu', {'pos': 0.3, 'neg': 0.7}) == 0."
      ]
    },
    {
      "cell_type": "code",
      "execution_count": 20,
      "metadata": {
        "id": "HfK4RLBvhgiJ"
      },
      "outputs": [],
      "source": [
        "def get_cond_parameter(y: str, w: str, pi: dict, UNK=None):\n",
        "    \"\"\"\n",
        "    Return P(W=w|Y=y) under the model Categorical(\\pi^{(y)}).\n",
        "\n",
        "    y: the label\n",
        "    w: word\n",
        "    pi: a dictionary of dictionaries\n",
        "        first we can index it using a label to obtain a dict as return,\n",
        "        the latter dict are the parameters for a distribution over the vocabulary given the label\n",
        "        and it can be indexed using a word to obtain a probability mass\n",
        "\n",
        "        even though mathematically we think of pi as a table/matrix\n",
        "        in code it can be convenient to treat it like a dictionary some times,\n",
        "        for example, as a dictionary we can use labels that are strings (rather than 0-based indices)\n",
        "        and words that are strings (rather than 0-based indices to a vocabulary).\n",
        "\n",
        "        For this implementation assume that every dict inside of pi\n",
        "         has already been validated as a Categorical parameter.\n",
        "    UNK: reserved for future use\n",
        "\n",
        "    Return: Categorical(w|\\phi^{(y)})\n",
        "    \"\"\"\n",
        "    # **SOLUTION**\n",
        "    cpd = pi.get(y, None)\n",
        "    if cpd is None:  # the label is not in the support of the model\n",
        "        return 0.\n",
        "    return cpd.get(w, 0.)  # if a word is outside the support, it gets 0 mass"
      ]
    },
    {
      "cell_type": "code",
      "execution_count": 21,
      "metadata": {
        "id": "d4qkhmcchgiJ"
      },
      "outputs": [],
      "source": [
        "# A test case for us, the cpds in it are valid as we can see\n",
        "# (do not change this test case, it will be used in other cells)\n",
        "test_phi_1 = {'pos': 0.6, 'neg': 0.4}\n",
        "test_pi_1 = {\n",
        "    'pos': {'not': 0.05, 'so': 0.1, 'good': 0.5, 'bad': 0.15, 'okay': 0.2 },\n",
        "    'neg': {'not': 0.05, 'so': 0.1, 'good': 0.1, 'bad': 0.5, 'okay': 0.25 }\n",
        "}\n",
        "assert validate_categorical_cpd(test_phi_1)\n",
        "assert all(validate_categorical_cpd(cpd) for y, cpd in test_pi_1.items())\n",
        "\n",
        "# Fine\n",
        "assert get_cond_parameter('pos', 'good', test_pi_1) == 0.5\n",
        "assert get_cond_parameter('pos', 'not', test_pi_1) == 0.05\n",
        "assert get_cond_parameter('pos', 'so', test_pi_1) == 0.1\n",
        "assert get_cond_parameter('pos', 'bad', test_pi_1) == 0.15\n",
        "assert get_cond_parameter('pos', 'okay', test_pi_1) == 0.2\n",
        "\n",
        "# Fine\n",
        "assert get_cond_parameter('neg', 'good', test_pi_1) == 0.1\n",
        "assert get_cond_parameter('neg', 'not', test_pi_1) == 0.05\n",
        "assert get_cond_parameter('neg', 'so', test_pi_1) == 0.1\n",
        "assert get_cond_parameter('neg', 'bad', test_pi_1) == 0.5\n",
        "assert get_cond_parameter('neg', 'okay', test_pi_1) == 0.25\n",
        "\n",
        "# Not in the support\n",
        "assert get_cond_parameter('neu', 'okay', test_pi_1) == 0.\n",
        "assert get_cond_parameter('pos', 'strange', test_pi_1) == 0.\n",
        "assert get_cond_parameter('neg', 'strange', test_pi_1) == 0.\n",
        "assert get_cond_parameter('neu', 'strange', test_pi_1) == 0."
      ]
    },
    {
      "cell_type": "markdown",
      "metadata": {
        "id": "G-Zc42j-KSTU"
      },
      "source": [
        "<a name='ungraded-3'></a> **Ungraded Exercise 3 - Log prior**\n",
        "\n",
        "Implement a function to return $\\log P_Y(y)$ for a label $y \\in \\mathcal Y$ under this model. Your function should use the functionality `get_prior_parameter` and/or `get_cond_parameter` from earlier. Assume the model parameters are already available.\n",
        "\n",
        "Below you will find some assertions (ie, test cases) for you to verify your implementation.\n",
        "\n",
        "See API below:"
      ]
    },
    {
      "cell_type": "code",
      "execution_count": 24,
      "metadata": {
        "id": "T5HP0Yj3hgiK",
        "tags": [
          "student"
        ]
      },
      "outputs": [],
      "source": [
        "def log_prior_prob(y: str, phi: dict):\n",
        "    \"\"\"Return log P(Y=y) under the model\"\"\"\n",
        "    raise NotImplemented(\"Implement me!\")"
      ]
    },
    {
      "cell_type": "markdown",
      "metadata": {
        "id": "OP7dLwtHKSTV"
      },
      "source": [
        "\n",
        "<details>\n",
        "    <summary> <b>Click to see a solution</b> </summary>\n",
        "\n",
        "If you double-click the cell, you will be able to copy the code:\n",
        "\n",
        "```python\n",
        "\n",
        "def log_prior_prob(y: str, phi: dict):\n",
        "    \"\"\"Return log P(Y=y) under the model\"\"\"\n",
        "    return np.log(get_prior_parameter(y, phi))    \n",
        "\n",
        "```\n",
        "\n",
        "---\n",
        "    \n",
        "</details>      \n"
      ]
    },
    {
      "cell_type": "code",
      "execution_count": 25,
      "metadata": {
        "id": "F8avNn8mhgiK",
        "outputId": "1e9a9b39-6925-4320-b06f-fe7b478d7a46",
        "colab": {
          "base_uri": "https://localhost:8080/",
          "height": 263
        }
      },
      "outputs": [
        {
          "output_type": "error",
          "ename": "TypeError",
          "evalue": "'NotImplementedType' object is not callable",
          "traceback": [
            "\u001b[0;31m---------------------------------------------------------------------------\u001b[0m",
            "\u001b[0;31mTypeError\u001b[0m                                 Traceback (most recent call last)",
            "\u001b[0;32m<ipython-input-25-c4a9b1521801>\u001b[0m in \u001b[0;36m<cell line: 0>\u001b[0;34m()\u001b[0m\n\u001b[1;32m      1\u001b[0m \u001b[0;31m# Your code should pass these tests\u001b[0m\u001b[0;34m\u001b[0m\u001b[0;34m\u001b[0m\u001b[0m\n\u001b[0;32m----> 2\u001b[0;31m \u001b[0;32massert\u001b[0m \u001b[0mlog_prior_prob\u001b[0m\u001b[0;34m(\u001b[0m\u001b[0;34m'pos'\u001b[0m\u001b[0;34m,\u001b[0m \u001b[0;34m{\u001b[0m\u001b[0;34m'pos'\u001b[0m\u001b[0;34m:\u001b[0m \u001b[0;36m0.2\u001b[0m\u001b[0;34m,\u001b[0m \u001b[0;34m'neg'\u001b[0m\u001b[0;34m:\u001b[0m \u001b[0;36m0.8\u001b[0m\u001b[0;34m}\u001b[0m\u001b[0;34m)\u001b[0m \u001b[0;34m==\u001b[0m \u001b[0mnp\u001b[0m\u001b[0;34m.\u001b[0m\u001b[0mlog\u001b[0m\u001b[0;34m(\u001b[0m\u001b[0;36m0.2\u001b[0m\u001b[0;34m)\u001b[0m\u001b[0;34m\u001b[0m\u001b[0;34m\u001b[0m\u001b[0m\n\u001b[0m\u001b[1;32m      3\u001b[0m \u001b[0;32massert\u001b[0m \u001b[0mlog_prior_prob\u001b[0m\u001b[0;34m(\u001b[0m\u001b[0;34m'neg'\u001b[0m\u001b[0;34m,\u001b[0m \u001b[0;34m{\u001b[0m\u001b[0;34m'pos'\u001b[0m\u001b[0;34m:\u001b[0m \u001b[0;36m0.3\u001b[0m\u001b[0;34m,\u001b[0m \u001b[0;34m'neg'\u001b[0m\u001b[0;34m:\u001b[0m \u001b[0;36m0.7\u001b[0m\u001b[0;34m}\u001b[0m\u001b[0;34m)\u001b[0m \u001b[0;34m==\u001b[0m \u001b[0mnp\u001b[0m\u001b[0;34m.\u001b[0m\u001b[0mlog\u001b[0m\u001b[0;34m(\u001b[0m\u001b[0;36m0.7\u001b[0m\u001b[0;34m)\u001b[0m\u001b[0;34m\u001b[0m\u001b[0;34m\u001b[0m\u001b[0m\n",
            "\u001b[0;32m<ipython-input-24-abd2075519a5>\u001b[0m in \u001b[0;36mlog_prior_prob\u001b[0;34m(y, phi)\u001b[0m\n\u001b[1;32m      1\u001b[0m \u001b[0;32mdef\u001b[0m \u001b[0mlog_prior_prob\u001b[0m\u001b[0;34m(\u001b[0m\u001b[0my\u001b[0m\u001b[0;34m:\u001b[0m \u001b[0mstr\u001b[0m\u001b[0;34m,\u001b[0m \u001b[0mphi\u001b[0m\u001b[0;34m:\u001b[0m \u001b[0mdict\u001b[0m\u001b[0;34m)\u001b[0m\u001b[0;34m:\u001b[0m\u001b[0;34m\u001b[0m\u001b[0;34m\u001b[0m\u001b[0m\n\u001b[1;32m      2\u001b[0m     \u001b[0;34m\"\"\"Return log P(Y=y) under the model\"\"\"\u001b[0m\u001b[0;34m\u001b[0m\u001b[0;34m\u001b[0m\u001b[0m\n\u001b[0;32m----> 3\u001b[0;31m     \u001b[0;32mraise\u001b[0m \u001b[0mNotImplemented\u001b[0m\u001b[0;34m(\u001b[0m\u001b[0;34m\"Implement me!\"\u001b[0m\u001b[0;34m)\u001b[0m\u001b[0;34m\u001b[0m\u001b[0;34m\u001b[0m\u001b[0m\n\u001b[0m",
            "\u001b[0;31mTypeError\u001b[0m: 'NotImplementedType' object is not callable"
          ]
        }
      ],
      "source": [
        "# Your code should pass these tests\n",
        "assert log_prior_prob('pos', {'pos': 0.2, 'neg': 0.8}) == np.log(0.2)\n",
        "assert log_prior_prob('neg', {'pos': 0.3, 'neg': 0.7}) == np.log(0.7)"
      ]
    },
    {
      "cell_type": "markdown",
      "metadata": {
        "id": "QPPMvtfMKSTZ"
      },
      "source": [
        "<a name='ungraded-4'></a> **Ungraded Exercise 4 - Log conditional**\n",
        "\n",
        "Implement a function to return $\\log P_{X|Y}(x|y)$ for a label $y \\in \\mathcal Y$  and document $x \\in \\mathcal X$ under this model. Your function should use the functionality `get_prior_parameter` and/or `get_cond_parameter` from earlier. Assume the model parameters are already available.\n",
        "\n",
        "Below you will find some assertions (ie, test cases) for you to verify your implementation.\n",
        "\n",
        "See API below:"
      ]
    },
    {
      "cell_type": "code",
      "execution_count": null,
      "metadata": {
        "id": "b1c4kPCLhgiL",
        "tags": [
          "student"
        ]
      },
      "outputs": [],
      "source": [
        "def log_conditional_prob(x: list, y: str, pi: dict):\n",
        "    \"\"\"Return log P(X=x|Y=y)\"\"\"\n",
        "    raise NotImplemented(\"Implement me!\")"
      ]
    },
    {
      "cell_type": "markdown",
      "metadata": {
        "id": "S5gQPMU6KSTa"
      },
      "source": [
        "\n",
        "<details>\n",
        "    <summary> <b>Click to see a solution</b> </summary>\n",
        "\n",
        "If you double-click the cell, you will be able to copy the code:\n",
        "\n",
        "```python\n",
        "\n",
        "def log_conditional_prob(x: list, y: str, pi: dict):\n",
        "    \"\"\"Return log P(X=x|Y=y) under the model\"\"\"\n",
        "    # named arguments help us not make mistakes (for example, flipping y and w accidentaly)\n",
        "    return sum(np.log(get_cond_parameter(y=y, w=w, pi=pi)) for w in x)      \n",
        "\n",
        "```\n",
        "\n",
        "---\n",
        "    \n",
        "</details>      \n"
      ]
    },
    {
      "cell_type": "code",
      "execution_count": null,
      "metadata": {
        "id": "FJNBo56nhgiL"
      },
      "outputs": [],
      "source": [
        "# Your code should pass these tests\n",
        "\n",
        "# Fine\n",
        "assert np.isclose(log_conditional_prob(\"not bad\".split(), 'pos', test_pi_1), np.log(0.05 * 0.15), 1e-3)\n",
        "assert np.isclose(log_conditional_prob(\"not good\".split(), 'pos', test_pi_1), np.log(0.05 * 0.5), 1e-3)\n",
        "assert np.isclose(log_conditional_prob(\"good\".split(), 'pos', test_pi_1), np.log(0.5), 1e-3)\n",
        "\n",
        "assert np.isclose(log_conditional_prob(\"not bad\".split(), 'neg', test_pi_1), np.log(0.05 * 0.5), 1e-3)\n",
        "assert np.isclose(log_conditional_prob(\"not good\".split(), 'neg', test_pi_1), np.log(0.05 * 0.1), 1e-3)\n",
        "assert np.isclose(log_conditional_prob(\"good\".split(), 'neg', test_pi_1), np.log(0.1), 1e-3)"
      ]
    },
    {
      "cell_type": "markdown",
      "metadata": {
        "id": "eYd8sV_ThgiL"
      },
      "source": [
        "A good code should also deal with cases that *are not* in the support of the joint distribution. Those should have 0 probability for now (later we discuss a technique to avoid 0 probs). The log of 0 is -inf."
      ]
    },
    {
      "cell_type": "code",
      "execution_count": null,
      "metadata": {
        "id": "BZfP5eyMhgiL"
      },
      "outputs": [],
      "source": [
        "# Not in the support (should produce warnings, but pass the test)\n",
        "assert log_prior_prob('neu', {'pos': 0.3, 'neg': 0.7}) == -np.inf\n",
        "assert log_conditional_prob(\"not that bad\".split(), 'pos', test_pi_1) == -np.inf\n",
        "assert log_conditional_prob(\"not that bad\".split(), 'neg', test_pi_1) == -np.inf\n",
        "assert log_conditional_prob(\"not okay\".split(), 'neu', test_pi_1) == -np.inf\n",
        "\n",
        "# you will probably get some RuntimeWarning, this is okay here"
      ]
    },
    {
      "cell_type": "markdown",
      "metadata": {
        "id": "KzqYYh0JKSTa"
      },
      "source": [
        "<a name='ungraded-5'></a> **Ungraded Exercise 5 - Log joint**\n",
        "\n",
        "Implement a function to return $\\log P_{YX}(y, x)$ for a label $y \\in \\mathcal Y$  and document $x \\in \\mathcal X$ under this model. Your function should use the functionality `log_prior_prob` and/or `log_conditional_prob` from earlier. Assume the model parameters are already available.\n",
        "\n",
        "Below you will find some assertions (ie, test cases) for you to verify your implementation.\n",
        "\n",
        "See API below:"
      ]
    },
    {
      "cell_type": "code",
      "execution_count": null,
      "metadata": {
        "id": "VQ_9K0DnhgiM",
        "tags": [
          "student"
        ]
      },
      "outputs": [],
      "source": [
        "def log_joint_prob(y: str, x: list, phi: dict, pi: dict):\n",
        "    \"\"\"Return log P(Y=y, X=x) under the model\"\"\"\n",
        "    raise NotImplemented(\"Implement me!\")"
      ]
    },
    {
      "cell_type": "markdown",
      "metadata": {
        "id": "G5RpOvAeKSTa"
      },
      "source": [
        "\n",
        "<details>\n",
        "    <summary> <b>Click to see a solution</b> </summary>\n",
        "\n",
        "If you double-click the cell, you will be able to copy the code:\n",
        "\n",
        "```python\n",
        "\n",
        "def log_joint_prob(y: str, x: list, phi: dict, pi: dict):\n",
        "    \"\"\"Return log P(Y=y, X=x) under the model\"\"\"    \n",
        "    # named arguments help us not make mistakes (eg, flipping x and y in the conditional)\n",
        "    return log_prior_prob(y, phi) + log_conditional_prob(x=x, y=y, pi=pi)\n",
        "\n",
        "```\n",
        "\n",
        "---\n",
        "    \n",
        "</details>      \n"
      ]
    },
    {
      "cell_type": "code",
      "execution_count": null,
      "metadata": {
        "id": "3bShgSO8hgiM"
      },
      "outputs": [],
      "source": [
        "# Your code should pass these tests\n",
        "\n",
        "assert np.isclose(\n",
        "    log_joint_prob(y='pos', x=\"not bad\".split(), phi=test_phi_1, pi=test_pi_1),\n",
        "    np.log(0.6 * 0.05 * 0.15),\n",
        "    1e-3\n",
        ")\n",
        "assert np.isclose(\n",
        "    log_joint_prob(y='pos', x=\"not good\".split(), phi=test_phi_1, pi=test_pi_1),\n",
        "    np.log(0.6 * 0.05 * 0.5),\n",
        "    1e-3\n",
        ")\n",
        "\n",
        "\n",
        "assert np.isclose(\n",
        "    log_joint_prob(y='neg', x=\"not bad\".split(), phi=test_phi_1, pi=test_pi_1),\n",
        "    np.log(0.4 * 0.05 * 0.5),\n",
        "    1e-3\n",
        ")\n",
        "assert np.isclose(\n",
        "    log_joint_prob(y='neg', x=\"not good\".split(), phi=test_phi_1, pi=test_pi_1),\n",
        "    np.log(0.4 * 0.05 * 0.1),\n",
        "    1e-3\n",
        ")\n",
        "\n",
        "# NBC is not sensitive to the order of words within the sentence\n",
        "\n",
        "assert np.isclose(\n",
        "    log_joint_prob(y='pos', x=\"bad not\".split(), phi=test_phi_1, pi=test_pi_1),\n",
        "    np.log(0.6 * 0.05 * 0.15),\n",
        "    1e-3\n",
        ")\n",
        "\n",
        "assert np.isclose(\n",
        "    log_joint_prob(y='neg', x=\"good not\".split(), phi=test_phi_1, pi=test_pi_1),\n",
        "    np.log(0.4 * 0.05 * 0.1),\n",
        "    1e-3\n",
        ")"
      ]
    },
    {
      "cell_type": "markdown",
      "metadata": {
        "id": "zG3inb6vKSTb"
      },
      "source": [
        "<a name='ungraded-6'></a> **Ungraded Exercise 6 - Log marginal**\n",
        "\n",
        "Implement a function to return $\\log P_{X}(x)$ for a document $x \\in \\mathcal X$ under this model. Your function should use the functionality `log_prior_prob` and/or `log_conditional_prob` and/or `log_joint_prob` from earlier. Assume the model parameters are already available.\n",
        "\n",
        "Below you will find some assertions (ie, test cases) for you to verify your implementation.\n",
        "\n",
        "See API below:"
      ]
    },
    {
      "cell_type": "code",
      "execution_count": null,
      "metadata": {
        "id": "QNxoCQTWhgiN",
        "tags": [
          "student"
        ]
      },
      "outputs": [],
      "source": [
        "def log_marginal_prob(x: list, phi: dict, pi: dict):\n",
        "    \"\"\"Return log P(X=x) under the model\"\"\"\n",
        "    raise NotImplemented(\"Implement me!\")"
      ]
    },
    {
      "cell_type": "markdown",
      "metadata": {
        "id": "3JA7rxuTKSTb"
      },
      "source": [
        "\n",
        "<details>\n",
        "    <summary> <b>Click to see a solution</b> </summary>\n",
        "\n",
        "If you double-click the cell, you will be able to copy the code:\n",
        "\n",
        "```python\n",
        "\n",
        "# **SOLUTION**\n",
        "def log_marginal_prob(x: list, phi: dict, pi: dict):\n",
        "    \"\"\"Return log P(X=x) under the model\"\"\"    \n",
        "    # Tips:\n",
        "    # * compute the joint probability for x and each of the possible labels\n",
        "    #   marginalise (sum)\n",
        "    #   compute log\n",
        "    # * or, compute all of it in log space using log_joint_prob\n",
        "    #   and np.logaddexp.reduce\n",
        "    \n",
        "    # for the marginalisation, we need the support of the rv Y,\n",
        "    # we can find it within the dictionary phi (ie, the set of keys in it)\n",
        "    support_Y = phi.keys()\n",
        "    # the function logaddexp(a, b) returns log(exp(a) + exp(b))\n",
        "    # the method reduce applies that in a row to a whole list of values\n",
        "\n",
        "    return np.logaddexp.reduce([log_joint_prob(y=y, x=x, phi=phi, pi=pi) for y in support_Y])\n",
        "\n",
        "```\n",
        "\n",
        "---\n",
        "    \n",
        "</details>      \n"
      ]
    },
    {
      "cell_type": "code",
      "execution_count": null,
      "metadata": {
        "id": "6CBcZstshgiN"
      },
      "outputs": [],
      "source": [
        "# Your code should pass these tests\n",
        "\n",
        "assert np.isclose(\n",
        "    log_marginal_prob(x=\"not bad\".split(), phi=test_phi_1, pi=test_pi_1),\n",
        "    np.log(0.6 * 0.05 * 0.15 + 0.4 * 0.05 * 0.5),\n",
        "    1e-3\n",
        ")\n",
        "assert np.isclose(\n",
        "    log_marginal_prob(x=\"not good\".split(), phi=test_phi_1, pi=test_pi_1),\n",
        "    np.log(0.6 * 0.05 * 0.5 + 0.4 * 0.05 * 0.1),\n",
        "    1e-3\n",
        ")"
      ]
    },
    {
      "cell_type": "markdown",
      "metadata": {
        "id": "T0K-_-82KSTb"
      },
      "source": [
        "<a name='ungraded-7'></a> **Ungraded Exercise 7 - Log posterior**\n",
        "\n",
        "Implement a function to return $\\log P_{Y|X}(y|x)$ for a label $y\\in \\mathcal Y$ and document $x \\in \\mathcal X$ under this model. Your function should use the functionality `log_prior_prob` and/or `log_conditional_prob` and/or `log_joint_prob` and/or `log_marginal_prob` from earlier. Assume the model parameters are already available.\n",
        "\n",
        "Below you will find some assertions (ie, test cases) for you to verify your implementation.\n",
        "\n",
        "See API below:"
      ]
    },
    {
      "cell_type": "code",
      "execution_count": null,
      "metadata": {
        "id": "-XFbw3GAhgiO",
        "tags": [
          "student"
        ]
      },
      "outputs": [],
      "source": [
        "def log_posterior_prob(y: str, x: list, phi: dict, pi: dict):\n",
        "    \"\"\"Return log P(Y=y|X=x) under the model\"\"\"\n",
        "    raise NotImplemented(\"Implement me !\")"
      ]
    },
    {
      "cell_type": "markdown",
      "metadata": {
        "id": "9F03Je48KSTc"
      },
      "source": [
        "\n",
        "<details>\n",
        "    <summary> <b>Click to see a solution</b> </summary>\n",
        "\n",
        "If you double-click the cell, you will be able to copy the code:\n",
        "\n",
        "```python\n",
        "\n",
        "def log_posterior_prob(y: str, x: list, phi: dict, pi: dict):\n",
        "    \"\"\"Return log P(Y=y|X=x) under the model\"\"\"    \n",
        "    # The posterior probability is a conditional probability\n",
        "    #  by definition that is P(Y=y,X=x) / P(X=x)\n",
        "    #  and we have already implemented the joint probability in the numerator\n",
        "    log_joint_p = log_joint_prob(y=y, x=x, phi=phi, pi=pi)\n",
        "    #  and the marginal probability in the denominator\n",
        "    log_marginal_p = log_marginal_prob(x, phi=phi, pi=pi)\n",
        "    # As we are in computing it in log space, we can subtract the logs to divide the probs\n",
        "    return log_joint_p - log_marginal_p\n",
        "\n",
        "```\n",
        "\n",
        "---\n",
        "    \n",
        "</details>      \n"
      ]
    },
    {
      "cell_type": "code",
      "execution_count": null,
      "metadata": {
        "id": "rti572e-hgiO"
      },
      "outputs": [],
      "source": [
        "# Your code should pass these tests\n",
        "\n",
        "assert np.isclose(\n",
        "    log_posterior_prob(y='pos', x=\"not bad\".split(), phi=test_phi_1, pi=test_pi_1),\n",
        "    np.log((0.6 * 0.05 * 0.15)/(0.6 * 0.05 * 0.15 + 0.4 * 0.05 * 0.5)),\n",
        "    1e-3\n",
        ")\n",
        "\n",
        "assert np.isclose(\n",
        "    log_posterior_prob(y='neg', x=\"not bad\".split(), phi=test_phi_1, pi=test_pi_1),\n",
        "    np.log((0.4 * 0.05 * 0.5)/(0.6 * 0.05 * 0.15 + 0.4 * 0.05 * 0.5)),\n",
        "    1e-3\n",
        ")\n",
        "\n",
        "# The posterior is a distribution, thus it must add to one if we sum it over the possible labels:\n",
        "assert np.isclose(\n",
        "    np.exp(log_posterior_prob(y='pos', x=\"not bad\".split(), phi=test_phi_1, pi=test_pi_1))\n",
        "    + np.exp(log_posterior_prob(y='neg', x=\"not bad\".split(), phi=test_phi_1, pi=test_pi_1)),\n",
        "    1,\n",
        "    1e-3\n",
        ")"
      ]
    },
    {
      "cell_type": "markdown",
      "metadata": {
        "id": "ZvF4loe1KSTc"
      },
      "source": [
        "<a name='ungraded-8'></a> **Ungraded Exercise 8 - Most probable class**\n",
        "\n",
        "Implement a function to return the most probable class under this model for a given document $x \\in \\mathcal X$. Your function should use the functionality `log_prior_prob` and/or `log_conditional_prob` and/or `log_joint_prob` and/or `log_marginal_prob` from earlier. Assume the model parameters are already available.\n",
        "\n",
        "Below you will find some assertions (ie, test cases) for you to verify your implementation.\n",
        "\n",
        "See API below:"
      ]
    },
    {
      "cell_type": "code",
      "execution_count": null,
      "metadata": {
        "id": "Pfc9Ozm3hgiO",
        "tags": [
          "student"
        ]
      },
      "outputs": [],
      "source": [
        "def classify(x: list, phi: dict, pi: dict):\n",
        "    \"\"\"\n",
        "    Classify x using the most probable label a-posteriori.\n",
        "\n",
        "    x: a single document to be classified (a list of tokens)\n",
        "    phi: parameters of the prior\n",
        "    pi: parameters of the class-conditioned distributions over vocabulary\n",
        "\n",
        "    Return the most probable label for the document\n",
        "    \"\"\"\n",
        "    # Tips\n",
        "    # * for each y, evaluate log p(s, y), then select the one that has highest value\n",
        "    #   note that we have provided a helper method self.log_joint_prob(y, x)\n",
        "    raise NotImplemented(\"Implement me!\")"
      ]
    },
    {
      "cell_type": "markdown",
      "metadata": {
        "id": "Z67B2NiOKSTc"
      },
      "source": [
        "\n",
        "<details>\n",
        "    <summary> <b>Click to see a solution</b> </summary>\n",
        "\n",
        "If you double-click the cell, you will be able to copy the code:\n",
        "\n",
        "```python\n",
        "\n",
        "def classify(x: list, phi: dict, pi: dict):\n",
        "    \"\"\"\n",
        "    Classify x using the most probable label a-posteriori.\n",
        "    \n",
        "    x: a single document to be classified (a list of tokens)\n",
        "    phi: parameters of the prior\n",
        "    pi: parameters of the class-conditioned distributions over vocabulary\n",
        "    \n",
        "    Return the most probable label for the document\n",
        "    \"\"\"\n",
        "    # Tips\n",
        "    # * for each y, evaluate log p(s, y), then select the one that has highest value\n",
        "    #   note that we have provided a helper method self.log_joint_prob(y, x)\n",
        "\n",
        "    # SOLUTION\n",
        "    support_Y = list(phi.keys())\n",
        "    best_k = np.argmax([log_joint_prob(y=y, x=x, phi=phi, pi=pi) for y in support_Y])\n",
        "    y_pred = support_Y[best_k]\n",
        "    return y_pred\n",
        "\n",
        "```\n",
        "\n",
        "---\n",
        "    \n",
        "</details>      \n"
      ]
    },
    {
      "cell_type": "code",
      "execution_count": null,
      "metadata": {
        "id": "RSUR1IqohgiP"
      },
      "outputs": [],
      "source": [
        "# Your code should pass these tests\n",
        "\n",
        "# documents with single word\n",
        "assert classify(\"good\".split(), phi=test_phi_1, pi=test_pi_1) == 'pos'\n",
        "assert classify(\"bad\".split(), phi=test_phi_1, pi=test_pi_1) == 'neg'\n",
        "\n",
        "# documents with multiple words\n",
        "assert classify(\"so good\".split(), phi=test_phi_1, pi=test_pi_1) == 'pos'\n",
        "assert classify(\"so bad\".split(), phi=test_phi_1, pi=test_pi_1) == 'neg'\n",
        "\n",
        "# NBC is not good to handle modifiers, because it sees documents as unordered collections\n",
        "assert classify(\"not good\".split(), phi=test_phi_1, pi=test_pi_1) == 'pos'\n",
        "assert classify(\"not bad\".split(), phi=test_phi_1, pi=test_pi_1) == 'neg'"
      ]
    },
    {
      "cell_type": "markdown",
      "metadata": {
        "id": "XazzNSrRhgiP"
      },
      "source": [
        "Hopefully it is clear to you that\n",
        "* the model is a probability distribution\n",
        "* the model manipulates simpler probability factors to assign probability to larger documents\n",
        "* the model definition and its parameter estimation are two very different things (so far we have been implementing all sorts of probability queries without ever having to worry about how parameters are estimated -- in fact the parameters have been given to us through `test_phi_1` and `test_pi_1`\n",
        "\n",
        "We can now turn to parameter estimation via MLE, for which I need to give you a dataset:"
      ]
    },
    {
      "cell_type": "markdown",
      "metadata": {
        "id": "ogh8bUU4KSTc"
      },
      "source": [
        "<a name='ungraded-9'></a> **Ungraded Exercise 9 - Estimate class probabilities (prior parameters)**\n",
        "\n",
        "Implement a function that returns a dictionary of prior parameters (something similar to the `test_phi_1` object that we have been using. The numerical values of the parameters should be given by maximum likelihood estimation using a dataset of labelled documents.\n",
        "\n",
        "Below you will find some assertions (ie, test cases) for you to verify your implementation.\n",
        "\n",
        "See API below:"
      ]
    },
    {
      "cell_type": "code",
      "execution_count": null,
      "metadata": {
        "id": "gcYy4-4ihgiP",
        "tags": [
          "student"
        ]
      },
      "outputs": [],
      "source": [
        "def estimate_phi(data_x, data_y):\n",
        "    \"\"\"\n",
        "    Return the dict that stores the parameters \\phi of the prior.\n",
        "    data_x: list of documents, each document is a list of tokens, each token is a string\n",
        "    data_y: list of labels, each label is a string\n",
        "\n",
        "        Documents and labels are paired, that is zip(data_x, data_y) will give you (x,y) pairs.\n",
        "\n",
        "    Return a dict that maps from label to its probability mass using MLE as estimation algorithm.\n",
        "    \"\"\"\n",
        "    raise NotImplemented(\"Implement me!\")"
      ]
    },
    {
      "cell_type": "markdown",
      "metadata": {
        "id": "UrDuW8c1KSTd"
      },
      "source": [
        "\n",
        "<details>\n",
        "    <summary> <b>Click to see a solution</b> </summary>\n",
        "\n",
        "If you double-click the cell, you will be able to copy the code:\n",
        "\n",
        "```python\n",
        "\n",
        "from collections import Counter, defaultdict\n",
        "from itertools import chain\n",
        "\n",
        "    \n",
        "def estimate_phi(data_x, data_y):\n",
        "    \"\"\"\n",
        "    Return the dict that stores the parameters \\phi of the prior.\n",
        "    data_x: list of documents, each document is a list of tokens, each token is a string\n",
        "    data_y: list of labels, each label is a string\n",
        "    \n",
        "        Documents and labels are paired, that is zip(data_x, data_y) will give you (x,y) pairs.\n",
        "        \n",
        "    Return a dict that maps from label to its probability mass using MLE as estimation algorithm.\n",
        "    \"\"\"\n",
        "    # **SOLUTION**\n",
        "    N = len(data_y)\n",
        "    phi = dict((y, float(n) / N) for y, n in Counter(data_y).items())\n",
        "    return phi\n",
        "\n",
        "```\n",
        "\n",
        "---\n",
        "    \n",
        "</details>      \n"
      ]
    },
    {
      "cell_type": "code",
      "execution_count": null,
      "metadata": {
        "id": "mWCKe71ChgiQ"
      },
      "outputs": [],
      "source": [
        "# Your code should pass these tests\n",
        "\n",
        "test_data_x_1 = [\n",
        "    \"pretty good\".split(),\n",
        "    \"pretty good\".split(),\n",
        "    \"pretty good\".split(),\n",
        "\n",
        "    \"quite good\".split(),\n",
        "    \"quite okay\".split(),\n",
        "\n",
        "    \"so good\".split(),\n",
        "    \"so pretty good\".split(),\n",
        "\n",
        "    \"bad\".split(),\n",
        "    \"bad bad bad\".split(),\n",
        "    \"so very bad\".split(),\n",
        "    \"just so bad\".split(),\n",
        "    \"bad just really really bad\".split(),\n",
        "]\n",
        "test_data_y_1 = [\n",
        "    'pos', 'pos', 'pos',\n",
        "    'pos', 'pos',\n",
        "    'pos', 'pos',\n",
        "    'neg', 'neg', 'neg', 'neg', 'neg'\n",
        "]\n",
        "\n",
        "test_result_phi_1 = estimate_phi(test_data_x_1, test_data_y_1)\n",
        "\n",
        "# First of all, we get a proper cpd\n",
        "assert validate_categorical_cpd(test_result_phi_1)\n",
        "\n",
        "# And it contains the probs we expect\n",
        "assert np.isclose(test_result_phi_1['pos'], 7./(7+5), 0.01)\n",
        "assert np.isclose(test_result_phi_1['neg'], 5./(7+5), 0.01)\n",
        "\n",
        "# Let's use our helper code\n",
        "assert get_prior_parameter('neu', test_result_phi_1) == 0."
      ]
    },
    {
      "cell_type": "markdown",
      "metadata": {
        "id": "cmVTZiwFKSTd"
      },
      "source": [
        "<a name='ungraded-10'></a> **Ungraded Exercise 10 - Estimate class-conditioned word probabilities (conditional parameters)**\n",
        "\n",
        "Implement a function that returns a dictionary of dictionaries for the parameters of the class-conditioned distributions over vocabulary (something similar to the `test_pi_1` object that we have been using). The numerical values of the parameters should be given by maximum likelihood estimation using a dataset of labelled documents.\n",
        "\n",
        "Below you will find some assertions (ie, test cases) for you to verify your implementation.\n",
        "\n",
        "Your code should support Laplace smoothing, but you can implement it first without (see you can pass the first set of tests, which does not depend on smoothing) and then try to modify it to use smoothing (and see if you can pass the second set of tests).\n",
        "\n",
        "\n",
        "We provide some helper code, for determining the vocabulary from data (the vocabulary should contain some special symbols, e.g.  end-of-sequence  symbol, and, if Laplace smoothing is on, also a placeholder for future unseen tokens).\n",
        "\n",
        "**Tip.** Students have found the Laplace smoothing procedure tricky in the past, so if you are spending too much time on it because your new to programming, it's okay to just study the solution. That said, try to get the non-smoothed version right, as that one is relatively simple.\n",
        "\n",
        "See API below:"
      ]
    },
    {
      "cell_type": "code",
      "execution_count": null,
      "metadata": {
        "id": "cLszzDgFhgiQ"
      },
      "outputs": [],
      "source": [
        "from itertools import chain\n",
        "\n",
        "def get_labels(data_y):\n",
        "    \"\"\"Return the set of labels in an observed dataset\"\"\"\n",
        "    return set(data_y)\n",
        "\n",
        "def get_vocabulary(data_x, alpha=0., EOS='-EOS-', UNK='-UNK-'):\n",
        "    \"\"\"\n",
        "    Return the set of known words in an observed collection of documents.\n",
        "    To those we add the EOS symbol which needs to be in the support of the distribution, otherwise\n",
        "     the Naive Bayes model does not have a 'stop criterion'.\n",
        "    And, possibly, a placeholder for future unknown words, when we are using Laplace smoothing.\n",
        "    \"\"\"\n",
        "    vocab = set(chain(*data_x))\n",
        "    vocab.add(EOS) # should always be part of the vocabulary\n",
        "    if alpha > 0.:  # we are reserving mass for future unseen words\n",
        "        vocab.add(UNK)\n",
        "    return vocab"
      ]
    },
    {
      "cell_type": "code",
      "execution_count": null,
      "metadata": {
        "tags": [
          "student"
        ],
        "id": "ADWhDdbFKSTd"
      },
      "outputs": [],
      "source": [
        "def estimate_pi(data_x, data_y, alpha=0., EOS='-EOS-', UNK='-UNK-'):\n",
        "    \"\"\"\n",
        "    Return the dict that stores the parameters of the class-conditioned distributions over vocabulary.\n",
        "\n",
        "    data_x: list of documents, each document is a list of tokens, each token is a string\n",
        "    data_y: list of labels, each label is a string\n",
        "\n",
        "        Documents and labels are paired, that is zip(data_x, data_y) will give you (x,y) pairs.\n",
        "    alpha: the Laplace smoothing coefficient,\n",
        "     a virtual count that gets added to every outcome that has been seen\n",
        "     including all outcomes that have not been seen\n",
        "     (at this point we cannot know what new tokens will be seen in the future,\n",
        "      so we will be using a placeholder token for that, the special UNK token)\n",
        "    EOS: a special token to be used as the end-of-sentence marker\n",
        "     which you should pretend occurs at the end of every document\n",
        "    UNK: a special token to be used as a placeholder for all unseen tokens\n",
        "     this will only be used if you enable Laplace smoothing  (alpha > 0)\n",
        "\n",
        "    Return a dict that maps from label to its probability mass using MLE as estimation algorithm.\n",
        "    \"\"\"\n",
        "    if alpha < 0:\n",
        "        raise ValueError(\"Laplace smoothing requires a positive alpha\")\n",
        "\n",
        "    support_Y = get_labels(data_y) # all classes in the corpus\n",
        "    vocab = get_vocabulary(data_x, alpha=alpha, EOS=EOS, UNK=UNK)\n",
        "    V = len(vocab)\n",
        "\n",
        "    raise NotImplemented(\"Implement me!\")"
      ]
    },
    {
      "cell_type": "markdown",
      "metadata": {
        "id": "5vm2p4EhKSTd"
      },
      "source": [
        "\n",
        "<details>\n",
        "    <summary> <b>Click to see a solution</b> </summary>\n",
        "\n",
        "If you double-click the cell, you will be able to copy the code:\n",
        "\n",
        "```python\n",
        "\n",
        "from collections import Counter, defaultdict\n",
        "\n",
        "\n",
        "def estimate_pi(data_x, data_y, alpha=0., EOS='-EOS-', UNK='-UNK-'):\n",
        "    \"\"\"\n",
        "    Return the dict that stores the parameters of the class-conditioned distributions over vocabulary.\n",
        "    \n",
        "    data_x: list of documents, each document is a list of tokens, each token is a string\n",
        "    data_y: list of labels, each label is a string\n",
        "    \n",
        "        Documents and labels are paired, that is zip(data_x, data_y) will give you (x,y) pairs.\n",
        "    alpha: the Laplace smoothing coefficient,\n",
        "     a virtual count that gets added to every outcome that has been seen\n",
        "     including all outcomes that have not been seen\n",
        "     (at this point we cannot know what new tokens will be seen in the future,\n",
        "      so we will be using a placeholder token for that, the special UNK token)\n",
        "    EOS: a special token to be used as the end-of-sentence marker\n",
        "     which you should pretend occurs at the end of every document\n",
        "    UNK: a special token to be used as a placeholder for all unseen tokens\n",
        "     this will only be used if you enable Laplace smoothing  (alpha > 0)  \n",
        "        \n",
        "    Return a dict that maps from label to its probability mass using MLE as estimation algorithm.\n",
        "    \"\"\"\n",
        "    if alpha < 0:\n",
        "        raise ValueError(\"Laplace smoothing requires a positive alpha\")\n",
        "        \n",
        "    support_Y = get_labels(data_y) # all classes in the corpus\n",
        "    vocab = get_vocabulary(data_x, alpha=alpha, EOS=EOS, UNK=UNK)\n",
        "    V = len(vocab)\n",
        "    \n",
        "    # **SOLUTION**\n",
        "\n",
        "    # Counts for (X,Y)\n",
        "    joint_counts = dict((y, Counter()) for y in support_Y)\n",
        "    for x, y in zip(data_x, data_y):\n",
        "        counter_w_given_y = joint_counts[y]\n",
        "        counter_w_given_y.update(x + [EOS])  # we gotta pad our sentences with EOS        \n",
        "        \n",
        "    # Conditional parameters pi\n",
        "    pi = dict()\n",
        "    \n",
        "    for y in support_Y:\n",
        "        counts_w_given_y = joint_counts[y]\n",
        "        cpd = defaultdict(float)\n",
        "        total_counts = sum(counts_w_given_y.values())\n",
        "        for w in vocab:\n",
        "            cpd[w] = (counts_w_given_y.get(w, 0) + alpha) / (total_counts + alpha * V)\n",
        "        pi[y] = cpd\n",
        "    \n",
        "    return pi\n",
        "\n",
        "```\n",
        "\n",
        "---\n",
        "    \n",
        "</details>      \n"
      ]
    },
    {
      "cell_type": "markdown",
      "metadata": {
        "id": "zp-t2tHWhgiR"
      },
      "source": [
        "These are the tests for non-smoothed models ($\\alpha=0$)."
      ]
    },
    {
      "cell_type": "code",
      "execution_count": null,
      "metadata": {
        "id": "Q6zJTSdihgiR"
      },
      "outputs": [],
      "source": [
        "test_result_pi_1 = estimate_pi(test_data_x_1, test_data_y_1)\n",
        "\n",
        "# First of all we get proper cpds\n",
        "assert all(validate_categorical_cpd(cpd) for y, cpd in test_result_pi_1.items())\n",
        "\n",
        "# There are 8 occurrences of 'bad' in negative documents\n",
        "# and putting all negative documents together we have 20 words (already taking EOS tokens into account)\n",
        "assert np.isclose(test_result_pi_1['neg']['bad'], 8/20, 0.01)\n",
        "\n",
        "# There are 2 occurrences of 'so' in negative documents\n",
        "# and putting all negative documents together we have 20 words (already taking EOS tokens into account)\n",
        "assert np.isclose(test_result_pi_1['neg']['so'], 2/20, 0.01)\n",
        "\n",
        "# There are 0 occurrences of 'good' in negative documents\n",
        "# and putting all negative documents together we have 20 words (already taking EOS tokens into account)\n",
        "assert np.isclose(test_result_pi_1['neg']['good'], 0/20, 0.01)\n",
        "\n",
        "# There are 2 occurrences of 'so' in positive documents\n",
        "# and putting all negative documents together we have 20 words (already taking EOS tokens into account)\n",
        "assert np.isclose(test_result_pi_1['pos']['so'], 2/22, 0.01)\n",
        "\n",
        "# EOS artificially occurs once per document\n",
        "assert np.isclose(test_result_pi_1['neg']['-EOS-'], 5/20, 0.01)\n",
        "assert np.isclose(test_result_pi_1['pos']['-EOS-'], 7/22, 0.01)\n",
        "\n",
        "#assert np.isclose(test_result_pi_1['neg']['-EOS-'], 1/((2+4+4+4+6)/5), 0.01)\n",
        "#assert np.isclose(test_result_pi_1['pos']['-EOS-'], 1/((3+3+3+3+3+3+4)/7), 0.01)\n",
        "\n",
        "# No mass reserved for future unseen words\n",
        "assert get_cond_parameter(w=\"alright\", y=\"pos\", pi=test_result_pi_1) == 0."
      ]
    },
    {
      "cell_type": "markdown",
      "metadata": {
        "id": "RoT-vGSBhgiR"
      },
      "source": [
        "For smoothed models (with $\\alpha>0$) we need to change our definition of `get_cond_parameter` so that it uses the probability of the UNK token when it finds an unseen token."
      ]
    },
    {
      "cell_type": "code",
      "execution_count": null,
      "metadata": {
        "id": "y4BteR3mhgiR"
      },
      "outputs": [],
      "source": [
        "def get_cond_parameter(y: str, w: str, pi: dict, UNK='-UNK-'):\n",
        "    \"\"\"\n",
        "    Return P(W=w|Y=y) under the model Categorical(\\pi^{(y)}).\n",
        "\n",
        "    y: the label\n",
        "    w: word\n",
        "    pi: a dictionary of dictionaries\n",
        "        first we can index it using a label to obtain a dict as return,\n",
        "        the latter dict are the parameters for a distribution over the vocabulary given the label\n",
        "        and it can be indexed using a word to obtain a probability mass\n",
        "\n",
        "        even though mathematically we think of pi as a table/matrix\n",
        "        in code it can be convenient to treat it like a dictionary some times,\n",
        "        for example, as a dictionary we can use labels that are strings (rather than 0-based indices)\n",
        "        and words that are strings (rather than 0-based indices to a vocabulary).\n",
        "\n",
        "        For this implementation assume that every dict inside of pi\n",
        "         has already been validated as a Categorical parameter.\n",
        "    UNK: we return the probability P(W=UNK|Y=y) in case w is not in the support.\n",
        "\n",
        "    Return: Categorical(w|\\phi^{(y)})\n",
        "    \"\"\"\n",
        "    cpd = pi.get(y, None)\n",
        "    if cpd is None:  # the label is not in the support of the model\n",
        "        return 0.\n",
        "    # we fetch the probability of the UNK symbol\n",
        "    # and use it as default for when we fetch the probability of the word w\n",
        "    return cpd.get(w, cpd.get(UNK, 0.))  # if a word is outside the support, it gets 0 mass"
      ]
    },
    {
      "cell_type": "markdown",
      "metadata": {
        "id": "yOpumMB3hgiR"
      },
      "source": [
        "Now you can test with Laplace smoothing on:"
      ]
    },
    {
      "cell_type": "code",
      "execution_count": null,
      "metadata": {
        "id": "jcSkJlddhgiR"
      },
      "outputs": [],
      "source": [
        "test_result_pi_2 = estimate_pi(test_data_x_1, test_data_y_1, alpha=1.)"
      ]
    },
    {
      "cell_type": "code",
      "execution_count": null,
      "metadata": {
        "id": "04BXty0OhgiS"
      },
      "outputs": [],
      "source": [
        "# First of all we get proper cpds\n",
        "assert all(validate_categorical_cpd(cpd) for y, cpd in test_result_pi_2.items())"
      ]
    },
    {
      "cell_type": "code",
      "execution_count": null,
      "metadata": {
        "id": "cfFORTPUhgiS"
      },
      "outputs": [],
      "source": [
        "# The first 7 documents are positive:\n",
        "#  number of words in positive docs\n",
        "#  + number of occurrences of EOS\n",
        "#  + one virtual count per word in vocab (which includes UNK and EOS)\n",
        "assert sum(len(x) for x in test_data_x_1[:7]) + 7 + 1 * len(get_vocabulary(test_data_x_1, alpha=1.0)) == 33\n",
        "# Seen word, but not seen with this label\n",
        "assert get_cond_parameter(w=\"really\", y=\"pos\", pi=test_result_pi_2) == 1/33\n",
        "# Unseen word\n",
        "assert get_cond_parameter(w=\"alright\", y=\"pos\", pi=test_result_pi_2) == 1/33"
      ]
    },
    {
      "cell_type": "code",
      "execution_count": null,
      "metadata": {
        "id": "IvO8heGVhgiS"
      },
      "outputs": [],
      "source": [
        "# The last 5 documents are negative:\n",
        "#  number of words in neagtive docs\n",
        "#  + number of occurrences of EOS\n",
        "#  + one virtual count per word in vocab (which includes UNK and EOS)\n",
        "assert sum(len(x) for x in test_data_x_1[-5:]) + 5 + 1 * len(get_vocabulary(test_data_x_1, alpha=1.0)) == 31\n",
        "# Seen word, but not seen with this label\n",
        "assert get_cond_parameter(w=\"quite\", y=\"neg\", pi=test_result_pi_2) == 1/31\n",
        "# Unseen word\n",
        "assert get_cond_parameter(w=\"alright\", y=\"neg\", pi=test_result_pi_2) == 1/31"
      ]
    },
    {
      "cell_type": "markdown",
      "metadata": {
        "id": "E9hlogR2hgiS"
      },
      "source": [
        "**Congratulations! You've implemented every aspect of an NB classifier :D**\n",
        "\n",
        "The rest of this section will just organise the code and put it for you in a single \"package\", so that you can use it in an experiment (which you will conduct in the next section).\n",
        "\n",
        "This section also contains a small demonstration of how you can use the newly developed NB classifier.\n",
        "\n",
        "\n",
        "---\n",
        "\n",
        "\n",
        "When we have a number of related functionalities (e.g., get parameters, combine them into joint probabilities, marginal probabilities, use them for predictions, code for estimating the parameters themselves, etc.), it is convenient to group all these functionalities into something like a container.\n",
        "\n",
        "This is called a *class* in many programming languages. Think of classes as templates for instantiating objects that store data and code for you to reuse over and over in different situations.\n",
        "\n",
        "You don't need to be able write a class yourself, but it is useful to study the one below.\n",
        "\n",
        "In this course, programming skills *are not* assessed in exams, so studying a class definition and learning to use such a concept is a skill that will help your programming and it is a practical skill of great importance."
      ]
    },
    {
      "cell_type": "code",
      "execution_count": 26,
      "metadata": {
        "id": "yrU-YxBshgiS"
      },
      "outputs": [],
      "source": [
        "import numpy as np\n",
        "from collections import defaultdict, Counter\n",
        "from itertools import chain, takewhile\n",
        "\n",
        "\n",
        "class NaiveBayesClassifier:\n",
        "\n",
        "    def __init__(self, labels: list, vocab=[], alpha=0., EOS='</s>', UNK='<unk>', seed=None):\n",
        "        \"\"\"\n",
        "        This constructs a NaiveBayesClassifier built upon a joint distribution over X and Y\n",
        "        where X are documents and Y is a label.\n",
        "\n",
        "        The set of labels is finite and known ahead of time.\n",
        "\n",
        "        Every document X is a sequence of tokens, a token W is a word in a finite vocabulary.\n",
        "        We can start with a given vocabulary if we already know it,\n",
        "         but in any case, this class offers a training procedure which will use the words in a given corpus\n",
        "         as the set of known words in the vocabulary.\n",
        "\n",
        "        The NBC needs two special symbols for practical purposes. The end-of-sequence symbol (EOS)\n",
        "         helps the NBC stop generating, when the model is used for generation of new documents.\n",
        "         The UNK token is a placeholder for every unseen word we may encounter in the future.\n",
        "\n",
        "        Without training, this NBC uses uniform cpds for every cpd in the model\n",
        "\n",
        "        With training, this NBC may uses Laplace smoothing (if you set alpha to something greater than 0.).\n",
        "\n",
        "        After the class definition you will find a demonstration of how to use it.\n",
        "\n",
        "        :param labels: a list of classes, each a string or integer\n",
        "        :param alpha: the smoothing coefficient for distributions of the kind X|Y=y\n",
        "        :param EOS: the EOS symbol\n",
        "        :param UNK: the UNK symbol for smoothing\n",
        "        :param seed: random generator seed, fix this for reproducibility\n",
        "        \"\"\"\n",
        "        self._EOS = EOS\n",
        "        self._UNK = UNK\n",
        "        self._alpha = alpha\n",
        "        self._labels = tuple(labels)\n",
        "        self._rng = rng = np.random.RandomState(seed)  # Good for reproducibility\n",
        "        # The method fit will populate these\n",
        "        self._vocab = set(vocab)\n",
        "        self._vocab.add(EOS)\n",
        "        self._vocab.add(UNK)\n",
        "        # we initialise our distributions with uniform probabilities\n",
        "        #  but we will use a trick, if these objects are None,\n",
        "        #  the methods that read them will return a uniform probability by default\n",
        "        #  this way we do not need to do anything at this point\n",
        "        self._prior_probs = None\n",
        "        # intialise with nothing\n",
        "        #  we will use a trick, whenever we have None, the probabilities are going to be uniform\n",
        "        self._cond_probs = None\n",
        "\n",
        "    def get_prior_parameter(self, y: str):\n",
        "        \"\"\"\n",
        "        Return P(Y=y) = phi[y]\n",
        "\n",
        "        The only difference compared to before is that this time we assume a uniform distribution\n",
        "        when the model is untrained.\n",
        "        \"\"\"\n",
        "        return 1/len(self._labels) if self._prior_probs is None else self._prior_probs[y]\n",
        "\n",
        "    def get_cond_parameter(self, y: str, w: str):\n",
        "        \"\"\"\n",
        "        Return P(W=w|Y=y) = pi[y, w]\n",
        "\n",
        "        If the model is untrained, we assume the probaiblity is uniform over the vocabulary.\n",
        "        \"\"\"\n",
        "        if self._cond_probs is None:\n",
        "            # return uniform probability if the model isn't trained\n",
        "            return 1/len(self._vocab)\n",
        "        else:\n",
        "            # prob of unk|y\n",
        "            unk_prob = self._cond_probs[y].get(self._UNK, 0.0)\n",
        "            # return w|y if w is in the dictionary, if not return unk|y\n",
        "            return self._cond_probs[y].get(w, unk_prob)\n",
        "\n",
        "    def log_prior_prob(self, y: str):\n",
        "        \"\"\"Return log P(Y=y)\"\"\"\n",
        "        return np.log(self.get_prior_parameter(y))\n",
        "\n",
        "    def log_conditional_prob(self, x: list, y: str):\n",
        "        \"\"\"\n",
        "        Return log P(X=x|Y=y)\n",
        "        \"\"\"\n",
        "        return sum(np.log(self.get_cond_parameter(y=y, w=w)) for w in x)  # named arguments help us not make mistakes\n",
        "\n",
        "    def log_joint_prob(self, y: str, x: list):\n",
        "        \"\"\"Return log P(Y=y) + log P(X=x|Y=y)\"\"\"\n",
        "        return self.log_prior_prob(y) + self.log_conditional_prob(x=x, y=y)  # named arguments help us not make mistakes\n",
        "\n",
        "    def log_marginal_prob(self, x: list):\n",
        "        \"\"\"Return log P(X=x) = log \\sum_y P(Y=y, X=x)\"\"\"\n",
        "        # the function logaddexp(a, b) returns log(exp(a) + exp(b))\n",
        "        # the method reduce applies that in a row to a whole list of values\n",
        "        return np.logaddexp.reduce([self.log_joint_prob(y=y, x=x) for y in self._labels])  # named arguments help us not make mistakes\n",
        "\n",
        "    def log_posterior_prob(self, y: str, x: list):\n",
        "        \"\"\"Return log P(Y=y|X=x) under the model\"\"\"\n",
        "\n",
        "        # The posterior probability is a conditional probability\n",
        "        #  by definition that is P(Y=y,X=x) / P(X=x)\n",
        "        #  and we have already implemented the joint probability in the numerator\n",
        "        log_joint = self.log_joint_prob(y=y, x=x)\n",
        "        #  and the marginal probability in the denominator\n",
        "        log_marginal = self.log_marginal_prob(x)\n",
        "        # As we are in computing it in log space, we can subtract the logs to divide the probs\n",
        "        return log_joint - log_marginal\n",
        "\n",
        "    def predict(self, data_x: list):\n",
        "        \"\"\"\n",
        "        :param data_x: a list of sentences to be classified, each sentence is a list of tokens (each token is a string)\n",
        "\n",
        "        :return: a list of predictions, one per sentence in data_x,\n",
        "            each prediction is the label with highest posterior probability given the input\n",
        "        \"\"\"\n",
        "        y_pred = []\n",
        "        for x in data_x:\n",
        "            # the label with highest joint probability with x is also\n",
        "            # the label with the highest posterior probability (since P(X=x) is fixed)\n",
        "            # also, we can do everything in log domain\n",
        "            best_k = np.argmax([self.log_joint_prob(y=y, x=x) for y in self._labels])\n",
        "            y_pred.append(self._labels[best_k])\n",
        "        return y_pred\n",
        "\n",
        "    def fit(self, data_x: list, data_y: list):\n",
        "        \"\"\"\n",
        "        Return the dict that stores the parameters of the class-conditioned distributions over vocabulary.\n",
        "\n",
        "        data_x: list of documents, each document is a list of tokens, each token is a string\n",
        "        data_y: list of labels, each label is a string\n",
        "\n",
        "            Documents and labels are paired, that is zip(data_x, data_y) will give you (x,y) pairs.\n",
        "        alpha: the Laplace smoothing coefficient,\n",
        "         a virtual count that gets added to every outcome that has been seen\n",
        "         including all outcomes that have not been seen\n",
        "         (at this point we cannot know what new tokens will be seen in the future,\n",
        "          so we will be using a placeholder token for that, the special UNK token)\n",
        "        EOS: a special token to be used as the end-of-sentence marker\n",
        "         which you should pretend occurs at the end of every document\n",
        "        UNK: a special token to be used as a placeholder for all unseen tokens\n",
        "         this will only be used if you enable Laplace smoothing  (alpha > 0)\n",
        "\n",
        "        Return a dict that maps from label to its probability mass using MLE as estimation algorithm.\n",
        "        \"\"\"\n",
        "\n",
        "        # Make the set of classes\n",
        "        support_Y = self._labels\n",
        "        assert set(self._labels) == set(data_y) # we need observations for all classes\n",
        "\n",
        "        # Make the vocabulary of words\n",
        "        # Vocabulary (support of W is all known words)\n",
        "        self._vocab = set(chain(*data_x))\n",
        "        # plus the special EOS token\n",
        "        self._vocab.add(self._EOS)\n",
        "        if self._alpha > 0.:\n",
        "            # and the special UNK token\n",
        "            self._vocab.add(self._UNK)\n",
        "        V = len(self._vocab)\n",
        "\n",
        "        # MLE for Y\n",
        "        N = len(data_y)\n",
        "        # count_Y(y) divided by total data points N (no need for smoothing here)\n",
        "        self._prior_probs = dict((y, float(n) / N) for y, n in Counter(data_y).items())\n",
        "\n",
        "        # MLE for W|Y\n",
        "        # Counts for (X,Y)\n",
        "        joint_counts = dict((y, Counter()) for y in support_Y)\n",
        "        for x, y in zip(data_x, data_y):\n",
        "            counter_w_given_y = joint_counts[y]\n",
        "            counter_w_given_y.update(x + [self._EOS])  # we gotta pad our sentences with EOS\n",
        "\n",
        "        # Conditional parameters\n",
        "        self._cond_probs = dict()\n",
        "\n",
        "        for y in support_Y:\n",
        "            counts_w_given_y = joint_counts[y]\n",
        "            cpd = defaultdict(float)\n",
        "            total_counts = sum(counts_w_given_y.values())\n",
        "            for w in self._vocab:\n",
        "                cpd[w] = (counts_w_given_y.get(w, 0) + self._alpha) / (total_counts + self._alpha * V)\n",
        "            self._cond_probs[y] = cpd\n",
        "\n",
        "    def sample_n(self, num_samples=1, y=None, max_length=200):\n",
        "        \"\"\"\n",
        "        Sample a number of times from the joint distribution, or from the conditional\n",
        "        :param num_samples: how many samples do we want to generate\n",
        "        :param y: if given, sample from S|Y=y, otherwise from Y and then from S|Y\n",
        "        :param max_length: maximum length for s\n",
        "        :return: a generator of samples, each a pair (y, x)\n",
        "        \"\"\"\n",
        "\n",
        "        # This algorithm is a bit tricky,\n",
        "        #  you do not need to study it necessarily\n",
        "        # Here's what it does conceptually\n",
        "        # for _ in range(S)\n",
        "        #  draw Y from Cat(phi)\n",
        "        #  draw W[i]|Y=x from Cat(pi[y]) until we draw an EOS symbol\n",
        "        # But, to make it a bit more efficient, we draw\n",
        "        #  S times from Cat(phi)\n",
        "        # Then for each of those draws s=1, ..., S we draw\n",
        "        #  L times from Cat(pi[y[s]]) where L is max length\n",
        "        #  we then find the position of the first EOS and discard from there onwards\n",
        "\n",
        "        if y is None: # Draw num_samples times from P_Y\n",
        "            # np.random.choice returns an integer in [0, a) and p is the discrete probability distribution it samples from\n",
        "            # we obtain num_samples such samples\n",
        "            ids = self._rng.choice(len(self._labels), p=[self.get_prior_parameter(k) for k in self._labels], size=num_samples)\n",
        "            # these are the sampled labels\n",
        "            sampled_labels = [self._labels[k] for k in ids]\n",
        "        else:  # or repeat the given label num_samples times\n",
        "            # here the sampled_labels are whatever the user chose via argument y\n",
        "            sampled_labels = [y for _ in range(num_samples)]\n",
        "\n",
        "        # here we turn the support of the conditionals into a list for easy access\n",
        "        vocab = [w for w in self._vocab]\n",
        "        vocab_size = len(vocab)\n",
        "        # here we turn the conditionals into np arrays so it's easier to sample from\n",
        "        probs = dict()\n",
        "        for label in set(sampled_labels):\n",
        "            probs[label] = np.array([self.get_cond_parameter(y=label, w=w) for w in self._vocab])\n",
        "\n",
        "        # for each sampled label, we also sample a document\n",
        "        for label in sampled_labels:\n",
        "            # I know use numpy to sample max_length tokens following the distribution W|Y=y\n",
        "            # I also map numpy's choices (which are indices) to words using `vocab`\n",
        "            seq = [vocab[v] for v in self._rng.choice(vocab_size, max_length, p=probs[label])]\n",
        "            # Finally, I throw away whatever happens after the first occurrence of EOS\n",
        "            # since the sampler should have stopped at that point\n",
        "            # (this wastes a bit of computation, but it's okay for our demonstration)\n",
        "            yield (label, list(takewhile(lambda w: w != self._EOS, seq)) )"
      ]
    },
    {
      "cell_type": "markdown",
      "metadata": {
        "id": "_JBBYlrOhgiT"
      },
      "source": [
        "Here is a **toy demonstration** to help you with debugging your code."
      ]
    },
    {
      "cell_type": "code",
      "execution_count": 27,
      "metadata": {
        "id": "plyvZ6f6hgiT"
      },
      "outputs": [],
      "source": [
        "# an untrained model with\n",
        "toy_nbc = NaiveBayesClassifier(['neg', 'pos'], vocab=['pepper', 'the', 'dog'], alpha=0.01, seed=23)"
      ]
    },
    {
      "cell_type": "markdown",
      "metadata": {
        "id": "9Q77O2PjhgiT"
      },
      "source": [
        "See that you can sample from an untrained model. That's because an untrained model *is* a probability distribution nonetheless. It's just a not very good one."
      ]
    },
    {
      "cell_type": "code",
      "execution_count": 28,
      "metadata": {
        "id": "KnSAGIjvhgiT",
        "outputId": "5245d056-85aa-405d-e50e-de87393017c0",
        "colab": {
          "base_uri": "https://localhost:8080/"
        }
      },
      "outputs": [
        {
          "output_type": "stream",
          "name": "stdout",
          "text": [
            "pos: <unk> dog dog the\n",
            "pos: pepper <unk> <unk> the\n",
            "pos: pepper\n",
            "neg: the <unk>\n",
            "neg: dog\n",
            "pos: pepper the dog the the the the the pepper the the the the dog dog\n",
            "neg: the\n",
            "neg: \n",
            "pos: the dog pepper pepper <unk>\n",
            "neg: dog pepper the the <unk> <unk> pepper pepper the <unk> <unk>\n"
          ]
        }
      ],
      "source": [
        "for y, x in toy_nbc.sample_n(10):\n",
        "    print('{}: {}'.format(y, ' '.join(x)))"
      ]
    },
    {
      "cell_type": "markdown",
      "metadata": {
        "id": "AgnoP5HYhgiU"
      },
      "source": [
        "Here's a demonstration of how to train the model:"
      ]
    },
    {
      "cell_type": "code",
      "execution_count": 29,
      "metadata": {
        "id": "BurwPN9MhgiU"
      },
      "outputs": [],
      "source": [
        "toy_nbc.fit(\n",
        "    [\n",
        "        'this is bad'.split(),\n",
        "        'this is really good'.split(),\n",
        "        'this is pretty good'.split(),\n",
        "        'this is great'.split(),\n",
        "    ], ['neg', 'pos', 'pos', 'pos']\n",
        ")"
      ]
    },
    {
      "cell_type": "code",
      "execution_count": 30,
      "metadata": {
        "id": "IU8l6GUDhgiU"
      },
      "outputs": [],
      "source": [
        "assert toy_nbc._prior_probs == {'neg': 0.25, 'pos': 0.75},  \"Note the toy example has 1 negative and 3 positive instances, so we expect 1/4 and 3/4 as probability, not: {}\".format(toy_nbc._phi)"
      ]
    },
    {
      "cell_type": "code",
      "execution_count": 31,
      "metadata": {
        "id": "iM6lELaChgiU"
      },
      "outputs": [],
      "source": [
        "assert toy_nbc._vocab == {'</s>', '<unk>', 'bad', 'good', 'great', 'is', 'pretty', 'really', 'this'}, \"Did you perhaps forget to create a vocab or to add the UNK and EOS tokens?\""
      ]
    },
    {
      "cell_type": "code",
      "execution_count": 32,
      "metadata": {
        "id": "oqpO4AlnhgiU"
      },
      "outputs": [],
      "source": [
        "assert toy_nbc.get_cond_parameter(y='neg', w='pretty') == toy_nbc.get_cond_parameter(y='neg', w='<unk>'), \"The word 'pretty' was never seen by\""
      ]
    },
    {
      "cell_type": "markdown",
      "metadata": {
        "id": "Q72AaWQNhgiV"
      },
      "source": [
        "Note that the distributions should normalise over the complete sample space (which includes EOS and UNK):"
      ]
    },
    {
      "cell_type": "code",
      "execution_count": 33,
      "metadata": {
        "id": "GuEUyd95hgiV"
      },
      "outputs": [],
      "source": [
        "assert np.isclose(sum(toy_nbc.get_cond_parameter(y='neg', w=w) for w in toy_nbc._vocab), 1, 1e-3), \"Did you smooth things correctly? Try again with alpha=0.0, then see if you can fix it for alpha > 0.0\""
      ]
    },
    {
      "cell_type": "code",
      "execution_count": 34,
      "metadata": {
        "id": "bPIVQLg7hgiW"
      },
      "outputs": [],
      "source": [
        "assert np.isclose(sum(toy_nbc.get_cond_parameter(y='pos', w=w) for w in toy_nbc._vocab), 1, 1e-3), \"Did you smooth things correctly? Try again with alpha=0.0, then see if you can fix it for alpha > 0.0\""
      ]
    },
    {
      "cell_type": "markdown",
      "metadata": {
        "id": "bDsTYGYqhgiW"
      },
      "source": [
        "Now you can use the model for making predictions"
      ]
    },
    {
      "cell_type": "code",
      "execution_count": 35,
      "metadata": {
        "id": "B3WSf-jghgiX"
      },
      "outputs": [],
      "source": [
        "toy_pred = toy_nbc.predict(\n",
        "    [\n",
        "        'this is really bad'.split(),\n",
        "        'this is good'.split(),\n",
        "        'this is pretty'.split()\n",
        "    ]\n",
        ")\n",
        "assert toy_pred == ['neg', 'pos', 'pos'], \"Something seems to have gone wrong with your predictions\""
      ]
    },
    {
      "cell_type": "markdown",
      "metadata": {
        "id": "Y8cALK0chgiX"
      },
      "source": [
        "and for computing probabilities:"
      ]
    },
    {
      "cell_type": "code",
      "execution_count": 36,
      "metadata": {
        "id": "HMDZojhshgiX"
      },
      "outputs": [],
      "source": [
        "assert toy_nbc.log_conditional_prob(x='this is really bad'.split(), y='neg') > toy_nbc.log_conditional_prob(x='this is really bad'.split(), y='pos'), \"The negative LM likes this sentence more\""
      ]
    },
    {
      "cell_type": "code",
      "execution_count": 37,
      "metadata": {
        "id": "se2LYfh5hgiY"
      },
      "outputs": [],
      "source": [
        "assert toy_nbc.log_conditional_prob(x='this is really bad'.split(), y='neg') >  toy_nbc.log_marginal_prob(x='this is really bad'.split()) > toy_nbc.log_conditional_prob('this is really bad'.split(), y='pos'), \"The marginal probability is in between\""
      ]
    },
    {
      "cell_type": "markdown",
      "metadata": {
        "id": "DOM1MxTnhgiY"
      },
      "source": [
        "You can even sample from the generative story of the model.\n",
        "\n",
        "See how about 3/4 of the samples will be positive:"
      ]
    },
    {
      "cell_type": "code",
      "execution_count": 38,
      "metadata": {
        "id": "JN1m-8CVhgiY"
      },
      "outputs": [],
      "source": [
        "assert np.isclose(sum(1 for y, s in toy_nbc.sample_n(1000) if y == 'pos')/1000, 0.75, 0.1)"
      ]
    },
    {
      "cell_type": "code",
      "execution_count": 39,
      "metadata": {
        "id": "uA0ybwRUhgiY",
        "outputId": "6c975591-1087-4a84-c3be-5f4b50781734",
        "colab": {
          "base_uri": "https://localhost:8080/"
        }
      },
      "outputs": [
        {
          "output_type": "stream",
          "name": "stdout",
          "text": [
            "pos: this\n",
            "pos: \n",
            "pos: \n",
            "pos: \n",
            "neg: this bad this\n",
            "pos: \n",
            "pos: \n",
            "pos: this great this good\n",
            "pos: \n",
            "neg: \n",
            "\n",
            "Out of 100 samples we have 70 positive.\n"
          ]
        }
      ],
      "source": [
        "# Random generation:\n",
        "for y, x in toy_nbc.sample_n(10):\n",
        "    print('{}: {}'.format(y, ' '.join(x)))\n",
        "\n",
        "print('\\nOut of 100 samples we have {} positive.'.format(sum(1 for y, s in toy_nbc.sample_n(100) if y == 'pos')))"
      ]
    },
    {
      "cell_type": "markdown",
      "metadata": {
        "id": "JP1VbZLuhgiY"
      },
      "source": [
        "We can also choose to sample conditionally, in this case, we ask for samples from the *positive* class only:"
      ]
    },
    {
      "cell_type": "code",
      "execution_count": 40,
      "metadata": {
        "id": "CTbZadrvhgiZ",
        "outputId": "5c1e9f7b-29bd-4994-a38a-6e992c1952c4",
        "colab": {
          "base_uri": "https://localhost:8080/"
        }
      },
      "outputs": [
        {
          "output_type": "stream",
          "name": "stdout",
          "text": [
            "pos: \n",
            "pos: this this this this this good good\n",
            "pos: \n",
            "pos: is this great great this really good\n",
            "pos: is is is pretty\n",
            "pos: good is is\n",
            "pos: \n",
            "pos: good pretty is really\n",
            "pos: this\n",
            "pos: this\n",
            "\n",
            "Average length in 100 positive samples is 4.02\n"
          ]
        }
      ],
      "source": [
        "for y, s in toy_nbc.sample_n(10, y='pos'):\n",
        "    print('{}: {}'.format(y, ' '.join(s)))\n",
        "\n",
        "print('\\nAverage length in 100 positive samples is {:.2f}'.format(sum(len(s) for y, s in toy_nbc.sample_n(100, y='pos'))/100.))"
      ]
    },
    {
      "cell_type": "markdown",
      "metadata": {
        "id": "PeVshdrRhgiZ"
      },
      "source": [
        "Same can be done for the negative class:"
      ]
    },
    {
      "cell_type": "code",
      "execution_count": 41,
      "metadata": {
        "id": "unV4PI2AhgiZ",
        "outputId": "83dc511d-5c84-4171-bd24-267abe4b0728",
        "colab": {
          "base_uri": "https://localhost:8080/"
        }
      },
      "outputs": [
        {
          "output_type": "stream",
          "name": "stdout",
          "text": [
            "neg: is bad\n",
            "neg: bad bad this\n",
            "neg: this\n",
            "neg: \n",
            "neg: this\n",
            "neg: this is bad bad\n",
            "neg: \n",
            "neg: is bad is\n",
            "neg: is\n",
            "neg: this bad is this is is this bad\n",
            "\n",
            "Average length in 100 positive samples is 3.32\n"
          ]
        }
      ],
      "source": [
        "for y, s in toy_nbc.sample_n(10, y='neg'):\n",
        "    print('{}: {}'.format(y, ' '.join(s)))\n",
        "\n",
        "print('\\nAverage length in 100 positive samples is {:.2f}'.format(sum(len(s) for y, s in toy_nbc.sample_n(100, y='neg'))/100.))"
      ]
    },
    {
      "cell_type": "markdown",
      "metadata": {
        "id": "q8q4ms54hgiZ"
      },
      "source": [
        "And of course, we can check posterior probabilities:"
      ]
    },
    {
      "cell_type": "code",
      "execution_count": 42,
      "metadata": {
        "id": "zjkinbM7hgiZ",
        "outputId": "a3f10dc8-aa3f-481b-bc43-979e23a4c9dd",
        "colab": {
          "base_uri": "https://localhost:8080/"
        }
      },
      "outputs": [
        {
          "output_type": "execute_result",
          "data": {
            "text/plain": [
              "0.9975034577480566"
            ]
          },
          "metadata": {},
          "execution_count": 42
        }
      ],
      "source": [
        "np.exp(toy_nbc.log_posterior_prob(x=\"too bad\".split(), y=\"neg\"))"
      ]
    },
    {
      "cell_type": "code",
      "execution_count": 43,
      "metadata": {
        "id": "VkGU6YFUhgia",
        "outputId": "0185619c-6707-4156-d679-a6ba7e66ab21",
        "colab": {
          "base_uri": "https://localhost:8080/"
        }
      },
      "outputs": [
        {
          "output_type": "execute_result",
          "data": {
            "text/plain": [
              "0.002496542251944063"
            ]
          },
          "metadata": {},
          "execution_count": 43
        }
      ],
      "source": [
        "np.exp(toy_nbc.log_posterior_prob(x=\"too bad\".split(), y=\"pos\"))"
      ]
    },
    {
      "cell_type": "markdown",
      "metadata": {
        "id": "xupwf5wvhgia"
      },
      "source": [
        "The NB classifier *supports* actual documents, that is, it assigns non-zero probability to actual documents. But it also supports plenty of sequences that are not at all plausible, even after training. This may seem strange at first, but it is actually to be expected, given that it makes too strong assumptions (it is a \"naive\" model after all).\n",
        "\n",
        "This does not mean the model is bad. Generating documents is not its primary *application*, even though being able to generate a document is part of its fundamental design. We call it a \"document\", but for the model it is just a collection of words that are considered related to classes, theses words are not in order, and the model has no clue what these words mean for a human.\n",
        "\n",
        "The primary application of NBC is to represent our uncertainty about the categorisation of a document, so its primary application are inferences we make based on the posterior distribution (or the joint distribution, depending on the purpose).  In the next section we will use the model for classification.\n",
        "\n",
        "We will also play with it as a sampler, just to see what we get, but don't hope for much yet :)"
      ]
    },
    {
      "cell_type": "markdown",
      "metadata": {
        "id": "PKl90gsUhgia",
        "tags": [
          "topic"
        ]
      },
      "source": [
        "<a name='sec:Experiment'></a>\n",
        "# Experiment\n",
        "\n",
        "\n",
        "We will now try our NBC on one of NLTK's datasets.\n",
        "\n",
        "As usual in testing a machine learning model, we will need training data, development data, and test data. Check [Section 4.8](https://web.stanford.edu/~jurafsky/slp3/4.pdf) for a recap of how to train/test a machine learning classifier. There's no need to implement cross-validation (a training/development/test split is sufficient, and we provide helper code for splitting the data)."
      ]
    },
    {
      "cell_type": "code",
      "execution_count": 44,
      "metadata": {
        "id": "vnsUjYw4hgia"
      },
      "outputs": [],
      "source": [
        "import numpy as np\n",
        "from itertools import chain\n",
        "\n",
        "\n",
        "def split_corpus(sentences, ratio=0.9):\n",
        "    \"\"\"\n",
        "    Randomly split a list of sentences into two sets according to the given ratio.\n",
        "\n",
        "    :param sentences: already tokenized sentences (list of strings)\n",
        "    \"\"\"\n",
        "    # This will guarantee that the permutation is the same every time (which is important for reproducibility)\n",
        "    rng = np.random.RandomState(42)\n",
        "    indices = rng.permutation(len(sentences))\n",
        "    n = int(indices.size * ratio)\n",
        "    return [sentences[i] for i in indices[:n]], [sentences[i] for i in indices[n:]]"
      ]
    },
    {
      "cell_type": "markdown",
      "metadata": {
        "id": "aWOX_HfAhgia"
      },
      "source": [
        "Let's attempt to predict sentence polarity"
      ]
    },
    {
      "cell_type": "code",
      "execution_count": 45,
      "metadata": {
        "id": "Gf3WRmlrhgia",
        "outputId": "01d88bf8-03c1-4162-f222-4e9d1f3a3ad7",
        "colab": {
          "base_uri": "https://localhost:8080/"
        }
      },
      "outputs": [
        {
          "output_type": "stream",
          "name": "stdout",
          "text": [
            "5331 positive sentences such as:\n",
            " the rock is destined to be the 21st century's new \" conan \" and that he's going to make a splash even greater than arnold schwarzenegger , jean-claud van damme or steven segal .\n",
            "5331 negative sentences such as:\n",
            " simplistic , silly and tedious .\n"
          ]
        }
      ],
      "source": [
        "from nltk.corpus import sentence_polarity\n",
        "\n",
        "pos_sents = sentence_polarity.sents(categories='pos')\n",
        "neg_sents = sentence_polarity.sents(categories='neg')\n",
        "print(len(pos_sents), 'positive sentences such as:\\n', ' '.join(pos_sents[0]))\n",
        "print(len(neg_sents), 'negative sentences such as:\\n', ' '.join(neg_sents[0]))"
      ]
    },
    {
      "cell_type": "markdown",
      "metadata": {
        "id": "-rmnOq43hgia"
      },
      "source": [
        "And here is a reasonable split:"
      ]
    },
    {
      "cell_type": "code",
      "execution_count": 46,
      "metadata": {
        "id": "axqTbDvjhgia"
      },
      "outputs": [],
      "source": [
        "training_pos, dev_pos = split_corpus(pos_sents, 0.8)\n",
        "dev_pos, test_pos = split_corpus(dev_pos, 0.5)\n",
        "training_neg, dev_neg = split_corpus(neg_sents, 0.8)\n",
        "dev_neg, test_neg = split_corpus(dev_neg, 0.5)"
      ]
    },
    {
      "cell_type": "code",
      "execution_count": 47,
      "metadata": {
        "id": "Nz-HwpbVhgia",
        "outputId": "d9eac2a3-5e08-4e12-e312-29ad73710069",
        "colab": {
          "base_uri": "https://localhost:8080/"
        }
      },
      "outputs": [
        {
          "output_type": "stream",
          "name": "stdout",
          "text": [
            "Label      Training    Development    Test\n",
            "-------  ----------  -------------  ------\n",
            "pos            4264            533     534\n",
            "neg            4264            533     534\n"
          ]
        }
      ],
      "source": [
        "rows = [\n",
        "    ['pos', len(training_pos), len(dev_pos), len(test_pos)],\n",
        "    ['neg', len(training_neg), len(dev_neg), len(test_neg)]\n",
        "]\n",
        "print(tabulate(rows, headers=['Label', 'Training', 'Development', 'Test']))"
      ]
    },
    {
      "cell_type": "markdown",
      "metadata": {
        "id": "ngA7yZ7fKSTl"
      },
      "source": [
        "<a name='graded-1'> **Graded Exercise 1 - NBC for sentence polarity** </a>\n",
        "\n",
        "Fit NBC, evaluate it on dev set. To recap how you evaluate a classifier, check [Section 4.7](https://web.stanford.edu/~jurafsky/slp3/4.pdf).\n",
        "\n",
        "For this use $\\alpha=1.0$. For evaluation you can use `sklearn.metrics import classification_report`, check its documentation. You can install scikit-learn via `!pip install sklearn`."
      ]
    },
    {
      "cell_type": "code",
      "execution_count": 48,
      "metadata": {
        "id": "5P-vRPtOKSTl",
        "outputId": "d039fc29-8af1-4a1f-a8df-ad6d00853a01",
        "colab": {
          "base_uri": "https://localhost:8080/"
        }
      },
      "outputs": [
        {
          "output_type": "stream",
          "name": "stdout",
          "text": [
            "              precision    recall  f1-score   support\n",
            "\n",
            "         neg       0.76      0.77      0.76      1067\n",
            "         pos       0.77      0.75      0.76      1067\n",
            "\n",
            "    accuracy                           0.76      2134\n",
            "   macro avg       0.76      0.76      0.76      2134\n",
            "weighted avg       0.76      0.76      0.76      2134\n",
            "\n"
          ]
        }
      ],
      "source": [
        "# CONTRIBUTE YOUR SOLUTION/CODE\n",
        "\n",
        "from nltk.corpus import sentence_polarity\n",
        "from sklearn.metrics import classification_report\n",
        "import numpy as np\n",
        "\n",
        "\n",
        "# Split data into training, dev, and test\n",
        "training_pos, dev_pos = split_corpus(sentence_polarity.sents(categories='pos'), 0.8)\n",
        "training_neg, dev_neg = split_corpus(sentence_polarity.sents(categories='neg'), 0.8)\n",
        "\n",
        "train_data = training_pos + training_neg\n",
        "train_labels = ['pos'] * len(training_pos) + ['neg'] * len(training_neg)\n",
        "\n",
        "dev_data = dev_pos + dev_neg\n",
        "dev_labels = ['pos'] * len(dev_pos) + ['neg'] * len(dev_neg)\n",
        "\n",
        "# Initialize and train the Naive Bayes Classifier\n",
        "nbc = NaiveBayesClassifier(labels=['pos', 'neg'], alpha=1.0)\n",
        "nbc.fit(train_data, train_labels)\n",
        "\n",
        "# Make predictions on the dev set\n",
        "dev_preds = nbc.predict(dev_data)\n",
        "\n",
        "# Print the classification report\n",
        "print(classification_report(dev_labels, dev_preds))\n"
      ]
    },
    {
      "cell_type": "markdown",
      "metadata": {
        "id": "l02BPOOtKSTo"
      },
      "source": [
        "<a name='graded-2'> **Graded Exercise 2 - Grid Search** </a>\n",
        "\n",
        "Grid-search for a good value of $\\alpha$, use the grid shown below. Use performance on *development* set to pick the best value of the hyperparameter. Do report the dev performance for each value in the grid, you may use a table and/or a plot. For the best value of $\\alpha$ then test your NBC on the test-set.\n",
        "\n",
        "If your dataset is not balanced (i.e., you have many documents for certain classes, but not for others), you should choose the precise metric carefully (not every metric in scikit's evaluation report is equally good with class imbalance). Note that `sentence_polarity` is a balanced dataset, an example of an imbalanced dataset would be `brown`."
      ]
    },
    {
      "cell_type": "code",
      "execution_count": 49,
      "metadata": {
        "id": "SPMgNPPshgib",
        "outputId": "ac3a44c6-1e03-400c-e69c-31efccc63762",
        "colab": {
          "base_uri": "https://localhost:8080/"
        }
      },
      "outputs": [
        {
          "output_type": "execute_result",
          "data": {
            "text/plain": [
              "array([0.1, 0.2, 0.3, 0.4, 0.5, 0.6, 0.7, 0.8, 0.9, 1. , 1.1, 1.2, 1.3,\n",
              "       1.4, 1.5])"
            ]
          },
          "metadata": {},
          "execution_count": 49
        }
      ],
      "source": [
        "grid_alpha = 0.1 + np.arange(0., 1.5, 0.1)\n",
        "grid_alpha"
      ]
    },
    {
      "cell_type": "code",
      "execution_count": 51,
      "metadata": {
        "id": "rFcTRXKQKSTo",
        "outputId": "5000e7d4-ec03-4948-ef9c-45595912285f",
        "colab": {
          "base_uri": "https://localhost:8080/",
          "height": 646
        }
      },
      "outputs": [
        {
          "output_type": "display_data",
          "data": {
            "text/plain": [
              "<Figure size 640x480 with 1 Axes>"
            ],
            "image/png": "[encoded data removed]"
          },
          "metadata": {}
        },
        {
          "output_type": "stream",
          "name": "stdout",
          "text": [
            "Best alpha: 1.0\n",
            "              precision    recall  f1-score   support\n",
            "\n",
            "         neg       0.76      0.78      0.77       533\n",
            "         pos       0.77      0.76      0.76       533\n",
            "\n",
            "    accuracy                           0.77      1066\n",
            "   macro avg       0.77      0.77      0.77      1066\n",
            "weighted avg       0.77      0.77      0.77      1066\n",
            "\n"
          ]
        }
      ],
      "source": [
        "# CONTRIBUTE YOUR SOLUTION/CODE\n",
        "# Define test sets from the dev set\n",
        "test_pos, dev_pos = split_corpus(dev_pos, 0.5)  # Split the dev set into test and dev sets\n",
        "test_neg, dev_neg = split_corpus(dev_neg, 0.5)  # Same for negative sentences\n",
        "\n",
        "# Combine positive and negative test data\n",
        "test_data = test_pos + test_neg\n",
        "test_labels = ['pos'] * len(test_pos) + ['neg'] * len(test_neg)\n",
        "\n",
        "\n",
        "# Define the grid of alphas\n",
        "grid_alpha = 0.1 + np.arange(0., 1.5, 0.1)\n",
        "\n",
        "# Store results for each alpha\n",
        "dev_scores = []\n",
        "\n",
        "for alpha in grid_alpha:\n",
        "    # Train with each alpha\n",
        "    nbc = NaiveBayesClassifier(labels=['pos', 'neg'], alpha=alpha)\n",
        "    nbc.fit(train_data, train_labels)\n",
        "\n",
        "    # Make predictions on dev set\n",
        "    dev_preds = nbc.predict(dev_data)\n",
        "\n",
        "    # Evaluate performance\n",
        "    report = classification_report(dev_labels, dev_preds, output_dict=True)\n",
        "    dev_scores.append(report['pos']['f1-score'])  # You can also use 'precision' or 'recall'\n",
        "\n",
        "# Plot performance\n",
        "plt.plot(grid_alpha, dev_scores)\n",
        "plt.xlabel('Alpha')\n",
        "plt.ylabel('F1 Score')\n",
        "plt.title('F1 Score for Different Alpha Values')\n",
        "plt.show()\n",
        "\n",
        "# Select best alpha based on highest F1 score\n",
        "best_alpha = grid_alpha[np.argmax(dev_scores)]\n",
        "print(f\"Best alpha: {best_alpha}\")\n",
        "\n",
        "# Test with the best alpha\n",
        "nbc_best = NaiveBayesClassifier(labels=['pos', 'neg'], alpha=best_alpha)\n",
        "nbc_best.fit(train_data, train_labels)\n",
        "test_preds = nbc_best.predict(test_data)\n",
        "print(classification_report(test_labels, test_preds))\n"
      ]
    },
    {
      "cell_type": "markdown",
      "metadata": {
        "id": "iJicuwnvhgib",
        "tags": [
          "topic"
        ]
      },
      "source": [
        "<a name='sec:Error_analysis'></a>\n",
        "# Error analysis\n",
        "\n",
        "This is a [confusion matrix](https://en.wikipedia.org/wiki/Confusion_matrix), it displays a summary of our predictions in terms of true positives (TP), false positive (FP), false negative (FN), and true negatives (TN)."
      ]
    },
    {
      "cell_type": "markdown",
      "metadata": {
        "id": "BNtspW1JKSTo"
      },
      "source": [
        "<a name='graded-3'> **Graded Exercise 3 - Error analysis** </a>\n",
        "\n",
        "Print the confusion matrix of your classifier using the dev set, use $\\alpha=0.1$ for training.\n",
        "\n",
        "You can build the matrix yourself, or you can use sklearn's `from sklearn.metrics import confusion_matrix`.\n",
        "\n",
        "Then, manually inspect some of the mistakes (FP or FN) and speculate about directions for improvement in the future, in particular, find (and list) examples of **two or more** patterns that the model fails to recognise **because** of its assumptions. Explain how you think the model assumptions are responsible for the failure."
      ]
    },
    {
      "cell_type": "code",
      "execution_count": 52,
      "metadata": {
        "id": "JwMxecGfKSTo",
        "outputId": "c31bb3f1-037c-49fc-c7ec-ec728681f86a",
        "colab": {
          "base_uri": "https://localhost:8080/",
          "height": 1000
        }
      },
      "outputs": [
        {
          "output_type": "display_data",
          "data": {
            "text/plain": [
              "<Figure size 640x480 with 2 Axes>"
            ],
            "image/png": "[encoded data removed]"
          },
          "metadata": {}
        },
        {
          "output_type": "stream",
          "name": "stdout",
          "text": [
            "Example 1: Actual: pos, Predicted: neg, Text: an average kid-empowerment fantasy with slightly above-average brains .\n",
            "Example 4: Actual: pos, Predicted: neg, Text: every moment crackles with tension , and by the end of the flick , you're on the edge of your seat .\n",
            "Example 12: Actual: pos, Predicted: neg, Text: the main story . . . is compelling enough , but it's difficult to shrug off the annoyance of that chatty fish .\n",
            "Example 15: Actual: pos, Predicted: neg, Text: it's a demented kitsch mess ( although the smeary digital video does match the muddled narrative ) , but it's savvy about celebrity and has more guts and energy than much of what will open this year .\n",
            "Example 17: Actual: pos, Predicted: neg, Text: saved from being merely way-cool by a basic , credible compassion .\n",
            "Example 25: Actual: pos, Predicted: neg, Text: a manically generous christmas vaudeville .\n",
            "Example 31: Actual: pos, Predicted: neg, Text: more than makes up for its mawkish posing by offering rousing spates of genuine feeling .\n",
            "Example 35: Actual: pos, Predicted: neg, Text: the stars may be college kids , but the subject matter is as adult as you can get : the temptations of the flesh are unleashed by a slightly crazed , overtly determined young woman and a one-night swim turns into an ocean of trouble .\n",
            "Example 37: Actual: pos, Predicted: neg, Text: a full world has been presented onscreen , not some series of carefully structured plot points building to a pat resolution .\n",
            "Example 46: Actual: pos, Predicted: neg, Text: if mr . zhang's subject matter is , to some degree at least , quintessentially american , his approach to storytelling might be called iranian .\n",
            "Example 48: Actual: pos, Predicted: neg, Text: in other words , it's just another sports drama/character study . yet this one makes up for in heart what it lacks in outright newness . plus , like i already mentioned . . . it's robert duvall ! c'mon !\n",
            "Example 52: Actual: pos, Predicted: neg, Text: . . . while dark water isn't a complete wash ( no pun intended ) , watched side-by-side with ringu , it ultimately comes off as a pale successor .\n",
            "Example 54: Actual: pos, Predicted: neg, Text: kept aloft largely by a comically adept ensemble .\n",
            "Example 63: Actual: pos, Predicted: neg, Text: there's something to be said for a studio-produced film that never bothers to hand viewers a suitcase full of easy answers .\n",
            "Example 64: Actual: pos, Predicted: neg, Text: moonlight mile doesn't quite go the distance but the cast is impressive and they all give life to these broken characters who are trying to make their way through this tragedy .\n",
            "Example 69: Actual: pos, Predicted: neg, Text: this film is not a love letter for the slain rappers , it's a taunt -a call for justice for two crimes from which many of us have not yet recovered .\n",
            "Example 72: Actual: pos, Predicted: neg, Text: flavorful and romantic , you could call this how martha got her groove back -- assuming , that is , she ever had one to begin with .\n",
            "Example 73: Actual: pos, Predicted: neg, Text: there are times when a rumor of angels plays like an extended episode of touched by an angel -- a little too much dancing , a few too many weeping scenes -- but i liked its heart and its spirit .\n",
            "Example 75: Actual: pos, Predicted: neg, Text: a jewish ww ii doc that isn't trying simply to out-shock , out-outrage or out-depress its potential audience ! who knew . . .\n",
            "Example 81: Actual: pos, Predicted: neg, Text: audiences conditioned to getting weepy over saucer-eyed , downy-cheeked moppets and their empathetic caretakers will probably feel emotionally cheated by the film's tart , sugar-free wit .\n",
            "Example 83: Actual: pos, Predicted: neg, Text: with spy kids 2 : the island of lost dreams , the spy kids franchise establishes itself as a durable part of the movie landscape : a james bond series for kids .\n",
            "Example 86: Actual: pos, Predicted: neg, Text: interacting eyeball-to-eyeball and toe-to-toe , hopkins and norton are a winning combination -- but fiennes steals 'red dragon' right from under their noses .\n",
            "Example 92: Actual: pos, Predicted: neg, Text: by the standards of knucklehead swill , the hot chick is pretty damned funny .\n",
            "Example 101: Actual: pos, Predicted: neg, Text: at the end of the movie , my 6-year-old nephew said , \" i guess i come from a broken family , and my uncles are all aliens , too . \" congrats disney on a job well done , i enjoyed it just as much !\n",
            "Example 113: Actual: pos, Predicted: neg, Text: it may . . . work as a jaunt down memory lane for teens and young adults who grew up on televised scooby-doo shows or reruns .\n",
            "Example 115: Actual: pos, Predicted: neg, Text: i like this movie a lot . i like that smith , he's not making fun of these people , he's not laughing at them .\n",
            "Example 116: Actual: pos, Predicted: neg, Text: though it's become almost redundant to say so , major kudos go to leigh for actually casting people who look working-class .\n",
            "Example 120: Actual: pos, Predicted: neg, Text: what it lacks in substance it makes up for in heart .\n",
            "Example 123: Actual: pos, Predicted: neg, Text: blade ii is as estrogen-free as movies get , so you might want to leave your date behind for this one , or she's gonna make you feel like you owe her big-time .\n",
            "Example 124: Actual: pos, Predicted: neg, Text: the film doesn't sustain its initial promise with a jarring , new-agey tone creeping into the second half\n",
            "Example 125: Actual: pos, Predicted: neg, Text: maid in manhattan might not look so appealing on third or fourth viewing down the road . . . but as a high concept vehicle for two bright stars of the moment who can rise to fans' lofty expectations , the movie passes inspection .\n",
            "Example 128: Actual: pos, Predicted: neg, Text: the warm presence of zhao benshan makes the preposterous lying hero into something more than he reasonably should be .\n",
            "Example 136: Actual: pos, Predicted: neg, Text: what could have become just another cautionary fable is allowed to play out as a clever , charming tale  as pleasantly in its own way as its self-dramatizing characters .\n",
            "Example 143: Actual: pos, Predicted: neg, Text: maybe it is formula filmmaking , but there's nothing wrong with that if the film is well-crafted and this one is .\n",
            "Example 145: Actual: pos, Predicted: neg, Text: it ain't art , by a long shot , but unlike last year's lame musketeer , this dumas adaptation entertains .\n",
            "Example 146: Actual: pos, Predicted: neg, Text: a model of what films like this should be like .\n",
            "Example 151: Actual: pos, Predicted: neg, Text: she may not be real , but the laughs are .\n",
            "Example 152: Actual: pos, Predicted: neg, Text: consummate actor barry has done excellent work here .\n",
            "Example 155: Actual: pos, Predicted: neg, Text: you might not want to hang out with samantha , but you'll probably see a bit of yourself in her unfinished story .\n",
            "Example 157: Actual: pos, Predicted: neg, Text: reign of fire just might go down as one of the all-time great apocalypse movies .\n",
            "Example 173: Actual: pos, Predicted: neg, Text: reign of fire may be little more than another platter of reheated aliens , but it's still pretty tasty .\n",
            "Example 174: Actual: pos, Predicted: neg, Text: a little better than sorcerer's stone .\n",
            "Example 178: Actual: pos, Predicted: neg, Text: call me a wimp , but i cried , not once , but three times in this animated sweet film .\n",
            "Example 179: Actual: pos, Predicted: neg, Text: a worthwhile way to spend two hours .\n",
            "Example 180: Actual: pos, Predicted: neg, Text: my thoughts were focused on the characters . that is a compliment to kuras and miller . if i had been thinking about the visual medium , they would have been doing something wrong .\n",
            "Example 181: Actual: pos, Predicted: neg, Text: like old myths and wonder tales spun afresh .\n",
            "Example 185: Actual: pos, Predicted: neg, Text: crush is so warm and fuzzy you might be able to forgive its mean-spirited second half .\n",
            "Example 187: Actual: pos, Predicted: neg, Text: it was only a matter of time before some savvy producer saw the potential success inherent in the mixture of bullock bubble and hugh goo .\n",
            "Example 189: Actual: pos, Predicted: neg, Text: combine the paranoid claustrophobia of a submarine movie with the unsettling spookiness of the supernatural -- why didn't hollywood think of this sooner ?\n",
            "Example 196: Actual: pos, Predicted: neg, Text: george clooney , in his first directorial effort , presents this utterly ridiculous shaggy dog story as one of the most creative , energetic and original comedies to hit the screen in years .\n",
            "Example 206: Actual: pos, Predicted: neg, Text: it moves quickly , adroitly , and without fuss ; it doesn't give you time to reflect on the inanity -- and the cold war datedness -- of its premise .\n",
            "Example 210: Actual: pos, Predicted: neg, Text: if this movie were a book , it would be a page-turner , you can't wait to see what happens next .\n",
            "Example 217: Actual: pos, Predicted: neg, Text: originality ain't on the menu , but there's never a dull moment in the giant spider invasion comic chiller .\n",
            "Example 218: Actual: pos, Predicted: neg, Text: although some viewers will not be able to stomach so much tongue-in-cheek weirdness , those who do will have found a cult favorite to enjoy for a lifetime .\n",
            "Example 220: Actual: pos, Predicted: neg, Text: like its title character , this nicholas nickleby finds itself in reduced circumstances -- and , also like its hero , it remains brightly optimistic , coming through in the end .\n",
            "Example 224: Actual: pos, Predicted: neg, Text: strip it of all its excess debris , and you'd have a 90-minute , four-star movie . as it is , it's too long and unfocused .\n",
            "Example 225: Actual: pos, Predicted: neg, Text: the kind of sense of humor that derives from a workman's grasp of pun and entendre and its attendant need to constantly draw attention to itself .\n",
            "Example 229: Actual: pos, Predicted: neg, Text: one of the best silly horror movies of recent memory , with some real shocks in store for unwary viewers .\n",
            "Example 231: Actual: pos, Predicted: neg, Text: those who want to be jolted out of their gourd should drop everything and run to ichi .\n",
            "Example 234: Actual: pos, Predicted: neg, Text: it's like going to a house party and watching the host defend himself against a frothing ex-girlfriend . you don't want to call the cops . you want to call domino's .\n",
            "Example 236: Actual: pos, Predicted: neg, Text: schaeffer isn't in this film , which may be why it works as well as it does .\n",
            "Example 241: Actual: pos, Predicted: neg, Text: meyjes' provocative film might be called an example of the haphazardness of evil .\n",
            "Example 244: Actual: pos, Predicted: neg, Text: while there are times when the film's reach exceeds its grasp , the production works more often than it doesn't .\n",
            "Example 255: Actual: pos, Predicted: neg, Text: shamelessly resorting to pee-related sight gags that might even cause tom green a grimace ; still , myer's energy and the silliness of it all eventually prevail\n",
            "Example 260: Actual: pos, Predicted: neg, Text: happily for mr . chin -- though unhappily for his subjects -- the invisible hand of the marketplace wrote a script that no human screenwriter could have hoped to match .\n",
            "Example 266: Actual: pos, Predicted: neg, Text: yes , it's as good as you remember . in fact , even better .\n",
            "Example 270: Actual: pos, Predicted: neg, Text: if you sometimes like to go to the movies to have fun , wasabi is a good place to start .\n",
            "Example 272: Actual: pos, Predicted: neg, Text: a distant , even sterile , yet compulsively watchable look at the sordid life of hogan's heroes star bob crane .\n",
            "Example 276: Actual: pos, Predicted: neg, Text: the events of the film are just so weird that i honestly never knew what the hell was coming next .\n",
            "Example 277: Actual: pos, Predicted: neg, Text: charming and funny ( but ultimately silly ) movie .\n",
            "Example 282: Actual: pos, Predicted: neg, Text: just how these families interact may surprise you .\n",
            "Example 284: Actual: pos, Predicted: neg, Text: the bard as black comedy -- willie would have loved it .\n",
            "Example 285: Actual: pos, Predicted: neg, Text: confessions is without a doubt a memorable directorial debut from king hunk .\n",
            "Example 286: Actual: pos, Predicted: neg, Text: this ready-made midnight movie probably won't stand the cold light of day , but under the right conditions , it's goofy ( if not entirely wholesome ) fun .\n",
            "Example 298: Actual: pos, Predicted: neg, Text: reign of fire is hardly the most original fantasy film ever made -- beyond road warrior , it owes enormous debts to aliens and every previous dragon drama -- but that barely makes it any less entertaining .\n",
            "Example 302: Actual: pos, Predicted: neg, Text: these characters are so well established that the gang feels comfortable with taking insane liberties and doing the goofiest stuff out of left field , and i'm all for that .\n",
            "Example 304: Actual: pos, Predicted: neg, Text: if you've ever wondered what an ending without the input of studio executives or test audiences would look like , here it is .\n",
            "Example 315: Actual: pos, Predicted: neg, Text: equilibrium is what george orwell might have imagined had today's mood-altering drug therapy been envisioned by chemists in 1949 .\n",
            "Example 319: Actual: pos, Predicted: neg, Text: that storytelling has value cannot be denied . not even solondz's thirst for controversy , sketchy characters and immature provocations can fully succeed at cheapening it .\n",
            "Example 324: Actual: pos, Predicted: neg, Text: i liked a lot of the smaller scenes .\n",
            "Example 325: Actual: pos, Predicted: neg, Text: while dutifully pulling on heartstrings , directors dean deblois and chris sanders valiantly keep punching up the mix .\n",
            "Example 327: Actual: pos, Predicted: neg, Text: robin williams has thankfully ditched the saccharine sentimentality of bicentennial man in favour of an altogether darker side .\n",
            "Example 333: Actual: pos, Predicted: neg, Text: . . . a weak , manipulative , pencil-thin story that is miraculously able to entertain anyway .\n",
            "Example 334: Actual: pos, Predicted: neg, Text: everytime you think undercover brother has run out of steam , it finds a new way to surprise and amuse .\n",
            "Example 336: Actual: pos, Predicted: neg, Text: i don't know precisely what to make of steven soderbergh's full frontal , though that didn't stop me from enjoying much of it .\n",
            "Example 339: Actual: pos, Predicted: neg, Text: clint eastwood's blood work is a lot like a well-made pb& j sandwich : familiar , fairly uneventful and boasting no real surprises  but still quite tasty and inviting all the same .\n",
            "Example 342: Actual: pos, Predicted: neg, Text: it picked me up , swung me around , and dropped me back in my seat with more emotional force than any other recent film .\n",
            "Example 343: Actual: pos, Predicted: neg, Text: it's virtually impossible to like any of these despicable characters .\n",
            "Example 349: Actual: pos, Predicted: neg, Text: it would be disingenuous to call reno a great film , but you can say that about most of the flicks moving in and out of the multiplex . this is a movie that is what it is : a pleasant distraction , a friday night diversion , an excuse to eat popcorn .\n",
            "Example 352: Actual: pos, Predicted: neg, Text: terry is a sort of geriatric dirty harry , which will please eastwood's loyal fans -- and suits the story , wherein our hero must ride roughshod over incompetent cops to get his man .\n",
            "Example 356: Actual: pos, Predicted: neg, Text: it sends you away a believer again and quite cheered at just that .\n",
            "Example 365: Actual: pos, Predicted: neg, Text: no , it's not as single-minded as john carpenter's original , but it's sure a lot smarter and more unnerving than the sequels .\n",
            "Example 369: Actual: pos, Predicted: neg, Text: i would be shocked if there was actually one correct interpretation , but that shouldn't make the movie or the discussion any less enjoyable .\n",
            "Example 379: Actual: pos, Predicted: neg, Text: a glorious mess .\n",
            "Example 382: Actual: pos, Predicted: neg, Text: the dragons are the real stars of reign of fire and you won't be disappointed .\n",
            "Example 394: Actual: pos, Predicted: neg, Text: a gorgeously strange movie , heaven is deeply concerned with morality , but it refuses to spell things out for viewers .\n",
            "Example 397: Actual: pos, Predicted: neg, Text: even during the climactic hourlong cricket match , boredom never takes hold .\n",
            "Example 398: Actual: pos, Predicted: neg, Text: medem may have disrobed most of the cast , leaving their bodies exposed , but the plot remains as guarded as a virgin with a chastity belt . that's why sex and lucia is so alluring .\n",
            "Example 401: Actual: pos, Predicted: neg, Text: in all , this is a watchable movie that's not quite the memorable experience it might have been .\n",
            "Example 404: Actual: pos, Predicted: neg, Text: there are laughs aplenty , and , as a bonus , viewers don't have to worry about being subjected to farts , urine , feces , semen , or any of the other foul substances that have overrun modern-day comedies .\n",
            "Example 406: Actual: pos, Predicted: neg, Text: murder by numbers' isn't a great movie , but it's a perfectly acceptable widget .\n",
            "Example 412: Actual: pos, Predicted: neg, Text: director todd solondz has made a movie about critical reaction to his two previous movies , and about his responsibility to the characters that he creates .\n",
            "Example 413: Actual: pos, Predicted: neg, Text: as hugh grant says repeatedly throughout the movie , 'lovely ! brilliant ! '\n",
            "Example 421: Actual: pos, Predicted: neg, Text: malcolm mcdowell is cool . paul bettany is cool . paul bettany playing malcolm mcdowell ? cool .\n",
            "Example 432: Actual: pos, Predicted: neg, Text: the film is a masterpiece of nuance and characterization , marred only by an inexplicable , utterly distracting blunder at the very end .\n",
            "Example 434: Actual: pos, Predicted: neg, Text: like the rugrats movies , the wild thornberrys movie doesn't offer much more than the series , but its emphasis on caring for animals and respecting other cultures is particularly welcome .\n",
            "Example 438: Actual: pos, Predicted: neg, Text: we've seen the hippie-turned-yuppie plot before , but there's an enthusiastic charm in <i ? fire that makes the formula fresh again .\n",
            "Example 439: Actual: pos, Predicted: neg, Text: like kubrick , soderbergh isn't afraid to try any genre and to do it his own way .\n",
            "Example 441: Actual: pos, Predicted: neg, Text: some of the most inventive silliness you are likely to witness in a movie theatre for some time .\n",
            "Example 442: Actual: pos, Predicted: neg, Text: even though many of these guys are less than adorable ( their lamentations are pretty much self-centered ) , there's something vital about the movie .\n",
            "Example 446: Actual: pos, Predicted: neg, Text: cube's charisma and chemistry compensate for corniness and cliche .\n",
            "Example 447: Actual: pos, Predicted: neg, Text: shyamalan offers copious hints along the way -- myriad signs , if you will -- that beneath the familiar , funny surface is a far bigger , far more meaningful story than one in which little green men come to earth for harvesting purposes .\n",
            "Example 453: Actual: pos, Predicted: neg, Text: the mark of a respectable summer blockbuster is one of two things : unadulterated thrills or genuine laughs .\n",
            "Example 461: Actual: pos, Predicted: neg, Text: as it turns out , you can go home again .\n",
            "Example 468: Actual: pos, Predicted: neg, Text: it's like a \" big chill \" reunion of the baader-meinhof gang , only these guys are more harmless pranksters than political activists .\n",
            "Example 470: Actual: pos, Predicted: neg, Text: so refreshingly incisive is grant that for the first time he'll probably appeal more to guys than to their girlfriends who drag them to this movie for the hugh factor .\n",
            "Example 473: Actual: pos, Predicted: neg, Text: . . . a series of tales told with the intricate preciseness of the best short story writing .\n",
            "Example 478: Actual: pos, Predicted: neg, Text: sound the trumpets : for the first time since desperately seeking susan , madonna doesn't suck as an actress .\n",
            "Example 481: Actual: pos, Predicted: neg, Text: the story has some nice twists but the ending and some of the back-story is a little tired . the performances are all solid ; it merely lacks originality to make it a great movie .\n",
            "Example 482: Actual: pos, Predicted: neg, Text: . . . a fun little timewaster , helped especially by the cool presence of jean reno .\n",
            "Example 483: Actual: pos, Predicted: neg, Text: the directive to protect the code at all costs also begins to blur as the importance of the man and the code merge\n",
            "Example 486: Actual: pos, Predicted: neg, Text: remember the kind of movie we were hoping \" ecks vs . sever \" or \" xxx \" was going to be ? this is it .\n",
            "Example 497: Actual: pos, Predicted: neg, Text: [schweiger is] talented and terribly charismatic , qualities essential to both movie stars and social anarchists .\n",
            "Example 501: Actual: pos, Predicted: neg, Text: its maker , steven spielberg , hasn't had so much fun in two decades , since he was schlepping indiana jones around the globe in search of a giant misplaced ashtray .\n",
            "Example 506: Actual: pos, Predicted: neg, Text: be prepared to cling to the edge of your seat , tense with suspense . the ring never lets you off the hook .\n",
            "Example 509: Actual: pos, Predicted: neg, Text: the movie exists for its soccer action and its fine acting .\n",
            "Example 514: Actual: pos, Predicted: neg, Text: a lot more dimensional and complex than its sunny disposition would lead you to believe .\n",
            "Example 517: Actual: pos, Predicted: neg, Text: this 90-minute postmodern voyage was more diverting and thought-provoking than i'd expected it to be .\n",
            "Example 518: Actual: pos, Predicted: neg, Text: how good this film might be , depends if you believe that the shocking conclusion is too much of a plunge or not .\n",
            "Example 524: Actual: pos, Predicted: neg, Text: hardly a film that comes along every day .\n",
            "Example 530: Actual: pos, Predicted: neg, Text: a depressing confirmation of everything those of us who don't object to the description \" unelected \" have suspected all along : george w . bush is an incurious , uncharismatic , overgrown frat boy with a mean streak a mile wide .\n",
            "Example 533: Actual: pos, Predicted: neg, Text: waiting for godard can be fruitful : 'in praise of love' is the director's epitaph for himself .\n",
            "Example 535: Actual: pos, Predicted: neg, Text: 'frailty \" starts out like a typical bible killer story , but it turns out to be significantly different ( and better ) than most films with this theme .\n",
            "Example 537: Actual: pos, Predicted: neg, Text: a mess , but it's a sincere mess .\n",
            "Example 540: Actual: pos, Predicted: neg, Text: inside the film's conflict-powered plot there is a decent moral trying to get out , but it's not that , it's the tension that keeps you in your seat . affleck and jackson are good sparring partners .\n",
            "Example 541: Actual: pos, Predicted: neg, Text: director douglas mcgrath takes on nickleby with all the halfhearted zeal of an 8th grade boy delving into required reading .\n",
            "Example 544: Actual: pos, Predicted: neg, Text: the lion king was a roaring success when it was released eight years ago , but on imax it seems better , not just bigger .\n",
            "Example 545: Actual: pos, Predicted: neg, Text: it's not going to be everyone's bag of popcorn , but it definitely gives you something to chew on .\n",
            "Example 547: Actual: pos, Predicted: neg, Text: pretty good little movie .\n",
            "Example 550: Actual: pos, Predicted: neg, Text: the hours makes you examine your own life in much the same way its characters do , and the experience is profound . the hours is what movies are supposed to be . . .\n",
            "Example 551: Actual: pos, Predicted: neg, Text: turns potentially forgettable formula into something strangely diverting .\n",
            "Example 553: Actual: pos, Predicted: neg, Text: this is so de palma . if you love him , you'll like it . if you don't . . . well , skip to another review .\n",
            "Example 554: Actual: pos, Predicted: neg, Text: the obnoxious title character provides the drama that gives added clout to this doc .\n",
            "Example 555: Actual: pos, Predicted: neg, Text: the plot twists give i am trying to break your heart an attraction it desperately needed .\n",
            "Example 561: Actual: pos, Predicted: neg, Text: none of this is meaningful or memorable , but frosting isn't , either , and you wouldn't turn down a big bowl of that , would you ?\n",
            "Example 562: Actual: pos, Predicted: neg, Text: a very pretty after-school special . it's an effort to watch this movie , but it eventually pays off and is effective if you stick with it .\n",
            "Example 572: Actual: pos, Predicted: neg, Text: the best movie of its kind since 'brazil . ' lucas , take notes . this is how you use special effects .\n",
            "Example 575: Actual: pos, Predicted: neg, Text: what time is it there ? is not easy . it haunts you , you can't forget it , you admire its conception and are able to resolve some of the confusions you had while watching it .\n",
            "Example 578: Actual: pos, Predicted: neg, Text: an ambitious 'what if ? ' that works .\n",
            "Example 582: Actual: pos, Predicted: neg, Text: what makes the movie special is its utter sincerity .\n",
            "Example 591: Actual: pos, Predicted: neg, Text: this one is not nearly as dreadful as expected . in fact , it's quite fun in places .\n",
            "Example 592: Actual: pos, Predicted: neg, Text: even if you've seen \" stomp \" ( the stage show ) , you still have to see this !\n",
            "Example 594: Actual: pos, Predicted: neg, Text: an intelligent , earnest , intimate film that drops the ball only when it pauses for blunt exposition to make sure you're getting its metaphysical point .\n",
            "Example 595: Actual: pos, Predicted: neg, Text: on its own , big trouble could be considered a funny little film .\n",
            "Example 596: Actual: pos, Predicted: neg, Text: in a summer overrun with movies dominated by cgi aliens and super heroes , it revigorates the mind to see a feature that concentrates on people , a project in which the script and characters hold sway .\n",
            "Example 599: Actual: pos, Predicted: neg, Text: i don't feel the least bit ashamed in admitting that my enjoyment came at the expense of seeing justice served , even if it's a dish that's best served cold .\n",
            "Example 606: Actual: pos, Predicted: neg, Text: long after you leave justine , you'll be wondering what will happen to her and wishing her the best -- whatever that might mean .\n",
            "Example 608: Actual: pos, Predicted: neg, Text: it's not a great monster movie . but if you've paid a matinee price and bought a big tub of popcorn , there's guilty fun to be had here . chomp chomp !\n",
            "Example 609: Actual: pos, Predicted: neg, Text: smith finds amusing juxtapositions that justify his exercise .\n",
            "Example 610: Actual: pos, Predicted: neg, Text: not all of the stories work and the ones that do are thin and scattered , but the film works well enough to make it worth watching .\n",
            "Example 612: Actual: pos, Predicted: neg, Text: if you're looking for an intelligent movie in which you can release your pent up anger , enough is just the ticket you need .\n",
            "Example 618: Actual: pos, Predicted: neg, Text: the biggest problem with this movie is that it's not nearly long enough .\n",
            "Example 623: Actual: pos, Predicted: neg, Text: quite simply , a joy to watch and--especially--to listen to .\n",
            "Example 634: Actual: pos, Predicted: neg, Text: the modern master of the chase sequence returns with a chase to end all chases\n",
            "Example 641: Actual: pos, Predicted: neg, Text: a strong and confident work which works so well for the first 89 minutes , but ends so horrendously confusing in the final two\n",
            "Example 647: Actual: pos, Predicted: neg, Text: as a film director , labute continues to improve .\n",
            "Example 652: Actual: pos, Predicted: neg, Text: for veggietales fans , this is more appetizing than a side dish of asparagus . if you're not a fan , it might be like trying to eat brussels sprouts .\n",
            "Example 655: Actual: pos, Predicted: neg, Text: those of you who don't believe in santa claus probably also think that sequels can never capture the magic of the original . well , this movie proves you wrong on both counts .\n",
            "Example 656: Actual: pos, Predicted: neg, Text: hailed as a clever exercise in neo-hitchcockianism , this clever and very satisfying picture is more accurately chabrolian .\n",
            "Example 657: Actual: pos, Predicted: neg, Text: the paradiso's rusted-out ruin and ultimate collapse during the film's final ( restored ) third emotionally belittle a cinema classic . sometimes shorter is better .\n",
            "Example 669: Actual: pos, Predicted: neg, Text: cool ? this movie is a snow emergency .\n",
            "Example 677: Actual: pos, Predicted: neg, Text: sure , it's more of the same , but as the film proves , that's not always a bad thing .\n",
            "Example 680: Actual: pos, Predicted: neg, Text: too often , son of the bride becomes an exercise in trying to predict when a preordained \" big moment \" will occur and not \" if . \"\n",
            "Example 683: Actual: pos, Predicted: neg, Text: the second coming of harry potter is a film far superior to its predecessor . a movie that successfully crushes a best selling novel into a timeframe that mandates that you avoid the godzilla sized soda .\n",
            "Example 684: Actual: pos, Predicted: neg, Text: you can almost see mendes and company getting together before a single frame had been shot and collectively vowing , 'this is going to be something really good . ' and it is .\n",
            "Example 687: Actual: pos, Predicted: neg, Text: first and foremost . . . the reason to go see \" blue crush \" is the phenomenal , water-born cinematography by david hennings .\n",
            "Example 688: Actual: pos, Predicted: neg, Text: a naturally funny film , home movie makes you crave chris smith's next movie .\n",
            "Example 690: Actual: pos, Predicted: neg, Text: somewhere short of tremors on the modern b-scene : neither as funny nor as clever , though an agreeably unpretentious way to spend ninety minutes .\n",
            "Example 693: Actual: pos, Predicted: neg, Text: it's like rocky and bullwinkle on speed , but that's neither completely enlightening , nor does it catch the intensity of the movie's strangeness .\n",
            "Example 694: Actual: pos, Predicted: neg, Text: not so much a movie as a picture book for the big screen . this isn't my favorite in the series , still i enjoyed it enough to recommend .\n",
            "Example 695: Actual: pos, Predicted: neg, Text: a beautiful paean to a time long past .\n",
            "Example 706: Actual: pos, Predicted: neg, Text: the film's highlight is definitely its screenplay , both for the rhapsodic dialogue that jumps off the page , and for the memorable character creations .\n",
            "Example 711: Actual: pos, Predicted: neg, Text: it's no accident that the accidental spy is a solid action pic that returns the martial arts master to top form .\n",
            "Example 715: Actual: pos, Predicted: neg, Text: compulsively watchable , no matter how degraded things get .\n",
            "Example 720: Actual: pos, Predicted: neg, Text: reign of fire looks as if it was made without much thought -- and is best watched that way .\n",
            "Example 722: Actual: pos, Predicted: neg, Text: it's another retelling of alexandre dumas' classic . why ? who knows , but it works under the direction of kevin reynolds .\n",
            "Example 723: Actual: pos, Predicted: neg, Text: dog soldiers doesn't transcend genre -- it embraces it , energizes it and takes big bloody chomps out of it .\n",
            "Example 727: Actual: pos, Predicted: neg, Text: carrying off a spot-on scottish burr , duvall ( also a producer ) peels layers from this character that may well not have existed on paper .\n",
            "Example 732: Actual: pos, Predicted: neg, Text: if you're looking for something new and hoping for something entertaining , you're in luck .\n",
            "Example 742: Actual: pos, Predicted: neg, Text: halloween : resurrection isn't exactly quality cinema , but it isn't nearly as terrible as it cold have been .\n",
            "Example 747: Actual: pos, Predicted: neg, Text: there's no clear picture of who killed bob crane . but here's a glimpse at his life .\n",
            "Example 749: Actual: pos, Predicted: neg, Text: a highly spirited , imaginative kid's movie that broaches neo-augustinian theology : is god stuck in heaven because he's afraid of his best-known creation ?\n",
            "Example 753: Actual: pos, Predicted: neg, Text: run , don't walk , to see this barbed and bracing comedy on the big screen .\n",
            "Example 755: Actual: pos, Predicted: neg, Text: ok arthouse . the power of this script , and the performances that come with it , is that the whole damned thing didn't get our moral hackles up .\n",
            "Example 760: Actual: pos, Predicted: neg, Text: children may not understand everything that happens -- i'm not sure even miyazaki himself does -- but they will almost certainly be fascinated , and undoubtedly delighted .\n",
            "Example 761: Actual: pos, Predicted: neg, Text: far more imaginative and ambitious than the trivial , cash-in features nickelodeon has made from its other animated tv series .\n",
            "Example 764: Actual: pos, Predicted: neg, Text: skip work to see it at the first opportunity .\n",
            "Example 778: Actual: pos, Predicted: neg, Text: if the very concept makes you nervous . . . you'll have an idea of the film's creepy , scary effectiveness .\n",
            "Example 779: Actual: pos, Predicted: neg, Text: grant is certainly amusing , but the very hollowness of the character he plays keeps him at arms length\n",
            "Example 781: Actual: pos, Predicted: neg, Text: has far more energy , wit and warmth than should be expected from any movie with a \" 2 \" at the end of its title .\n",
            "Example 783: Actual: pos, Predicted: neg, Text: there has been much puzzlement among critics about what the election symbolizes . i believe the message is in the messenger : the agent is a woman .\n",
            "Example 804: Actual: pos, Predicted: neg, Text: it's so good that you can practically see the hollywood 'suits' trying to put together the cast and filmmaking team for the all-too -inevitable american remake .\n",
            "Example 811: Actual: pos, Predicted: neg, Text: will you go ape over this movie ? well , it probably won't have you swinging from the trees hooting it's praises , but it's definitely worth taking a look .\n",
            "Example 812: Actual: pos, Predicted: neg, Text: adams , with four scriptwriters , takes care with the characters , who are so believable that you feel what they feel .\n",
            "Example 813: Actual: pos, Predicted: neg, Text: the film is an earnest try at beachcombing verismo , but it would be even more indistinct than it is were it not for the striking , quietly vulnerable personality of ms . ambrose .\n",
            "Example 815: Actual: pos, Predicted: neg, Text: secretary is just too original to be ignored .\n",
            "Example 816: Actual: pos, Predicted: neg, Text: i've never seen or heard anything quite like this film , and i recommend it for its originality alone .\n",
            "Example 818: Actual: pos, Predicted: neg, Text: insanely hilarious ! i haven't laughed that hard in years !\n",
            "Example 819: Actual: pos, Predicted: neg, Text: some people want the ol' ball-and-chain and then there are those who just want the ball and chain .\n",
            "Example 823: Actual: pos, Predicted: neg, Text: good car chases , great fight scenes , and a distinctive blend of european , american and asian influences .\n",
            "Example 828: Actual: pos, Predicted: neg, Text: as comedic spotlights go , notorious c . h . o . hits all the verbal marks it should .\n",
            "Example 830: Actual: pos, Predicted: neg, Text: without [de niro] , city by the sea would slip under the waves . he drags it back , single-handed .\n",
            "Example 836: Actual: pos, Predicted: neg, Text: worth a salute just for trying to be more complex than your average film .\n",
            "Example 841: Actual: pos, Predicted: neg, Text: what begins as a film in the tradition of the graduate quickly switches into something more recyclable than significant .\n",
            "Example 845: Actual: pos, Predicted: neg, Text: as a witness to several greek-american weddings -- but , happily , a victim of none -- i can testify to the comparative accuracy of ms . vardalos' memories and insights .\n",
            "Example 849: Actual: pos, Predicted: neg, Text: a bodice-ripper for intellectuals .\n",
            "Example 853: Actual: pos, Predicted: neg, Text: creeps you out in high style , even if nakata did it better .\n",
            "Example 855: Actual: pos, Predicted: neg, Text: a rip-roaring comedy action fest that'll put hairs on your chest .\n",
            "Example 857: Actual: pos, Predicted: neg, Text: as home movie gone haywire , it's pretty enjoyable , but as sexual manifesto , i'd rather listen to old tori amos records .\n",
            "Example 858: Actual: pos, Predicted: neg, Text: the actors are simply too good , and the story too intriguing , for technical flaws to get in the way .\n",
            "Example 864: Actual: pos, Predicted: neg, Text: there's no reason to miss interview with the assassin\n",
            "Example 866: Actual: pos, Predicted: neg, Text: lacks the inspiration of the original and has a bloated plot that stretches the running time about 10 minutes past a child's interest and an adult's patience . but it also has many of the things that made the first one charming .\n",
            "Example 873: Actual: pos, Predicted: neg, Text: my goodness , queen latifah has a lot to offer and she seemed to have no problem flaunting her natural gifts . she must have a very strong back .\n",
            "Example 897: Actual: pos, Predicted: neg, Text: could have been crisper and punchier , but it's likely to please audiences who like movies that demand four hankies .\n",
            "Example 898: Actual: pos, Predicted: neg, Text: the script is smart , not cloying .\n",
            "Example 903: Actual: pos, Predicted: neg, Text: a cautionary tale about the grandiosity of a college student who sees himself as impervious to a fall .\n",
            "Example 906: Actual: pos, Predicted: neg, Text: an ambitious movie that , like shiner's organizing of the big fight , pulls off enough of its effects to make up for the ones that don't come off .\n",
            "Example 910: Actual: pos, Predicted: neg, Text: i'd be lying if i said my ribcage didn't ache by the end of kung pow .\n",
            "Example 912: Actual: pos, Predicted: neg, Text: though the film never veers from its comic course , its unintentional parallels might inadvertently evoke memories and emotions which are anything but humorous .\n",
            "Example 913: Actual: pos, Predicted: neg, Text: not as distinctive or even as humorous as its needs to be to stand out , but it has clearly been made with affection and care .\n",
            "Example 925: Actual: pos, Predicted: neg, Text: \" austin powers in goldmember \" has the right stuff for silly summer entertainment and has enough laughs to sustain interest to the end .\n",
            "Example 927: Actual: pos, Predicted: neg, Text: a fun family movie that's suitable for all ages -- a movie that will make you laugh , cry and realize , 'it's never too late to believe in your dreams . '\n",
            "Example 929: Actual: pos, Predicted: neg, Text: the movie should be credited with remembering his victims .\n",
            "Example 931: Actual: pos, Predicted: neg, Text: high crimes steals so freely from other movies and combines enough disparate types of films that it can't help but engage an audience .\n",
            "Example 934: Actual: pos, Predicted: neg, Text: this movie has a strong message about never giving up on a loved one , but it's not an easy movie to watch and will probably disturb many who see it .\n",
            "Example 935: Actual: pos, Predicted: neg, Text: stuart's poor-me persona needs a whole bunch of snowball's cynicism to cut through the sugar coating . but once the falcon arrives in the skies above manhattan , the adventure is on red alert .\n",
            "Example 948: Actual: pos, Predicted: neg, Text: \" what really happened ? \" is a question for philosophers , not filmmakers ; all the filmmakers need to do is engage an audience .\n",
            "Example 950: Actual: pos, Predicted: neg, Text: harks back to a time when movies had more to do with imagination than market research .\n",
            "Example 958: Actual: pos, Predicted: neg, Text: i walked away from this new version of e . t . just as i hoped i would -- with moist eyes .\n",
            "Example 959: Actual: pos, Predicted: neg, Text: once folks started hanging out at the barbershop , they never wanted to leave . chances are you won't , either .\n",
            "Example 960: Actual: pos, Predicted: neg, Text: vincent gallo is right at home in this french shocker playing his usual bad boy weirdo role .\n",
            "Example 962: Actual: pos, Predicted: neg, Text: it will make you think twice about what might be going on inside each trailer park you drive past -- even if it chiefly inspires you to drive a little faster .\n",
            "Example 964: Actual: pos, Predicted: neg, Text: contrasting the original ringu with the current americanized adaptation is akin to comparing the evil dead with evil dead ii\n",
            "Example 968: Actual: pos, Predicted: neg, Text: jackie chan movies are a guilty pleasure - he's easy to like and always leaves us laughing .\n",
            "Example 973: Actual: pos, Predicted: neg, Text: despite the long running time , the pace never feels slack -- there's no scene that screams \" bathroom break ! \"\n",
            "Example 976: Actual: pos, Predicted: neg, Text: 'it's better to go in knowing full well what's going to happen , but willing to let the earnestness of its execution and skill of its cast take you down a familiar road with a few twists . cynics need not apply . '\n",
            "Example 977: Actual: pos, Predicted: neg, Text: talk to her is so darned assured , we have absolutely no idea who the main characters are until the film is well under way -- and yet it's hard to stop watching .\n",
            "Example 981: Actual: pos, Predicted: neg, Text: as shaky as the plot is , kaufman's script is still memorable for some great one-liners .\n",
            "Example 985: Actual: pos, Predicted: neg, Text: about the best thing you could say about narc is that it's a rock-solid little genre picture . whether you like it or not is basically a matter of taste .\n",
            "Example 989: Actual: pos, Predicted: neg, Text: this time out , [sade] is an unsettlingly familiar figure -- in turns loyal and deceitful , responsible and reckless , idealistically selfless and coldly self-interested .\n",
            "Example 997: Actual: pos, Predicted: neg, Text: byler is too savvy a filmmaker to let this morph into a typical romantic triangle . instead , he focuses on the anguish that can develop when one mulls leaving the familiar to traverse uncharted ground .\n",
            "Example 998: Actual: pos, Predicted: neg, Text: stephen earnhart's homespun documentary mule skinner blues has nothing but love for its posse of trailer park denizens .\n",
            "Example 1000: Actual: pos, Predicted: neg, Text: another one of those estrogen overdose movies like \" divine secrets of the ya ya sisterhood , \" except that the writing , acting and character development are a lot better .\n",
            "Example 1001: Actual: pos, Predicted: neg, Text: there's very little sense to what's going on here , but the makers serve up the cliches with considerable dash .\n",
            "Example 1004: Actual: pos, Predicted: neg, Text: its almost too-spectacular coastal setting distracts slightly from an eccentric and good-naturedly aimless story .\n",
            "Example 1005: Actual: pos, Predicted: neg, Text: even when foreign directors . . . borrow stuff from hollywood , they invariably shake up the formula and make it more interesting .\n",
            "Example 1006: Actual: pos, Predicted: neg, Text: thumbs up to paxton for not falling into the hollywood trap and making a vanity project with nothing new to offer .\n",
            "Example 1010: Actual: pos, Predicted: neg, Text: if you grew up on scooby -- you'll love this movie . matthew lillard is born to play shaggy !\n",
            "Example 1012: Actual: pos, Predicted: neg, Text: the actresses find their own rhythm and protect each other from the script's bad ideas and awkwardness .\n",
            "Example 1017: Actual: pos, Predicted: neg, Text: the movie is not as terrible as the synergistic impulse that created it .\n",
            "Example 1018: Actual: pos, Predicted: neg, Text: ' . . . despite lagging near the finish line , the movie runs a good race , one that will have you at the edge of your seat for long stretches . '\n",
            "Example 1024: Actual: pos, Predicted: neg, Text: with one exception , every blighter in this particular south london housing project digs into dysfunction like it's a big , comforting jar of marmite , to be slathered on crackers and served as a feast of bleakness .\n",
            "Example 1027: Actual: pos, Predicted: neg, Text: the result is somewhat satisfying -- it still comes from spielberg , who has never made anything that wasn't at least watchable . but it's also disappointing to a certain degree .\n",
            "Example 1032: Actual: pos, Predicted: neg, Text: well-acted , well-directed and , for all its moodiness , not too pretentious .\n",
            "Example 1035: Actual: pos, Predicted: neg, Text: like its predecessor , it's no classic , but it provides a reasonably attractive holiday contraption , one that families looking for a clean , kid-friendly outing should investigate .\n",
            "Example 1036: Actual: pos, Predicted: neg, Text: watching beanie and his gang put together his slasher video from spare parts and borrowed materials is as much fun as it must have been for them to make it .\n",
            "Example 1039: Actual: pos, Predicted: neg, Text: it's about as convincing as any other arnie musclefest , but has a little too much resonance with real world events and ultimately comes off as insultingly simplistic .\n",
            "Example 1042: Actual: pos, Predicted: neg, Text: here's yet another studio horror franchise mucking up its storyline with glitches casual fans could correct in their sleep . but taken as a stylish and energetic one-shot , the queen of the damned cannot be said to suck .\n",
            "Example 1045: Actual: pos, Predicted: neg, Text: goldmember is funny enough to justify the embarrassment of bringing a barf bag to the moviehouse .\n",
            "Example 1046: Actual: pos, Predicted: neg, Text: spend your benjamins on a matinee .\n",
            "Example 1056: Actual: pos, Predicted: neg, Text: it's not exactly a gourmet meal but the fare is fair , even coming from the drive-thru .\n",
            "Example 1065: Actual: pos, Predicted: neg, Text: other than the slightly flawed ( and fairly unbelievable ) finale , everything else is top shelf .\n",
            "Example 1067: Actual: neg, Predicted: pos, Text: este é apenas mais um ( longo ) episódio do programa da mtv . a única diferença é que , desta vez , a paramount teve o mau gosto de exibi-lo nos cinemas .\n",
            "Example 1074: Actual: neg, Predicted: pos, Text: yes , one enjoys seeing joan grow from awkward young woman to strong , determined monarch , but her love for the philandering philip only diminishes her stature .\n",
            "Example 1076: Actual: neg, Predicted: pos, Text: un thriller manqué qui tombe sur les nerfs presque dès la première image .\n",
            "Example 1080: Actual: neg, Predicted: pos, Text: \" what john does is heroic , but we don't condone it , \" one of the film's stars recently said , a tortuous comment that perfectly illustrates the picture's moral schizophrenia .\n",
            "Example 1085: Actual: neg, Predicted: pos, Text: never does \" lilo & stitch \" reach the emotion or timelessness of disney's great past , or even that of more recent successes such as \" mulan \" or \" tarzan . \"\n",
            "Example 1094: Actual: neg, Predicted: pos, Text: for the future , one hopes mr . plympton will find room for one more member of his little band , a professional screenwriter .\n",
            "Example 1101: Actual: neg, Predicted: pos, Text: \" i blame all men for war , \" [the warden's daughter] tells her father . the movie is about as deep as that sentiment .\n",
            "Example 1107: Actual: neg, Predicted: pos, Text: this latest installment of the horror film franchise that is apparently as invulnerable as its trademark villain has arrived for an incongruous summer playoff , demonstrating yet again that the era of the intelligent , well-made b movie is long gone .\n",
            "Example 1122: Actual: neg, Predicted: pos, Text: everything about girls can't swim , even its passages of sensitive observation , feels secondhand , familiar -- and not in a good way .\n",
            "Example 1123: Actual: neg, Predicted: pos, Text: a generic family comedy unlikely to be appreciated by anyone outside the under-10 set .\n",
            "Example 1124: Actual: neg, Predicted: pos, Text: 'christian bale's quinn [is] a leather clad grunge-pirate with a hairdo like gandalf in a wind-tunnel and a simply astounding cor-blimey-luv-a-duck cockney accent . '\n",
            "Example 1126: Actual: neg, Predicted: pos, Text: ostensibly celebrates middle-aged girl power , even as it presents friendship between women as pathetic , dysfunctional and destructive .\n",
            "Example 1127: Actual: neg, Predicted: pos, Text: mr . wollter and ms . seldhal give strong and convincing performances , but neither reaches into the deepest recesses of the character to unearth the quaking essence of passion , grief and fear .\n",
            "Example 1128: Actual: neg, Predicted: pos, Text: the stories here suffer from the chosen format .\n",
            "Example 1129: Actual: neg, Predicted: pos, Text: a sub-formulaic slap in the face to seasonal cheer .\n",
            "Example 1131: Actual: neg, Predicted: pos, Text: a plodding look at the french revolution through the eyes of aristocrats .\n",
            "Example 1160: Actual: neg, Predicted: pos, Text: the sum of all fears is remarkably fuddled about motives and context , which drains it of the dramatic substance that would shake us in our boots ( or cinema seats ) .\n",
            "Example 1164: Actual: neg, Predicted: pos, Text: despite its visual virtuosity , 'naqoyqatsi' is banal in its message and the choice of material to convey it .\n",
            "Example 1175: Actual: neg, Predicted: pos, Text: as a kind of colorful , dramatized pbs program , frida gets the job done . but , for that , why not watch a documentary ?\n",
            "Example 1182: Actual: neg, Predicted: pos, Text: pumpkin struts about with \" courage \" pinned to its huckster lapel while a yellow streak a mile wide decorates its back .\n",
            "Example 1187: Actual: neg, Predicted: pos, Text: secret ballot is too contemplative to be really funny .\n",
            "Example 1188: Actual: neg, Predicted: pos, Text: sustains its dreamlike glide through a succession of cheesy coincidences and voluptuous cheap effects , not the least of which is rebecca romijn-stamos .\n",
            "Example 1199: Actual: neg, Predicted: pos, Text: what might've been an exhilarating exploration of an odd love triangle becomes a sprawl of uncoordinated vectors .\n",
            "Example 1216: Actual: neg, Predicted: pos, Text: elaborate special effects take centre screen , so that the human story is pushed to one side .\n",
            "Example 1228: Actual: neg, Predicted: pos, Text: martin scorsese cria um espetáculo visual que não possui alma - um filme esteticamente belo , mas emocionalmente frio .\n",
            "Example 1234: Actual: neg, Predicted: pos, Text: admirable , certainly , but not much fun to watch . for caine lovers only .\n",
            "Example 1245: Actual: neg, Predicted: pos, Text: it's not so much a movie as a joint promotion for the national basketball association and teenaged rap and adolescent poster-boy lil' bow wow .\n",
            "Example 1246: Actual: neg, Predicted: pos, Text: a backhanded ode to female camaraderie penned by a man who has little clue about either the nature of women or of friendship .\n",
            "Example 1247: Actual: neg, Predicted: pos, Text: a technical triumph and an extraordinary bore .\n",
            "Example 1253: Actual: neg, Predicted: pos, Text: the man from elysian fields is a cold , bliss-less work that groans along thinking itself some important comment on how life throws us some beguiling curves .\n",
            "Example 1255: Actual: neg, Predicted: pos, Text: as much as i laughed throughout the movie , i cannot mount a cogent defense of the film as entertainment , or even performance art , although the movie does leave you marveling at these guys' superhuman capacity to withstand pain .\n",
            "Example 1259: Actual: neg, Predicted: pos, Text: the movie is like a year late for tapping into our reality tv obsession , and even tardier for exploiting the novelty of the \" webcast . \"\n",
            "Example 1260: Actual: neg, Predicted: pos, Text: \" an entire film about researchers quietly reading dusty old letters . \"\n",
            "Example 1264: Actual: neg, Predicted: pos, Text: draggin' about dragons\n",
            "Example 1266: Actual: neg, Predicted: pos, Text: 'rare birds' tries to force its quirkiness upon the audience .\n",
            "Example 1269: Actual: neg, Predicted: pos, Text: a puzzling experience .\n",
            "Example 1270: Actual: neg, Predicted: pos, Text: whatever eyre's failings as a dramatist , he deserves credit for bringing audiences into this hard and bitter place .\n",
            "Example 1274: Actual: neg, Predicted: pos, Text: any film that doesn't even in passing mention political prisoners , poverty and the boat loads of people who try to escape the country is less a documentary and more propaganda by way of a valentine sealed with a kiss .\n",
            "Example 1275: Actual: neg, Predicted: pos, Text: a sentimental hybrid that could benefit from the spice of specificity .\n",
            "Example 1278: Actual: neg, Predicted: pos, Text: however clever nelson has been in providing variation within the confines of her structure and staging , the question remains whether this should , indeed , have been presented as a theatrical release .\n",
            "Example 1280: Actual: neg, Predicted: pos, Text: and people make fun of me for liking showgirls</> .\n",
            "Example 1282: Actual: neg, Predicted: pos, Text: a movie that harps on media-constructed 'issues' like whether compromise is the death of self this orgasm [won't be an] exceedingly memorable one for most people .\n",
            "Example 1286: Actual: neg, Predicted: pos, Text: about as satisfying and predictable as the fare at your local drive through .\n",
            "Example 1290: Actual: neg, Predicted: pos, Text: labute can't avoid a fatal mistake in the modern era : he's changed the male academic from a lower-class brit to an american , a choice that upsets the novel's exquisite balance and shreds the fabric of the film .\n",
            "Example 1293: Actual: neg, Predicted: pos, Text: represents something very close to the nadir of the thriller/horror genre .\n",
            "Example 1296: Actual: neg, Predicted: pos, Text: the film takes the materials of human tragedy and dresses them in lovely costumes , southern california locations and star power .\n",
            "Example 1297: Actual: neg, Predicted: pos, Text: 'god help us , but capra and cooper are rolling over in their graves . '\n",
            "Example 1299: Actual: neg, Predicted: pos, Text: if you enjoy being rewarded by a script that assumes you aren't very bright , then blood work is for you .\n",
            "Example 1308: Actual: neg, Predicted: pos, Text: chokes on its own depiction of upper-crust decorum .\n",
            "Example 1314: Actual: neg, Predicted: pos, Text: weiss and speck never make a convincing case for the relevance of these two 20th-century footnotes .\n",
            "Example 1315: Actual: neg, Predicted: pos, Text: has the feel of an unedited personal journal .\n",
            "Example 1319: Actual: neg, Predicted: pos, Text: plays like an unbalanced mixture of graphic combat footage and almost saccharine domestic interludes that are pure hollywood .\n",
            "Example 1324: Actual: neg, Predicted: pos, Text: does little to elaborate the conceit of setting this blood-soaked tragedy of murderous ambition in the era of richard nixon .\n",
            "Example 1325: Actual: neg, Predicted: pos, Text: the film is grossly contradictory in conveying its social message , if indeed there is one .\n",
            "Example 1331: Actual: neg, Predicted: pos, Text: the innocence of holiday cheer ain't what it used to be .\n",
            "Example 1336: Actual: neg, Predicted: pos, Text: kurys never shows why , of all the period's volatile romantic lives , sand and musset are worth particular attention .\n",
            "Example 1349: Actual: neg, Predicted: pos, Text: mark wahlberg . . . may look classy in a '60s-homage pokepie hat , but as a character he's dry , dry , dry .\n",
            "Example 1350: Actual: neg, Predicted: pos, Text: it's a deeply serious movie that cares passionately about its subject , but too often becomes ponderous in its teaching of history , or lost in the intricate connections and multiple timelines of its story .\n",
            "Example 1360: Actual: neg, Predicted: pos, Text: the most remarkable ( and frustrating ) thing about world traveler , which opens today in manhattan , is that its protagonist , after being an object of intense scrutiny for 104 minutes , remains a complete blank .\n",
            "Example 1363: Actual: neg, Predicted: pos, Text: the cartoon is about as true to the spirit of the festival of lights as mr . deeds was to that of frank capra .\n",
            "Example 1364: Actual: neg, Predicted: pos, Text: a solid film . . . but more conscientious than it is truly stirring .\n",
            "Example 1373: Actual: neg, Predicted: pos, Text: roger michell , who did an appealing job directing persuasion and notting hill in england , gets too artsy in his american debut .\n",
            "Example 1378: Actual: neg, Predicted: pos, Text: the experience of going to a film festival is a rewarding one ; the experiencing of sampling one through this movie is not .\n",
            "Example 1387: Actual: neg, Predicted: pos, Text: cruel and inhuman cinematic punishment . . . simultaneously degrades its characters , its stars and its audience .\n",
            "Example 1391: Actual: neg, Predicted: pos, Text: piccoli's performance is amazing , yes , but the symbols of loss and denial and life-at-arm's-length in the film seem irritatingly transparent .\n",
            "Example 1397: Actual: neg, Predicted: pos, Text: you see robert de niro singing - and dancing to - west side story show tunes . choose your reaction : a . ) that sure is funny ! b . ) that sure is pathetic !\n",
            "Example 1400: Actual: neg, Predicted: pos, Text: at no point during k-19 : the widowmaker did this viewer feel enveloped in a story that , though meant to be universal in its themes of loyalty , courage and dedication to a common goal , never seems to leave the lot .\n",
            "Example 1402: Actual: neg, Predicted: pos, Text: one of those films that started with a great premise and then just fell apart .\n",
            "Example 1406: Actual: neg, Predicted: pos, Text: to say analyze that is de niro's best film since meet the parents sums up the sad state of his recent career .\n",
            "Example 1407: Actual: neg, Predicted: pos, Text: handled correctly , wilde's play is a masterpiece of elegant wit and artifice . here , alas , it collapses like an overcooked soufflé .\n",
            "Example 1411: Actual: neg, Predicted: pos, Text: on its icy face , the new film is a subzero version of monsters , inc . , without the latter's imagination , visual charm or texture .\n",
            "Example 1418: Actual: neg, Predicted: pos, Text: [evans is] a fascinating character , and deserves a better vehicle than this facetious smirk of a movie .\n",
            "Example 1419: Actual: neg, Predicted: pos, Text: watching trouble every day , at least if you don't know what's coming , is like biting into what looks like a juicy , delicious plum on a hot summer day and coming away with your mouth full of rotten pulp and living worms .\n",
            "Example 1420: Actual: neg, Predicted: pos, Text: typical animé , with cheapo animation ( like saturday morning tv in the '60s ) , a complex sword-and-sorcery plot and characters who all have big round eyes and japanese names .\n",
            "Example 1425: Actual: neg, Predicted: pos, Text: the emperor's club is one of those films that possesses all the good intentions in the world , but . . .\n",
            "Example 1433: Actual: neg, Predicted: pos, Text: safe conduct , however ambitious and well-intentioned , fails to hit the entertainment bull's-eye .\n",
            "Example 1434: Actual: neg, Predicted: pos, Text: while the production details are lavish , film has little insight into the historical period and its artists , particularly in how sand developed a notorious reputation .\n",
            "Example 1437: Actual: neg, Predicted: pos, Text: when cowering and begging at the feet a scruffy giannini , madonna gives her best performance since abel ferrara had her beaten to a pulp in his dangerous game .\n",
            "Example 1439: Actual: neg, Predicted: pos, Text: never inspires more than an interested detachment .\n",
            "Example 1444: Actual: neg, Predicted: pos, Text: the average local news columnist has a bigger rant on the war between modern landscape architecture and small-town america .\n",
            "Example 1445: Actual: neg, Predicted: pos, Text: the movie is like scorsese's mean streets redone by someone who ignored it in favor of old 'juvenile delinquent' paperbacks with titles like leather warriors and switchblade sexpot .\n",
            "Example 1448: Actual: neg, Predicted: pos, Text: a gorgeous , somnolent show that is splendidly mummified and thoroughly unsurprising .\n",
            "Example 1449: Actual: neg, Predicted: pos, Text: just a kiss wants desperately to come off as a fanciful film about the typical problems of average people . but it is set in a world that is very , very far from the one most of us inhabit .\n",
            "Example 1450: Actual: neg, Predicted: pos, Text: the director and her capable cast appear to be caught in a heady whirl of new age-inspired good intentions , but the spell they cast isn't the least bit mesmerizing .\n",
            "Example 1451: Actual: neg, Predicted: pos, Text: de niro and mcdormand give solid performances , but their screen time is sabotaged by the story's inability to create interest .\n",
            "Example 1458: Actual: neg, Predicted: pos, Text: made me feel uneasy , even queasy , because [solondz's] cool compassion is on the border of bemused contempt .\n",
            "Example 1463: Actual: neg, Predicted: pos, Text: super troopers is an odd amalgam of comedy genres , existing somewhere between the often literal riffs of early zucker brothers/abrahams films , and the decidedly foul stylings of their post-modern contemporaries , the farrelly brothers .\n",
            "Example 1464: Actual: neg, Predicted: pos, Text: we are left with a superficial snapshot that , however engaging , is insufficiently enlightening and inviting .\n",
            "Example 1466: Actual: neg, Predicted: pos, Text: when it's all wet , blue crush is highly enjoyable . when it's on dry land , though , this surfer-girl melodrama starts gasping like a beached grouper .\n",
            "Example 1477: Actual: neg, Predicted: pos, Text: hit and miss as far as the comedy goes and a big ole' miss in the way of story .\n",
            "Example 1479: Actual: neg, Predicted: pos, Text: one of those staggeringly well-produced , joylessly extravagant pictures that keep whooshing you from one visual marvel to the next , hastily , emptily .\n",
            "Example 1482: Actual: neg, Predicted: pos, Text: the film didn't convince me that calvin jr . 's barbershop represents some sort of beacon of hope in the middle of chicago's south side .\n",
            "Example 1484: Actual: neg, Predicted: pos, Text: this is the kind of movie during which you want to bang your head on the seat in front of you , at its cluelessness , at its idiocy , at its utterly misplaced earnestness .\n",
            "Example 1486: Actual: neg, Predicted: pos, Text: o ótimo esforço do diretor acaba sendo frustrado pelo roteiro , que , depois de levar um bom tempo para colocar a trama em andamento , perde-se de vez a partir do instante em que os estranhos acontecimentos são explicados .\n",
            "Example 1494: Actual: neg, Predicted: pos, Text: caso você sinta necessidade de sair da sala antes do término da projeção , não se preocupe : ninguém lhe enviará penas simbolizando covardia .\n",
            "Example 1495: Actual: neg, Predicted: pos, Text: an unsatisfying hybrid of blair witch and typical stalk-and-slash fare , where the most conservative protagonist is always the last one living .\n",
            "Example 1496: Actual: neg, Predicted: pos, Text: sandra bullock and hugh grant make a great team , but this predictable romantic comedy should get a pink slip .\n",
            "Example 1497: Actual: neg, Predicted: pos, Text: . . . del toro maintains a dark mood that makes the film seem like something to endure instead of enjoy .\n",
            "Example 1498: Actual: neg, Predicted: pos, Text: pumpkin means to be an outrageous dark satire on fraternity life , but its ambitions far exceed the abilities of writer adam larson broder and his co-director , tony r . abrams , in their feature debut .\n",
            "Example 1499: Actual: neg, Predicted: pos, Text: those who managed to avoid the deconstructionist theorizing of french philosopher jacques derrida in college can now take an 85-minute brush-up course with the documentary derrida . or , you can do something fun tonight .\n",
            "Example 1500: Actual: neg, Predicted: pos, Text: nervous breakdowns are not entertaining .\n",
            "Example 1502: Actual: neg, Predicted: pos, Text: watching junk like this induces a kind of abstract guilt , as if you were paying dues for good books unread , fine music never heard .\n",
            "Example 1504: Actual: neg, Predicted: pos, Text: the movie is as padded as allen's jelly belly .\n",
            "Example 1505: Actual: neg, Predicted: pos, Text: hilarious musical comedy though stymied by accents thick as mud .\n",
            "Example 1510: Actual: neg, Predicted: pos, Text: a road trip that will get you thinking , 'are we there yet ? '\n",
            "Example 1531: Actual: neg, Predicted: pos, Text: no matter how you slice it , mark wahlberg and thandie newton are not hepburn and grant , two cinematic icons with chemistry galore .\n",
            "Example 1534: Actual: neg, Predicted: pos, Text: frustratingly , dridi tells us nothing about el gallo other than what emerges through his music .\n",
            "Example 1540: Actual: neg, Predicted: pos, Text: it's an awfully derivative story .\n",
            "Example 1543: Actual: neg, Predicted: pos, Text: . . . surprisingly inert for a movie in which the main character travels back and forth between epochs .\n",
            "Example 1545: Actual: neg, Predicted: pos, Text: brisk hack job .\n",
            "Example 1546: Actual: neg, Predicted: pos, Text: the issue of faith is not explored very deeply\n",
            "Example 1547: Actual: neg, Predicted: pos, Text: the filmmaker ascends , literally , to the olympus of the art world , but he would have done well to end this flawed , dazzling series with the raising of something other than his own cremaster .\n",
            "Example 1548: Actual: neg, Predicted: pos, Text: the april 2002 instalment of the american war for independence , complete with loads of cgi and bushels of violence , but not a drop of human blood .\n",
            "Example 1550: Actual: neg, Predicted: pos, Text: a half-assed film .\n",
            "Example 1562: Actual: neg, Predicted: pos, Text: the lead actors share no chemistry or engaging charisma . we don't even like their characters .\n",
            "Example 1567: Actual: neg, Predicted: pos, Text: at a brief 42 minutes , we need more x and less blab .\n",
            "Example 1574: Actual: neg, Predicted: pos, Text: the story and the friendship proceeds in such a way that you're watching a soap opera rather than a chronicle of the ups and downs that accompany lifelong friendships .\n",
            "Example 1577: Actual: neg, Predicted: pos, Text: a humorless journey into a philosophical void .\n",
            "Example 1583: Actual: neg, Predicted: pos, Text: if disney's cinderella proved that 'a dream is a wish your heart makes , ' then cinderella ii proves that a nightmare is a wish a studio's wallet makes .\n",
            "Example 1584: Actual: neg, Predicted: pos, Text: . . . post-september 11 , \" the sum of all fears \" seems more tacky and reprehensible , manipulating our collective fear without bestowing the subject with the intelligence or sincerity it unequivocally deserves .\n",
            "Example 1585: Actual: neg, Predicted: pos, Text: less a heartfelt appeal for the handicapped than a nice belgian waffle .\n",
            "Example 1586: Actual: neg, Predicted: pos, Text: the film ultimately offers nothing more than people in an urban jungle needing other people to survive . . .\n",
            "Example 1588: Actual: neg, Predicted: pos, Text: largely a for-fans artifact .\n",
            "Example 1589: Actual: neg, Predicted: pos, Text: drives for the same kind of bittersweet , conciliatory tone that three seasons achieved but loses its way in rhetorical excess and blatant sentimentality .\n",
            "Example 1600: Actual: neg, Predicted: pos, Text: the film boasts at least a few good ideas and features some decent performances , but the result is disappointing .\n",
            "Example 1604: Actual: neg, Predicted: pos, Text: the truth is that the truth about charlie gets increasingly tiresome .\n",
            "Example 1606: Actual: neg, Predicted: pos, Text: very special effects , brilliantly bold colors and heightened reality can't hide the giant achilles' heel in \" stuart little 2 \" : there's just no story , folks .\n",
            "Example 1608: Actual: neg, Predicted: pos, Text: a fairly by-the-books blend of action and romance with sprinklings of intentional and unintentional comedy .\n",
            "Example 1617: Actual: neg, Predicted: pos, Text: all of the elements are in place for a great film noir , but director george hickenlooper's approach to the material is too upbeat .\n",
            "Example 1627: Actual: neg, Predicted: pos, Text: more of an intriguing curiosity than a gripping thriller .\n",
            "Example 1629: Actual: neg, Predicted: pos, Text: may puzzle his most ardent fans .\n",
            "Example 1631: Actual: neg, Predicted: pos, Text: so genial is the conceit , this is one of those rare pictures that you root for throughout , dearly hoping that the rich promise of the script will be realized on the screen . it never is , not fully .\n",
            "Example 1635: Actual: neg, Predicted: pos, Text: the director knows how to apply textural gloss , but his portrait of sex-as-war is strictly sitcom .\n",
            "Example 1655: Actual: neg, Predicted: pos, Text: it's hard to care about a film that proposes as epic tragedy the plight of a callow rich boy who is forced to choose between his beautiful , self-satisfied 22-year-old girlfriend and an equally beautiful , self-satisfied 18-year-old mistress .\n",
            "Example 1658: Actual: neg, Predicted: pos, Text: sushi for the connoisseurs of the macabre .\n",
            "Example 1659: Actual: neg, Predicted: pos, Text: even legends like alfred hitchcock and john huston occasionally directed trifles . . . so it's no surprise to see a world-class filmmaker like zhang yimou behind the camera for a yarn that's ultimately rather inconsequential .\n",
            "Example 1660: Actual: neg, Predicted: pos, Text: a hit- and-miss affair , consistently amusing but not as outrageous or funny as cho may have intended or as imaginative as one might have hoped .\n",
            "Example 1661: Actual: neg, Predicted: pos, Text: the re- enactments , however fascinating they may be as history , are too crude to serve the work especially well .\n",
            "Example 1663: Actual: neg, Predicted: pos, Text: a puzzle whose pieces do not fit . some are fascinating and others are not , and in the end , it is almost a good movie .\n",
            "Example 1664: Actual: neg, Predicted: pos, Text: there is one surefire way to get a nomination for a best-foreign-film oscar : make a movie about whimsical folk who learn a nonchallenging , life-affirming lesson while walking around a foreign city with stunning architecture .\n",
            "Example 1667: Actual: neg, Predicted: pos, Text: it's inoffensive , cheerful , built to inspire the young people , set to an unending soundtrack of beach party pop numbers and aside from its remarkable camerawork and awesome scenery , it's about as exciting as a sunburn .\n",
            "Example 1684: Actual: neg, Predicted: pos, Text: observant intelligence constantly vies with pretension -- and sometimes plain wacky implausibility -- throughout maelstrom .\n",
            "Example 1685: Actual: neg, Predicted: pos, Text: directed by kevin bray , whose crisp framing , edgy camera work , and wholesale ineptitude with acting , tone and pace very obviously mark him as a video helmer making his feature debut .\n",
            "Example 1690: Actual: neg, Predicted: pos, Text: a fast-paced , glitzy but extremely silly piece .\n",
            "Example 1691: Actual: neg, Predicted: pos, Text: there is not an ounce of honesty in the entire production .\n",
            "Example 1693: Actual: neg, Predicted: pos, Text: corpus collosum -- while undeniably interesting -- wore out its welcome well before the end credits rolled about 45 minutes in .\n",
            "Example 1709: Actual: neg, Predicted: pos, Text: does little more than play an innocuous game of fill-in- the-blanks with a tragic past .\n",
            "Example 1713: Actual: neg, Predicted: pos, Text: filled with low-brow humor , gratuitous violence and a disturbing disregard for life .\n",
            "Example 1730: Actual: neg, Predicted: pos, Text: a collage of clichés and a dim echo of allusions to other films .\n",
            "Example 1740: Actual: neg, Predicted: pos, Text: about as original as a gangster sweating bullets while worrying about a contract on his life .\n",
            "Example 1748: Actual: neg, Predicted: pos, Text: in its chicken heart , crush goes to absurd lengths to duck the very issues it raises .\n",
            "Example 1752: Actual: neg, Predicted: pos, Text: j . lo will earn her share of the holiday box office pie , although this movie makes one thing perfectly clear : she's a pretty woman , but she's no working girl .\n",
            "Example 1754: Actual: neg, Predicted: pos, Text: the sort of picture in which , whenever one of the characters has some serious soul searching to do , they go to a picture-perfect beach during sunset .\n",
            "Example 1755: Actual: neg, Predicted: pos, Text: a crude teen-oriented variation on a theme that the playwright craig lucas explored with infinitely more grace and eloquence in his prelude to a kiss .\n",
            "Example 1763: Actual: neg, Predicted: pos, Text: how much you are moved by the emotional tumult of [françois and michèle's] relationship depends a lot on how interesting and likable you find them .\n",
            "Example 1776: Actual: neg, Predicted: pos, Text: it's one pussy-ass world when even killer-thrillers revolve around group therapy sessions .\n",
            "Example 1783: Actual: neg, Predicted: pos, Text: sheridan had a wonderful account to work from , but , curiously , he waters it down , turning grit and vulnerability into light reading .\n",
            "Example 1784: Actual: neg, Predicted: pos, Text: skins has a right to yawp , and we have a right to our grains of salt .\n",
            "Example 1786: Actual: neg, Predicted: pos, Text: what [frei] gives us . . . is a man who uses the damage of war -- far more often than the warfare itself -- to create the kind of art shots that fill gallery shows .\n",
            "Example 1787: Actual: neg, Predicted: pos, Text: if you want a movie time trip , the 1960 version is a far smoother ride .\n",
            "Example 1788: Actual: neg, Predicted: pos, Text: hoffman waits too long to turn his movie in an unexpected direction , and even then his tone retains a genteel , prep-school quality that feels dusty and leatherbound .\n",
            "Example 1797: Actual: neg, Predicted: pos, Text: below is well below expectations .\n",
            "Example 1799: Actual: neg, Predicted: pos, Text: lástima por schwarzenegger , pero es hora de que deje la estafeta a las nuevas generaciones .\n",
            "Example 1801: Actual: neg, Predicted: pos, Text: what was subtle and mystifying in the novella is now broad and farcical .\n",
            "Example 1804: Actual: neg, Predicted: pos, Text: when mr . hundert tells us in his narration that 'this is a story without surprises , ' we nod in agreement .\n",
            "Example 1807: Actual: neg, Predicted: pos, Text: there's a disturbing 'great white hope' undertone to the other side of heaven that subtly undermines its message of christian love and compassion .\n",
            "Example 1808: Actual: neg, Predicted: pos, Text: though this saga would be terrific to read about , it is dicey screen material that only a genius should touch .\n",
            "Example 1810: Actual: neg, Predicted: pos, Text: if only the story about a multi-million dollar con bothered to include the con .\n",
            "Example 1814: Actual: neg, Predicted: pos, Text: how i killed my father is one of those art house films that makes you feel like you're watching an iceberg melt -- only it never melts .\n",
            "Example 1817: Actual: neg, Predicted: pos, Text: if the predictability of bland comfort food appeals to you , then the film is a pleasant enough dish .\n",
            "Example 1828: Actual: neg, Predicted: pos, Text: the very definition of what critics have come to term an \" ambitious failure . \"\n",
            "Example 1831: Actual: neg, Predicted: pos, Text: a markedly inactive film , city is conversational bordering on confessional .\n",
            "Example 1848: Actual: neg, Predicted: pos, Text: a incompetência de marcus adams como roteirista só é superada por sua péssima direção .\n",
            "Example 1851: Actual: neg, Predicted: pos, Text: director kevin bray excels in breaking glass and marking off the \" miami vice \" checklist of power boats , latin music and dog tracks . he doesn't , however , deliver nearly enough of the show's trademark style and flash .\n",
            "Example 1853: Actual: neg, Predicted: pos, Text: an inexperienced director , mehta has much to learn .\n",
            "Example 1857: Actual: neg, Predicted: pos, Text: what the director can&#8217 ; t do is make either of val kilmer&#8217 ; s two personas interesting or worth caring about .\n",
            "Example 1864: Actual: neg, Predicted: pos, Text: absolutely ( and unintentionally ) terrifying .\n",
            "Example 1865: Actual: neg, Predicted: pos, Text: sheridan seems terrified of the book's irreverent energy , and scotches most of its élan , humor , bile , and irony .\n",
            "Example 1868: Actual: neg, Predicted: pos, Text: it believes it's revealing some great human truths , when , in reality , it's churning ground that has long passed the point of being fertile .\n",
            "Example 1869: Actual: neg, Predicted: pos, Text: for all the complications , it's all surprisingly predictable .\n",
            "Example 1870: Actual: neg, Predicted: pos, Text: well-made but mush-hearted .\n",
            "Example 1872: Actual: neg, Predicted: pos, Text: essentially , the film is weak on detail and strong on personality\n",
            "Example 1873: Actual: neg, Predicted: pos, Text: it may play well as a double feature with mainstream foreign mush like my big fat greek wedding\n",
            "Example 1876: Actual: neg, Predicted: pos, Text: it's lost the politics and the social observation and become just another situation romance about a couple of saps stuck in an inarticulate screenplay .\n",
            "Example 1877: Actual: neg, Predicted: pos, Text: sandra bullock , despite downplaying her good looks , carries a little too much ain't- she-cute baggage into her lead role as a troubled and determined homicide cop to quite pull off the heavy stuff .\n",
            "Example 1881: Actual: neg, Predicted: pos, Text: all mood and no movie .\n",
            "Example 1887: Actual: neg, Predicted: pos, Text: a mimetic approximation of better films like contempt and 8 1/2 .\n",
            "Example 1898: Actual: neg, Predicted: pos, Text: a chiller resolutely without chills .\n",
            "Example 1900: Actual: neg, Predicted: pos, Text: delivers the same old same old , tarted up with latin flava and turned out by hollywood playas .\n",
            "Example 1904: Actual: neg, Predicted: pos, Text: i guess it just goes to show that if you give a filmmaker an unlimited amount of phony blood , nothing good can happen .\n",
            "Example 1905: Actual: neg, Predicted: pos, Text: yo , it's the days of our lives meets electric boogaloo .\n",
            "Example 1908: Actual: neg, Predicted: pos, Text: once he starts learning to compromise with reality enough to become comparatively sane and healthy , the film becomes predictably conventional .\n",
            "Example 1909: Actual: neg, Predicted: pos, Text: the colorful masseur wastes its time on mood rather than riding with the inherent absurdity of ganesh's rise up the social ladder .\n",
            "Example 1912: Actual: neg, Predicted: pos, Text: though this rude and crude film does deliver a few gut-busting laughs , its digs at modern society are all things we've seen before .\n",
            "Example 1914: Actual: neg, Predicted: pos, Text: what little atmosphere is generated by the shadowy lighting , macabre sets , and endless rain is offset by the sheer ugliness of everything else .\n",
            "Example 1928: Actual: neg, Predicted: pos, Text: this is the first full scale wwii flick from hong kong's john woo . he's not good with people .\n",
            "Example 1932: Actual: neg, Predicted: pos, Text: it smacks of purely commercial motivation , with no great love for the original .\n",
            "Example 1933: Actual: neg, Predicted: pos, Text: her film is like a beautiful food entrée that isn't heated properly , so that it ends up a bit cold and relatively flavorless .\n",
            "Example 1934: Actual: neg, Predicted: pos, Text: short and sweet , but also more than anything else slight tadpole pulls back from the consequences of its own actions and revelations .\n",
            "Example 1939: Actual: neg, Predicted: pos, Text: jason x is positively anti-darwinian : nine sequels and 400 years later , the teens are none the wiser and jason still kills on auto-pilot .\n",
            "Example 1945: Actual: neg, Predicted: pos, Text: the story , touching though it is , does not quite have enough emotional resonance or variety of incident to sustain a feature , and even at 85 minutes it feels a bit long .\n",
            "Example 1946: Actual: neg, Predicted: pos, Text: this is a heartfelt story . . . it just isn't a very involving one .\n",
            "Example 1952: Actual: neg, Predicted: pos, Text: screenwriters scott abbott and michael petroni have turned rice's complex akasha into a cartoon monster .\n",
            "Example 1956: Actual: neg, Predicted: pos, Text: there are more shots of children smiling for the camera than typical documentary footage which hurts the overall impact of the film . it's makes a better travelogue than movie .\n",
            "Example 1960: Actual: neg, Predicted: pos, Text: the campy results make mel brooks' borscht belt schtick look sophisticated .\n",
            "Example 1965: Actual: neg, Predicted: pos, Text: one of those decades-spanning historical epics that strives to be intimate and socially encompassing but fails to do justice to either effort in three hours of screen time .\n",
            "Example 1971: Actual: neg, Predicted: pos, Text: staggeringly dreadful romance .\n",
            "Example 1973: Actual: neg, Predicted: pos, Text: it's difficult for a longtime admirer of his work to not be swept up in invincible and overlook its drawbacks .\n",
            "Example 1975: Actual: neg, Predicted: pos, Text: an uneven mix of dark satire and childhood awakening .\n",
            "Example 1982: Actual: neg, Predicted: pos, Text: the story alone could force you to scratch a hole in your head .\n",
            "Example 1990: Actual: neg, Predicted: pos, Text: a hamfisted romantic comedy that makes our girl the hapless facilitator of an extended cheap shot across the mason-dixon line .\n",
            "Example 2005: Actual: neg, Predicted: pos, Text: when one hears harry shearer is going to make his debut as a film director , one would hope for the best\n",
            "Example 2007: Actual: neg, Predicted: pos, Text: dilbert without the right-on satiric humor .\n",
            "Example 2008: Actual: neg, Predicted: pos, Text: [a] shapeless blob of desperate entertainment .\n",
            "Example 2009: Actual: neg, Predicted: pos, Text: some body smacks of exhibitionism more than it does cathartic truth telling .\n",
            "Example 2012: Actual: neg, Predicted: pos, Text: blessed with immense physical prowess he may well be , but ahola is simply not an actor . and in truth , cruel as it may sound , he makes arnold schwarzenegger look like spencer tracy .\n",
            "Example 2023: Actual: neg, Predicted: pos, Text: aaliyah rarely dampens her diva persona enough to spark genuine chemistry with townsend . when she speaks , her creepy egyptian demigod voice is as computer processed and overproduced as it was in her music .\n",
            "Example 2025: Actual: neg, Predicted: pos, Text: it's hard to like a film about a guy who is utterly unlikeable , and shiner , starring michael caine as an aging british boxing promoter desperate for a taste of fame and fortune , is certainly that .\n",
            "Example 2027: Actual: neg, Predicted: pos, Text: never quite transcends jokester status . . . and the punchline doesn't live up to barry's dead-eyed , perfectly chilled delivery .\n",
            "Example 2031: Actual: neg, Predicted: pos, Text: for all of its insights into the dream world of teen life , and its electronic expression through cyber culture , the film gives no quarter to anyone seeking to pull a cohesive story out of its 2 1/2-hour running time .\n",
            "Example 2033: Actual: neg, Predicted: pos, Text: strident and inelegant in its 'message-movie' posturing .\n",
            "Example 2035: Actual: neg, Predicted: pos, Text: the dose is strong and funny , for the first 15 minutes anyway ; after that , the potency wanes dramatically .\n",
            "Example 2036: Actual: neg, Predicted: pos, Text: perfectly enjoyable , instantly forgettable , nothing to write home about .\n",
            "Example 2049: Actual: neg, Predicted: pos, Text: a film that loses sight of its own story .\n",
            "Example 2050: Actual: neg, Predicted: pos, Text: don michael paul uses quick-cuts , ( very ) large shadows and wide-angle shots taken from a distance to hide the liberal use of a body double ( for seagal ) .\n",
            "Example 2062: Actual: neg, Predicted: pos, Text: jones helps breathe some life into the insubstantial plot , but even he is overwhelmed by predictability .\n",
            "Example 2069: Actual: neg, Predicted: pos, Text: diaz , applegate , blair and posey are suitably kooky which should appeal to women and they strip down often enough to keep men alert , if not amused .\n",
            "Example 2070: Actual: neg, Predicted: pos, Text: so faithful to the doldrums of the not-quite-urban , not-quite-suburban milieu as to have viewers recoiling from the reality check .\n",
            "Example 2074: Actual: neg, Predicted: pos, Text: lush and beautifully photographed ( somebody suggested the stills might make a nice coffee table book ) , but ultimately you'll leave the theater wondering why these people mattered .\n",
            "Example 2077: Actual: neg, Predicted: pos, Text: the gifted crudup has the perfect face to play a handsome blank yearning to find himself , and his cipherlike personality and bad behavior would play fine if the movie knew what to do with him .\n",
            "Example 2078: Actual: neg, Predicted: pos, Text: another useless recycling of a brutal mid-'70s american sports movie .\n",
            "Example 2090: Actual: neg, Predicted: pos, Text: the drama was so uninspiring that even a story immersed in love , lust , and sin couldn't keep my attention .\n",
            "Example 2095: Actual: neg, Predicted: pos, Text: the filmmakers know how to please the eye , but it is not always the prettiest pictures that tell the best story .\n",
            "Example 2099: Actual: neg, Predicted: pos, Text: a great ensemble cast can't lift this heartfelt enterprise out of the familiar .\n",
            "Example 2104: Actual: neg, Predicted: pos, Text: outer-space buffs might love this film , but others will find its pleasures intermittent .\n",
            "Example 2105: Actual: neg, Predicted: pos, Text: an affable but undernourished romantic comedy that fails to match the freshness of the actress-producer and writer's previous collaboration , miss congeniality .\n",
            "Example 2106: Actual: neg, Predicted: pos, Text: stephen earnhart's documentary is a decomposition of healthy eccentric inspiration and ambition  wearing a cloak of unsentimental , straightforward text  when it's really an exercise in gross romanticization of the delusional personality type .\n",
            "Example 2110: Actual: neg, Predicted: pos, Text: what little grace [rifkin's] tale of precarious skid-row dignity achieves is pushed into the margins by predictable plotting and tiresome histrionics .\n",
            "Example 2111: Actual: neg, Predicted: pos, Text: here's a self-congratulatory 3d imax rah-rah .\n",
            "Example 2113: Actual: neg, Predicted: pos, Text: deserving of its critical backlash and more .\n",
            "Example 2114: Actual: neg, Predicted: pos, Text: far too clever by half , howard's film is really a series of strung-together moments , with all the spaces in between filled with fantasies , daydreams , memories and one fantastic visual trope after another .\n",
            "Example 2115: Actual: neg, Predicted: pos, Text: real-life strongman ahola lacks the charisma and ability to carry the film on his admittedly broad shoulders .\n",
            "Example 2124: Actual: neg, Predicted: pos, Text: city by the sea is the cinematic equivalent of defensive driving : it's careful , conscientious and makes no major mistakes . but what saves lives on the freeway does not necessarily make for persuasive viewing .\n",
            "Example 2125: Actual: neg, Predicted: pos, Text: [i]t's certainly laudable that the movie deals with hot-button issues in a comedic context , but barbershop isn't as funny as it should be .\n",
            "Example 2126: Actual: neg, Predicted: pos, Text: [taylor] takes us on a ride that's consistently surprising , easy to watch -- but , oh , so dumb .\n"
          ]
        }
      ],
      "source": [
        "# CONTRIBUTE YOUR SOLUTION/CODE\n",
        "\n",
        "from sklearn.metrics import confusion_matrix\n",
        "import seaborn as sns\n",
        "\n",
        "# Generate the confusion matrix\n",
        "cm = confusion_matrix(dev_labels, dev_preds, labels=['pos', 'neg'])\n",
        "\n",
        "# Plot the confusion matrix\n",
        "sns.heatmap(cm, annot=True, fmt='d', cmap='Blues', xticklabels=['pos', 'neg'], yticklabels=['pos', 'neg'])\n",
        "plt.xlabel('Predicted')\n",
        "plt.ylabel('Actual')\n",
        "plt.title('Confusion Matrix')\n",
        "plt.show()\n",
        "\n",
        "# Manual inspection of mistakes\n",
        "# Print false positives and false negatives\n",
        "for i, (label, pred) in enumerate(zip(dev_labels, dev_preds)):\n",
        "    if label != pred:\n",
        "        print(f\"Example {i}: Actual: {label}, Predicted: {pred}, Text: {' '.join(dev_data[i])}\")\n"
      ]
    }
  ],
  "metadata": {
    "colab": {
      "name": "T2.ipynb",
      "provenance": [],
      "toc_visible": true
    },
    "kernelspec": {
      "display_name": "Python 3 (ipykernel)",
      "language": "python",
      "name": "python3"
    },
    "language_info": {
      "codemirror_mode": {
        "name": "ipython",
        "version": 3
      },
      "file_extension": ".py",
      "mimetype": "text/x-python",
      "name": "python",
      "nbconvert_exporter": "python",
      "pygments_lexer": "ipython3",
      "version": "3.9.15"
    }
  },
  "nbformat": 4,
  "nbformat_minor": 0
}